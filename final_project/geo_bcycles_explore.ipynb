{
 "cells": [
  {
   "cell_type": "markdown",
   "metadata": {},
   "source": [
    "This is my \"sandbox\" to play around with the BEA api. My plan is to use this for my regional cycle project. Below I explain how to use the BEA api (stuff has changed since I last messed around with it)"
   ]
  },
  {
   "cell_type": "code",
   "execution_count": 187,
   "metadata": {
    "collapsed": true
   },
   "outputs": [],
   "source": [
    "import pandas as pd\n",
    "import requests\n",
    "import numpy as np"
   ]
  },
  {
   "cell_type": "code",
   "execution_count": 10,
   "metadata": {
    "collapsed": true
   },
   "outputs": [],
   "source": [
    "BEA_ID = \"put in here\""
   ]
  },
  {
   "cell_type": "markdown",
   "metadata": {},
   "source": [
    "After getting your key. [Here is some basic documentation](https://www.bea.gov/API/bea_web_service_api_user_guide.htm). Like a lot APIs, basic idea is to specify the URL in the proper way and it will return some output in a specified format. We can then convert the format (its .json) into a dataframe:\n",
    "\n"
   ]
  },
  {
   "cell_type": "code",
   "execution_count": 147,
   "metadata": {
    "collapsed": true
   },
   "outputs": [],
   "source": [
    "API_URL = \"https://bea.gov/api/data?&UserID=6BF79D8C-8042-4196-88DC-0E0C55B0C3B6&method=GETDATASETLIST&ResultFormat=JSON&\"\n",
    "    \n",
    "r = requests.get(API_URL)"
   ]
  },
  {
   "cell_type": "code",
   "execution_count": 152,
   "metadata": {},
   "outputs": [
    {
     "data": {
      "text/plain": [
       "requests.models.Response"
      ]
     },
     "execution_count": 152,
     "metadata": {},
     "output_type": "execute_result"
    }
   ],
   "source": [
    "type(r)\n"
   ]
  },
  {
   "cell_type": "code",
   "execution_count": 153,
   "metadata": {},
   "outputs": [
    {
     "data": {
      "text/plain": [
       "dict"
      ]
     },
     "execution_count": 153,
     "metadata": {},
     "output_type": "execute_result"
    }
   ],
   "source": [
    "type(r.json())"
   ]
  },
  {
   "cell_type": "code",
   "execution_count": 160,
   "metadata": {},
   "outputs": [
    {
     "name": "stdout",
     "output_type": "stream",
     "text": [
      "dict_keys(['BEAAPI'])\n",
      "dict_keys(['Results', 'Request'])\n",
      "dict_keys(['Dataset'])\n"
     ]
    }
   ],
   "source": [
    "print(r.json().keys())\n",
    "\n",
    "print(r.json()['BEAAPI'].keys())\n",
    "\n",
    "print(r.json()['BEAAPI'][\"Results\"].keys())"
   ]
  },
  {
   "cell_type": "markdown",
   "metadata": {},
   "source": [
    "This then leads to the insight that the `.json()` is a bunch of dictionaries within the dictionaries and that by working through it we can find a \"root dictionary\" that can be converted into a usable DataFrame"
   ]
  },
  {
   "cell_type": "code",
   "execution_count": 161,
   "metadata": {
    "collapsed": true
   },
   "outputs": [],
   "source": [
    "df = pd.DataFrame(r.json()[\"BEAAPI\"][\"Results\"]['Dataset'])"
   ]
  },
  {
   "cell_type": "code",
   "execution_count": 162,
   "metadata": {},
   "outputs": [
    {
     "data": {
      "text/html": [
       "<div>\n",
       "<style scoped>\n",
       "    .dataframe tbody tr th:only-of-type {\n",
       "        vertical-align: middle;\n",
       "    }\n",
       "\n",
       "    .dataframe tbody tr th {\n",
       "        vertical-align: top;\n",
       "    }\n",
       "\n",
       "    .dataframe thead th {\n",
       "        text-align: right;\n",
       "    }\n",
       "</style>\n",
       "<table border=\"1\" class=\"dataframe\">\n",
       "  <thead>\n",
       "    <tr style=\"text-align: right;\">\n",
       "      <th></th>\n",
       "      <th>DatasetDescription</th>\n",
       "      <th>DatasetName</th>\n",
       "    </tr>\n",
       "  </thead>\n",
       "  <tbody>\n",
       "    <tr>\n",
       "      <th>0</th>\n",
       "      <td>The RegionalData dataset is obsolete. Please u...</td>\n",
       "      <td>RegionalData</td>\n",
       "    </tr>\n",
       "    <tr>\n",
       "      <th>1</th>\n",
       "      <td>Standard NIPA tables</td>\n",
       "      <td>NIPA</td>\n",
       "    </tr>\n",
       "    <tr>\n",
       "      <th>2</th>\n",
       "      <td>Standard NI underlying detail tables</td>\n",
       "      <td>NIUnderlyingDetail</td>\n",
       "    </tr>\n",
       "    <tr>\n",
       "      <th>3</th>\n",
       "      <td>Multinational Enterprises</td>\n",
       "      <td>MNE</td>\n",
       "    </tr>\n",
       "    <tr>\n",
       "      <th>4</th>\n",
       "      <td>Standard Fixed Assets tables</td>\n",
       "      <td>FixedAssets</td>\n",
       "    </tr>\n",
       "    <tr>\n",
       "      <th>5</th>\n",
       "      <td>International Transactions Accounts</td>\n",
       "      <td>ITA</td>\n",
       "    </tr>\n",
       "    <tr>\n",
       "      <th>6</th>\n",
       "      <td>International Investment Position</td>\n",
       "      <td>IIP</td>\n",
       "    </tr>\n",
       "    <tr>\n",
       "      <th>7</th>\n",
       "      <td>GDP by Industry</td>\n",
       "      <td>GDPbyIndustry</td>\n",
       "    </tr>\n",
       "    <tr>\n",
       "      <th>8</th>\n",
       "      <td>Regional Income data sets</td>\n",
       "      <td>RegionalIncome</td>\n",
       "    </tr>\n",
       "    <tr>\n",
       "      <th>9</th>\n",
       "      <td>Regional Product data sets</td>\n",
       "      <td>RegionalProduct</td>\n",
       "    </tr>\n",
       "    <tr>\n",
       "      <th>10</th>\n",
       "      <td>Input-Output Data</td>\n",
       "      <td>InputOutput</td>\n",
       "    </tr>\n",
       "    <tr>\n",
       "      <th>11</th>\n",
       "      <td>Underlying GDP by Industry</td>\n",
       "      <td>UnderlyingGDPbyIndustry</td>\n",
       "    </tr>\n",
       "    <tr>\n",
       "      <th>12</th>\n",
       "      <td>International Services Trade</td>\n",
       "      <td>IntlServTrade</td>\n",
       "    </tr>\n",
       "    <tr>\n",
       "      <th>13</th>\n",
       "      <td>Metadata about other API datasets</td>\n",
       "      <td>APIDatasetMetaData</td>\n",
       "    </tr>\n",
       "  </tbody>\n",
       "</table>\n",
       "</div>"
      ],
      "text/plain": [
       "                                   DatasetDescription              DatasetName\n",
       "0   The RegionalData dataset is obsolete. Please u...             RegionalData\n",
       "1                                Standard NIPA tables                     NIPA\n",
       "2                Standard NI underlying detail tables       NIUnderlyingDetail\n",
       "3                           Multinational Enterprises                      MNE\n",
       "4                        Standard Fixed Assets tables              FixedAssets\n",
       "5                 International Transactions Accounts                      ITA\n",
       "6                   International Investment Position                      IIP\n",
       "7                                     GDP by Industry            GDPbyIndustry\n",
       "8                           Regional Income data sets           RegionalIncome\n",
       "9                          Regional Product data sets          RegionalProduct\n",
       "10                                  Input-Output Data              InputOutput\n",
       "11                         Underlying GDP by Industry  UnderlyingGDPbyIndustry\n",
       "12                       International Services Trade            IntlServTrade\n",
       "13                  Metadata about other API datasets       APIDatasetMetaData"
      ]
     },
     "execution_count": 162,
     "metadata": {},
     "output_type": "execute_result"
    }
   ],
   "source": [
    "df"
   ]
  },
  {
   "cell_type": "markdown",
   "metadata": {},
   "source": [
    "Then this gives us the different datasets that are available through the BEA api. Now below, I'm going to grab personal income at the county level. The documentation for grabing this is [here](https://www.bea.gov/API/bea_web_service_api_user_guide.htm)"
   ]
  },
  {
   "cell_type": "code",
   "execution_count": null,
   "metadata": {
    "collapsed": true
   },
   "outputs": [],
   "source": []
  },
  {
   "cell_type": "code",
   "execution_count": 429,
   "metadata": {
    "collapsed": true
   },
   "outputs": [],
   "source": [
    "my_key = \"https://bea.gov/api/data?&UserID=6BF79D8C-8042-4196-88DC-0E0C55B0C3B6&method=GetData&\"\n",
    "\n",
    "data_set = \"datasetname=RegionalIncome&\"\n",
    "\n",
    "table_and_line_income = \"TableName=CA1&LineCode=3&\"\n",
    "\n",
    "table_and_line_population = \"TableName=CA1&LineCode=2&\"\n",
    "\n",
    "year = \"Year=1969,2015&\"\n",
    "\n",
    "location = \"GeoFips=COUNTY&\"\n",
    "\n",
    "form = \"ResultFormat=json\""
   ]
  },
  {
   "cell_type": "code",
   "execution_count": 430,
   "metadata": {
    "collapsed": true,
    "scrolled": false
   },
   "outputs": [],
   "source": [
    "API_URL = my_key + data_set + table_and_line_income + year + location + form\n",
    "\n",
    "r = requests.get(API_URL)\n",
    "\n",
    "df_income = pd.DataFrame(r.json()[\"BEAAPI\"][\"Results\"][\"Data\"])"
   ]
  },
  {
   "cell_type": "code",
   "execution_count": 431,
   "metadata": {},
   "outputs": [
    {
     "data": {
      "text/html": [
       "<div>\n",
       "<style scoped>\n",
       "    .dataframe tbody tr th:only-of-type {\n",
       "        vertical-align: middle;\n",
       "    }\n",
       "\n",
       "    .dataframe tbody tr th {\n",
       "        vertical-align: top;\n",
       "    }\n",
       "\n",
       "    .dataframe thead th {\n",
       "        text-align: right;\n",
       "    }\n",
       "</style>\n",
       "<table border=\"1\" class=\"dataframe\">\n",
       "  <thead>\n",
       "    <tr style=\"text-align: right;\">\n",
       "      <th></th>\n",
       "      <th>IncomePC</th>\n",
       "      <th>GeoFips</th>\n",
       "      <th>GeoName</th>\n",
       "      <th>TimePeriod</th>\n",
       "    </tr>\n",
       "  </thead>\n",
       "  <tbody>\n",
       "    <tr>\n",
       "      <th>0</th>\n",
       "      <td>3930</td>\n",
       "      <td>00000</td>\n",
       "      <td>United States</td>\n",
       "      <td>1969</td>\n",
       "    </tr>\n",
       "    <tr>\n",
       "      <th>1</th>\n",
       "      <td>48451</td>\n",
       "      <td>00000</td>\n",
       "      <td>United States</td>\n",
       "      <td>2015</td>\n",
       "    </tr>\n",
       "    <tr>\n",
       "      <th>2</th>\n",
       "      <td>38214</td>\n",
       "      <td>01000</td>\n",
       "      <td>Alabama</td>\n",
       "      <td>2015</td>\n",
       "    </tr>\n",
       "    <tr>\n",
       "      <th>3</th>\n",
       "      <td>2827</td>\n",
       "      <td>01000</td>\n",
       "      <td>Alabama</td>\n",
       "      <td>1969</td>\n",
       "    </tr>\n",
       "    <tr>\n",
       "      <th>4</th>\n",
       "      <td>2774</td>\n",
       "      <td>01001</td>\n",
       "      <td>Autauga, AL</td>\n",
       "      <td>1969</td>\n",
       "    </tr>\n",
       "  </tbody>\n",
       "</table>\n",
       "</div>"
      ],
      "text/plain": [
       "  IncomePC GeoFips        GeoName TimePeriod\n",
       "0     3930   00000  United States       1969\n",
       "1    48451   00000  United States       2015\n",
       "2    38214   01000        Alabama       2015\n",
       "3     2827   01000        Alabama       1969\n",
       "4     2774   01001    Autauga, AL       1969"
      ]
     },
     "execution_count": 431,
     "metadata": {},
     "output_type": "execute_result"
    }
   ],
   "source": [
    "df_income.drop(['CL_UNIT', 'Code',\"NoteRef\", \"UNIT_MULT\"], axis=1, inplace = True)\n",
    "\n",
    "#df[\"DataValue\"].column = \"IncomePC\"\n",
    "\n",
    "df_income.rename(columns={\"DataValue\":\"IncomePC\"}, inplace=True)\n",
    "\n",
    "df_income.head()"
   ]
  },
  {
   "cell_type": "code",
   "execution_count": 432,
   "metadata": {
    "scrolled": true
   },
   "outputs": [
    {
     "data": {
      "text/html": [
       "<div>\n",
       "<style scoped>\n",
       "    .dataframe tbody tr th:only-of-type {\n",
       "        vertical-align: middle;\n",
       "    }\n",
       "\n",
       "    .dataframe tbody tr th {\n",
       "        vertical-align: top;\n",
       "    }\n",
       "\n",
       "    .dataframe thead th {\n",
       "        text-align: right;\n",
       "    }\n",
       "</style>\n",
       "<table border=\"1\" class=\"dataframe\">\n",
       "  <thead>\n",
       "    <tr style=\"text-align: right;\">\n",
       "      <th></th>\n",
       "      <th>Population</th>\n",
       "      <th>GeoFips</th>\n",
       "      <th>TimePeriod</th>\n",
       "    </tr>\n",
       "  </thead>\n",
       "  <tbody>\n",
       "    <tr>\n",
       "      <th>0</th>\n",
       "      <td>201298000</td>\n",
       "      <td>00000</td>\n",
       "      <td>1969</td>\n",
       "    </tr>\n",
       "    <tr>\n",
       "      <th>1</th>\n",
       "      <td>320896618</td>\n",
       "      <td>00000</td>\n",
       "      <td>2015</td>\n",
       "    </tr>\n",
       "    <tr>\n",
       "      <th>2</th>\n",
       "      <td>4853875</td>\n",
       "      <td>01000</td>\n",
       "      <td>2015</td>\n",
       "    </tr>\n",
       "    <tr>\n",
       "      <th>3</th>\n",
       "      <td>3440000</td>\n",
       "      <td>01000</td>\n",
       "      <td>1969</td>\n",
       "    </tr>\n",
       "    <tr>\n",
       "      <th>4</th>\n",
       "      <td>25166</td>\n",
       "      <td>01001</td>\n",
       "      <td>1969</td>\n",
       "    </tr>\n",
       "  </tbody>\n",
       "</table>\n",
       "</div>"
      ],
      "text/plain": [
       "  Population GeoFips TimePeriod\n",
       "0  201298000   00000       1969\n",
       "1  320896618   00000       2015\n",
       "2    4853875   01000       2015\n",
       "3    3440000   01000       1969\n",
       "4      25166   01001       1969"
      ]
     },
     "execution_count": 432,
     "metadata": {},
     "output_type": "execute_result"
    }
   ],
   "source": [
    "API_URL = my_key + data_set + table_and_line_population + year + location + form\n",
    "\n",
    "r = requests.get(API_URL)\n",
    "\n",
    "population = pd.DataFrame(r.json()[\"BEAAPI\"][\"Results\"][\"Data\"])\n",
    "\n",
    "population.drop(['CL_UNIT', 'Code',\"NoteRef\", \"UNIT_MULT\", \"GeoName\"], axis=1, inplace = True)\n",
    "\n",
    "#df[\"DataValue\"].column = \"IncomePC\"\n",
    "\n",
    "population.rename(columns={\"DataValue\":\"Population\"}, inplace=True)\n",
    "\n",
    "population.head()"
   ]
  },
  {
   "cell_type": "code",
   "execution_count": 457,
   "metadata": {
    "collapsed": true
   },
   "outputs": [],
   "source": [
    "combo = pd.merge(population, df_income,   # left df, right df\n",
    "                 how='inner',      # Try the different options, inner, outer, left, right...what happens.\n",
    "                 on=['GeoFips',\"TimePeriod\"],       # link with cntry\n",
    "                 indicator=True)  # Tells us what happend"
   ]
  },
  {
   "cell_type": "code",
   "execution_count": 458,
   "metadata": {
    "collapsed": true
   },
   "outputs": [],
   "source": [
    "combo[\"TimePeriod\"] = pd.to_datetime(combo[\"TimePeriod\"], infer_datetime_format = True)\n",
    "\n",
    "#combo.sort_values(by = \"TimePeriod\", inplace = True)"
   ]
  },
  {
   "cell_type": "code",
   "execution_count": 459,
   "metadata": {
    "collapsed": true
   },
   "outputs": [],
   "source": [
    "combo.set_index([\"GeoFips\",\"TimePeriod\"],inplace = True)"
   ]
  },
  {
   "cell_type": "code",
   "execution_count": 462,
   "metadata": {
    "collapsed": true
   },
   "outputs": [],
   "source": [
    "combo.sort_index(level=\"GeoFips\", inplace = True)"
   ]
  },
  {
   "cell_type": "code",
   "execution_count": 464,
   "metadata": {},
   "outputs": [
    {
     "data": {
      "text/html": [
       "<div>\n",
       "<style scoped>\n",
       "    .dataframe tbody tr th:only-of-type {\n",
       "        vertical-align: middle;\n",
       "    }\n",
       "\n",
       "    .dataframe tbody tr th {\n",
       "        vertical-align: top;\n",
       "    }\n",
       "\n",
       "    .dataframe thead th {\n",
       "        text-align: right;\n",
       "    }\n",
       "</style>\n",
       "<table border=\"1\" class=\"dataframe\">\n",
       "  <thead>\n",
       "    <tr style=\"text-align: right;\">\n",
       "      <th></th>\n",
       "      <th></th>\n",
       "      <th>Population</th>\n",
       "      <th>IncomePC</th>\n",
       "      <th>GeoName</th>\n",
       "      <th>_merge</th>\n",
       "    </tr>\n",
       "    <tr>\n",
       "      <th>GeoFips</th>\n",
       "      <th>TimePeriod</th>\n",
       "      <th></th>\n",
       "      <th></th>\n",
       "      <th></th>\n",
       "      <th></th>\n",
       "    </tr>\n",
       "  </thead>\n",
       "  <tbody>\n",
       "    <tr>\n",
       "      <th rowspan=\"2\" valign=\"top\">00000</th>\n",
       "      <th>1969-01-01</th>\n",
       "      <td>201298000</td>\n",
       "      <td>3930</td>\n",
       "      <td>United States</td>\n",
       "      <td>both</td>\n",
       "    </tr>\n",
       "    <tr>\n",
       "      <th>2015-01-01</th>\n",
       "      <td>320896618</td>\n",
       "      <td>48451</td>\n",
       "      <td>United States</td>\n",
       "      <td>both</td>\n",
       "    </tr>\n",
       "    <tr>\n",
       "      <th rowspan=\"2\" valign=\"top\">01000</th>\n",
       "      <th>1969-01-01</th>\n",
       "      <td>3440000</td>\n",
       "      <td>2827</td>\n",
       "      <td>Alabama</td>\n",
       "      <td>both</td>\n",
       "    </tr>\n",
       "    <tr>\n",
       "      <th>2015-01-01</th>\n",
       "      <td>4853875</td>\n",
       "      <td>38214</td>\n",
       "      <td>Alabama</td>\n",
       "      <td>both</td>\n",
       "    </tr>\n",
       "    <tr>\n",
       "      <th>01001</th>\n",
       "      <th>1969-01-01</th>\n",
       "      <td>25166</td>\n",
       "      <td>2774</td>\n",
       "      <td>Autauga, AL</td>\n",
       "      <td>both</td>\n",
       "    </tr>\n",
       "  </tbody>\n",
       "</table>\n",
       "</div>"
      ],
      "text/plain": [
       "                   Population IncomePC        GeoName _merge\n",
       "GeoFips TimePeriod                                          \n",
       "00000   1969-01-01  201298000     3930  United States   both\n",
       "        2015-01-01  320896618    48451  United States   both\n",
       "01000   1969-01-01    3440000     2827        Alabama   both\n",
       "        2015-01-01    4853875    38214        Alabama   both\n",
       "01001   1969-01-01      25166     2774    Autauga, AL   both"
      ]
     },
     "execution_count": 464,
     "metadata": {},
     "output_type": "execute_result"
    }
   ],
   "source": [
    "combo.head()"
   ]
  },
  {
   "cell_type": "code",
   "execution_count": 288,
   "metadata": {
    "collapsed": true
   },
   "outputs": [],
   "source": [
    "df.DataValue.replace(\"(NA)\", np.nan, inplace = True)"
   ]
  },
  {
   "cell_type": "code",
   "execution_count": 289,
   "metadata": {
    "collapsed": true
   },
   "outputs": [],
   "source": [
    "df.DataValue = df.DataValue.astype(float)"
   ]
  },
  {
   "cell_type": "code",
   "execution_count": 290,
   "metadata": {},
   "outputs": [
    {
     "data": {
      "text/plain": [
       "CL_UNIT        object\n",
       "Code           object\n",
       "DataValue     float64\n",
       "GeoFips        object\n",
       "GeoName        object\n",
       "NoteRef        object\n",
       "TimePeriod     object\n",
       "UNIT_MULT      object\n",
       "dtype: object"
      ]
     },
     "execution_count": 290,
     "metadata": {},
     "output_type": "execute_result"
    }
   ],
   "source": [
    "df.dtypes"
   ]
  },
  {
   "cell_type": "code",
   "execution_count": 291,
   "metadata": {
    "collapsed": true
   },
   "outputs": [],
   "source": [
    "df[\"TimePeriod\"] = pd.to_datetime(df[\"TimePeriod\"], infer_datetime_format = True)"
   ]
  },
  {
   "cell_type": "code",
   "execution_count": 292,
   "metadata": {
    "collapsed": true
   },
   "outputs": [],
   "source": [
    "df.sort_values(by = \"TimePeriod\", inplace = True)\n"
   ]
  },
  {
   "cell_type": "code",
   "execution_count": 294,
   "metadata": {},
   "outputs": [
    {
     "data": {
      "text/html": [
       "<div>\n",
       "<style scoped>\n",
       "    .dataframe tbody tr th:only-of-type {\n",
       "        vertical-align: middle;\n",
       "    }\n",
       "\n",
       "    .dataframe tbody tr th {\n",
       "        vertical-align: top;\n",
       "    }\n",
       "\n",
       "    .dataframe thead th {\n",
       "        text-align: right;\n",
       "    }\n",
       "</style>\n",
       "<table border=\"1\" class=\"dataframe\">\n",
       "  <thead>\n",
       "    <tr style=\"text-align: right;\">\n",
       "      <th></th>\n",
       "      <th>CL_UNIT</th>\n",
       "      <th>Code</th>\n",
       "      <th>DataValue</th>\n",
       "      <th>GeoFips</th>\n",
       "      <th>GeoName</th>\n",
       "      <th>NoteRef</th>\n",
       "      <th>TimePeriod</th>\n",
       "      <th>UNIT_MULT</th>\n",
       "    </tr>\n",
       "  </thead>\n",
       "  <tbody>\n",
       "    <tr>\n",
       "      <th>0</th>\n",
       "      <td>dollars</td>\n",
       "      <td>CA1-3</td>\n",
       "      <td>3930.0</td>\n",
       "      <td>00000</td>\n",
       "      <td>United States</td>\n",
       "      <td>NaN</td>\n",
       "      <td>1969-01-01</td>\n",
       "      <td>0</td>\n",
       "    </tr>\n",
       "    <tr>\n",
       "      <th>3535</th>\n",
       "      <td>dollars</td>\n",
       "      <td>CA1-3</td>\n",
       "      <td>2800.0</td>\n",
       "      <td>31123</td>\n",
       "      <td>Morrill, NE</td>\n",
       "      <td>NaN</td>\n",
       "      <td>1969-01-01</td>\n",
       "      <td>0</td>\n",
       "    </tr>\n",
       "    <tr>\n",
       "      <th>3536</th>\n",
       "      <td>dollars</td>\n",
       "      <td>CA1-3</td>\n",
       "      <td>3093.0</td>\n",
       "      <td>31125</td>\n",
       "      <td>Nance, NE</td>\n",
       "      <td>NaN</td>\n",
       "      <td>1969-01-01</td>\n",
       "      <td>0</td>\n",
       "    </tr>\n",
       "    <tr>\n",
       "      <th>3539</th>\n",
       "      <td>dollars</td>\n",
       "      <td>CA1-3</td>\n",
       "      <td>3727.0</td>\n",
       "      <td>31127</td>\n",
       "      <td>Nemaha, NE</td>\n",
       "      <td>NaN</td>\n",
       "      <td>1969-01-01</td>\n",
       "      <td>0</td>\n",
       "    </tr>\n",
       "    <tr>\n",
       "      <th>3540</th>\n",
       "      <td>dollars</td>\n",
       "      <td>CA1-3</td>\n",
       "      <td>3106.0</td>\n",
       "      <td>31129</td>\n",
       "      <td>Nuckolls, NE</td>\n",
       "      <td>NaN</td>\n",
       "      <td>1969-01-01</td>\n",
       "      <td>0</td>\n",
       "    </tr>\n",
       "  </tbody>\n",
       "</table>\n",
       "</div>"
      ],
      "text/plain": [
       "      CL_UNIT   Code  DataValue GeoFips        GeoName NoteRef TimePeriod  \\\n",
       "0     dollars  CA1-3     3930.0   00000  United States     NaN 1969-01-01   \n",
       "3535  dollars  CA1-3     2800.0   31123    Morrill, NE     NaN 1969-01-01   \n",
       "3536  dollars  CA1-3     3093.0   31125      Nance, NE     NaN 1969-01-01   \n",
       "3539  dollars  CA1-3     3727.0   31127     Nemaha, NE     NaN 1969-01-01   \n",
       "3540  dollars  CA1-3     3106.0   31129   Nuckolls, NE     NaN 1969-01-01   \n",
       "\n",
       "     UNIT_MULT  \n",
       "0            0  \n",
       "3535         0  \n",
       "3536         0  \n",
       "3539         0  \n",
       "3540         0  "
      ]
     },
     "execution_count": 294,
     "metadata": {},
     "output_type": "execute_result"
    }
   ],
   "source": [
    "df.head()"
   ]
  },
  {
   "cell_type": "code",
   "execution_count": 346,
   "metadata": {
    "collapsed": true
   },
   "outputs": [],
   "source": [
    "grp = df.groupby(\"GeoFips\")"
   ]
  },
  {
   "cell_type": "code",
   "execution_count": 310,
   "metadata": {
    "collapsed": true
   },
   "outputs": [],
   "source": [
    "def log_diff_income(df):\n",
    "    df[\"growth\"] = np.log(df.DataValue).diff() / 46\n",
    "    \n",
    "    return df"
   ]
  },
  {
   "cell_type": "code",
   "execution_count": 388,
   "metadata": {
    "collapsed": true,
    "scrolled": false
   },
   "outputs": [],
   "source": [
    "transform_dict = {\"DataValue\": [\"first\",\"last\", lambda x: np.diff(np.log(x))/46]}\n",
    "\n",
    "new_df = grp.agg(transform_dict)"
   ]
  },
  {
   "cell_type": "code",
   "execution_count": 394,
   "metadata": {},
   "outputs": [
    {
     "data": {
      "text/plain": [
       "0.414791642511866"
      ]
     },
     "execution_count": 394,
     "metadata": {},
     "output_type": "execute_result"
    }
   ],
   "source": [
    "new_df[\"DataValue\"][\"last\"].corr(new_df[\"DataValue\"][\"<lambda>\"])"
   ]
  },
  {
   "cell_type": "code",
   "execution_count": 367,
   "metadata": {},
   "outputs": [
    {
     "ename": "AttributeError",
     "evalue": "'DataFrame' object has no attribute 'toseries'",
     "output_type": "error",
     "traceback": [
      "\u001b[0;31m----------------------------------------------------------\u001b[0m",
      "\u001b[0;31mAttributeError\u001b[0m           Traceback (most recent call last)",
      "\u001b[0;32m<ipython-input-367-34a982e2905e>\u001b[0m in \u001b[0;36m<module>\u001b[0;34m()\u001b[0m\n\u001b[0;32m----> 1\u001b[0;31m \u001b[0mtest\u001b[0m \u001b[1;33m=\u001b[0m  \u001b[0mnew_df\u001b[0m\u001b[1;33m.\u001b[0m\u001b[0mdiff\u001b[0m\u001b[1;33m(\u001b[0m\u001b[0maxis\u001b[0m \u001b[1;33m=\u001b[0m \u001b[1;36m1\u001b[0m\u001b[1;33m)\u001b[0m\u001b[1;33m.\u001b[0m\u001b[0mtoseries\u001b[0m\u001b[1;33m\u001b[0m\u001b[0m\n\u001b[0m",
      "\u001b[0;32mC:\\Program Files\\Anaconda3\\lib\\site-packages\\pandas\\core\\generic.py\u001b[0m in \u001b[0;36m__getattr__\u001b[0;34m(self, name)\u001b[0m\n\u001b[1;32m   3612\u001b[0m             \u001b[1;32mif\u001b[0m \u001b[0mname\u001b[0m \u001b[1;32min\u001b[0m \u001b[0mself\u001b[0m\u001b[1;33m.\u001b[0m\u001b[0m_info_axis\u001b[0m\u001b[1;33m:\u001b[0m\u001b[1;33m\u001b[0m\u001b[0m\n\u001b[1;32m   3613\u001b[0m                 \u001b[1;32mreturn\u001b[0m \u001b[0mself\u001b[0m\u001b[1;33m[\u001b[0m\u001b[0mname\u001b[0m\u001b[1;33m]\u001b[0m\u001b[1;33m\u001b[0m\u001b[0m\n\u001b[0;32m-> 3614\u001b[0;31m             \u001b[1;32mreturn\u001b[0m \u001b[0mobject\u001b[0m\u001b[1;33m.\u001b[0m\u001b[0m__getattribute__\u001b[0m\u001b[1;33m(\u001b[0m\u001b[0mself\u001b[0m\u001b[1;33m,\u001b[0m \u001b[0mname\u001b[0m\u001b[1;33m)\u001b[0m\u001b[1;33m\u001b[0m\u001b[0m\n\u001b[0m\u001b[1;32m   3615\u001b[0m \u001b[1;33m\u001b[0m\u001b[0m\n\u001b[1;32m   3616\u001b[0m     \u001b[1;32mdef\u001b[0m \u001b[0m__setattr__\u001b[0m\u001b[1;33m(\u001b[0m\u001b[0mself\u001b[0m\u001b[1;33m,\u001b[0m \u001b[0mname\u001b[0m\u001b[1;33m,\u001b[0m \u001b[0mvalue\u001b[0m\u001b[1;33m)\u001b[0m\u001b[1;33m:\u001b[0m\u001b[1;33m\u001b[0m\u001b[0m\n",
      "\u001b[0;31mAttributeError\u001b[0m: 'DataFrame' object has no attribute 'toseries'"
     ]
    }
   ],
   "source": [
    "test =  new_df.diff(axis = 1).toseries"
   ]
  },
  {
   "cell_type": "code",
   "execution_count": 385,
   "metadata": {
    "collapsed": true
   },
   "outputs": [],
   "source": [
    "np.diff?"
   ]
  },
  {
   "cell_type": "code",
   "execution_count": 309,
   "metadata": {},
   "outputs": [
    {
     "name": "stdout",
     "output_type": "stream",
     "text": [
      "Object `TimePeriod.diff` not found.\n"
     ]
    }
   ],
   "source": [
    "grp = df.groupby(\"GeoFips\")\n",
    "grp.get_group(\"44007\").TimePeriod.diff()"
   ]
  },
  {
   "cell_type": "code",
   "execution_count": null,
   "metadata": {
    "collapsed": true
   },
   "outputs": [],
   "source": [
    "grp.get_group(\"44007\").TimePeriod.diff"
   ]
  },
  {
   "cell_type": "code",
   "execution_count": null,
   "metadata": {
    "collapsed": true
   },
   "outputs": [],
   "source": [
    "grp.get_group(\"44007\").sort_value"
   ]
  },
  {
   "cell_type": "code",
   "execution_count": null,
   "metadata": {
    "collapsed": true
   },
   "outputs": [],
   "source": [
    "grp.get_group(\"44007\").sort_values"
   ]
  },
  {
   "cell_type": "code",
   "execution_count": 277,
   "metadata": {
    "collapsed": true
   },
   "outputs": [],
   "source": [
    "new_df.sort_values?"
   ]
  },
  {
   "cell_type": "code",
   "execution_count": 332,
   "metadata": {},
   "outputs": [
    {
     "data": {
      "text/plain": [
       "nan"
      ]
     },
     "execution_count": 332,
     "metadata": {},
     "output_type": "execute_result"
    }
   ],
   "source": [
    "new_df.growth.corr(new_df.loc[\"1969-01-01\"].DataValue)"
   ]
  },
  {
   "cell_type": "code",
   "execution_count": 325,
   "metadata": {
    "collapsed": true
   },
   "outputs": [],
   "source": [
    "new_df.set_index(\"TimePeriod\", inplace = True)"
   ]
  },
  {
   "cell_type": "code",
   "execution_count": 376,
   "metadata": {
    "collapsed": true
   },
   "outputs": [],
   "source": [
    "df.diff?"
   ]
  },
  {
   "cell_type": "code",
   "execution_count": null,
   "metadata": {
    "collapsed": true
   },
   "outputs": [],
   "source": []
  }
 ],
 "metadata": {
  "anaconda-cloud": {},
  "hide_input": false,
  "kernelspec": {
   "display_name": "Python [default]",
   "language": "python",
   "name": "python3"
  },
  "language_info": {
   "codemirror_mode": {
    "name": "ipython",
    "version": 3
   },
   "file_extension": ".py",
   "mimetype": "text/x-python",
   "name": "python",
   "nbconvert_exporter": "python",
   "pygments_lexer": "ipython3",
   "version": "3.5.2"
  }
 },
 "nbformat": 4,
 "nbformat_minor": 2
}
