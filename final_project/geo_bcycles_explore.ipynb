{
 "cells": [
  {
   "cell_type": "markdown",
   "metadata": {},
   "source": [
    "This is my \"sandbox\" to play around with the BEA api. My plan is to use this for my regional cycle project. Below I explain how to use the BEA api (stuff has changed since I last messed around with it)"
   ]
  },
  {
   "cell_type": "code",
   "execution_count": 1,
   "metadata": {},
   "outputs": [],
   "source": [
    "import pandas as pd\n",
    "import requests\n",
    "import numpy as np\n",
    "import matplotlib.pyplot as plt\n",
    "import weightedcalcs as wc\n",
    "import os\n",
    "import geopandas as gpd # this is the main geopandas "
   ]
  },
  {
   "cell_type": "code",
   "execution_count": 2,
   "metadata": {},
   "outputs": [],
   "source": [
    "BEA_ID = \"6BF79D8C-8042-4196-88DC-0E0C55B0C3B6\""
   ]
  },
  {
   "cell_type": "markdown",
   "metadata": {},
   "source": [
    "After getting your key. [Here is some basic documentation](https://www.bea.gov/API/bea_web_service_api_user_guide.htm). Like a lot APIs, basic idea is to specify the URL in the proper way and it will return some output in a specified format. We can then convert the format (its .json) into a dataframe:\n",
    "\n"
   ]
  },
  {
   "cell_type": "code",
   "execution_count": 3,
   "metadata": {},
   "outputs": [],
   "source": [
    "API_URL = \"https://bea.gov/api/data?&\"\n",
    "API_URL = API_URL + \"UserID=\" + BEA_ID + \"&method=GETDATASETLIST&ResultFormat=JSON&\"\n",
    "    \n",
    "r = requests.get(API_URL)"
   ]
  },
  {
   "cell_type": "code",
   "execution_count": 4,
   "metadata": {},
   "outputs": [
    {
     "name": "stdout",
     "output_type": "stream",
     "text": [
      "dict_keys(['BEAAPI'])\n",
      "dict_keys(['Request', 'Results'])\n",
      "dict_keys(['Dataset'])\n"
     ]
    }
   ],
   "source": [
    "print(r.json().keys())\n",
    "\n",
    "print(r.json()['BEAAPI'].keys())\n",
    "\n",
    "print(r.json()['BEAAPI'][\"Results\"].keys())"
   ]
  },
  {
   "cell_type": "markdown",
   "metadata": {},
   "source": [
    "This then leads to the insight that the `.json()` is a bunch of dictionaries within the dictionaries and that by working through it we can find a \"root dictionary\" that can be converted into a usable DataFrame"
   ]
  },
  {
   "cell_type": "code",
   "execution_count": 5,
   "metadata": {},
   "outputs": [],
   "source": [
    "df = pd.DataFrame(r.json()[\"BEAAPI\"][\"Results\"]['Dataset'])"
   ]
  },
  {
   "cell_type": "code",
   "execution_count": 6,
   "metadata": {},
   "outputs": [
    {
     "data": {
      "text/html": [
       "<div>\n",
       "<style scoped>\n",
       "    .dataframe tbody tr th:only-of-type {\n",
       "        vertical-align: middle;\n",
       "    }\n",
       "\n",
       "    .dataframe tbody tr th {\n",
       "        vertical-align: top;\n",
       "    }\n",
       "\n",
       "    .dataframe thead th {\n",
       "        text-align: right;\n",
       "    }\n",
       "</style>\n",
       "<table border=\"1\" class=\"dataframe\">\n",
       "  <thead>\n",
       "    <tr style=\"text-align: right;\">\n",
       "      <th></th>\n",
       "      <th>DatasetDescription</th>\n",
       "      <th>DatasetName</th>\n",
       "    </tr>\n",
       "  </thead>\n",
       "  <tbody>\n",
       "    <tr>\n",
       "      <th>0</th>\n",
       "      <td>The RegionalData dataset is obsolete. Please u...</td>\n",
       "      <td>RegionalData</td>\n",
       "    </tr>\n",
       "    <tr>\n",
       "      <th>1</th>\n",
       "      <td>Standard NIPA tables</td>\n",
       "      <td>NIPA</td>\n",
       "    </tr>\n",
       "    <tr>\n",
       "      <th>2</th>\n",
       "      <td>Standard NI underlying detail tables</td>\n",
       "      <td>NIUnderlyingDetail</td>\n",
       "    </tr>\n",
       "    <tr>\n",
       "      <th>3</th>\n",
       "      <td>Multinational Enterprises</td>\n",
       "      <td>MNE</td>\n",
       "    </tr>\n",
       "    <tr>\n",
       "      <th>4</th>\n",
       "      <td>Standard Fixed Assets tables</td>\n",
       "      <td>FixedAssets</td>\n",
       "    </tr>\n",
       "    <tr>\n",
       "      <th>5</th>\n",
       "      <td>International Transactions Accounts</td>\n",
       "      <td>ITA</td>\n",
       "    </tr>\n",
       "    <tr>\n",
       "      <th>6</th>\n",
       "      <td>International Investment Position</td>\n",
       "      <td>IIP</td>\n",
       "    </tr>\n",
       "    <tr>\n",
       "      <th>7</th>\n",
       "      <td>GDP by Industry</td>\n",
       "      <td>GDPbyIndustry</td>\n",
       "    </tr>\n",
       "    <tr>\n",
       "      <th>8</th>\n",
       "      <td>Regional Income data sets</td>\n",
       "      <td>RegionalIncome</td>\n",
       "    </tr>\n",
       "    <tr>\n",
       "      <th>9</th>\n",
       "      <td>Regional Product data sets</td>\n",
       "      <td>RegionalProduct</td>\n",
       "    </tr>\n",
       "    <tr>\n",
       "      <th>10</th>\n",
       "      <td>Input-Output Data</td>\n",
       "      <td>InputOutput</td>\n",
       "    </tr>\n",
       "    <tr>\n",
       "      <th>11</th>\n",
       "      <td>Underlying GDP by Industry</td>\n",
       "      <td>UnderlyingGDPbyIndustry</td>\n",
       "    </tr>\n",
       "    <tr>\n",
       "      <th>12</th>\n",
       "      <td>International Services Trade</td>\n",
       "      <td>IntlServTrade</td>\n",
       "    </tr>\n",
       "    <tr>\n",
       "      <th>13</th>\n",
       "      <td>Metadata about other API datasets</td>\n",
       "      <td>APIDatasetMetaData</td>\n",
       "    </tr>\n",
       "  </tbody>\n",
       "</table>\n",
       "</div>"
      ],
      "text/plain": [
       "                                   DatasetDescription              DatasetName\n",
       "0   The RegionalData dataset is obsolete. Please u...             RegionalData\n",
       "1                                Standard NIPA tables                     NIPA\n",
       "2                Standard NI underlying detail tables       NIUnderlyingDetail\n",
       "3                           Multinational Enterprises                      MNE\n",
       "4                        Standard Fixed Assets tables              FixedAssets\n",
       "5                 International Transactions Accounts                      ITA\n",
       "6                   International Investment Position                      IIP\n",
       "7                                     GDP by Industry            GDPbyIndustry\n",
       "8                           Regional Income data sets           RegionalIncome\n",
       "9                          Regional Product data sets          RegionalProduct\n",
       "10                                  Input-Output Data              InputOutput\n",
       "11                         Underlying GDP by Industry  UnderlyingGDPbyIndustry\n",
       "12                       International Services Trade            IntlServTrade\n",
       "13                  Metadata about other API datasets       APIDatasetMetaData"
      ]
     },
     "execution_count": 6,
     "metadata": {},
     "output_type": "execute_result"
    }
   ],
   "source": [
    "df"
   ]
  },
  {
   "cell_type": "markdown",
   "metadata": {},
   "source": [
    "Then this gives us the different datasets that are available through the BEA api. Now below, I'm going to grab personal income at the county level. The documentation for grabing this is [here](https://www.bea.gov/API/bea_web_service_api_user_guide.htm)"
   ]
  },
  {
   "cell_type": "markdown",
   "metadata": {},
   "source": [
    "This is how to find out the lines for individual tables. Table CA4 is of interest as it has the break down of personal income by types."
   ]
  },
  {
   "cell_type": "code",
   "execution_count": 7,
   "metadata": {},
   "outputs": [
    {
     "data": {
      "text/plain": [
       "{'ParamValue': [{'Key': '10', 'Desc': '[CA4] Personal income'},\n",
       "  {'Key': '11', 'Desc': '[CA4] Nonfarm personal income'},\n",
       "  {'Key': '12', 'Desc': '[CA4] Farm income'},\n",
       "  {'Key': '20', 'Desc': '[CA4] Population'},\n",
       "  {'Key': '30', 'Desc': '[CA4] Per capita personal income'},\n",
       "  {'Key': '35', 'Desc': '[CA4] Earnings by place of work'},\n",
       "  {'Key': '36', 'Desc': '[CA4] Contributions for government social insurance'},\n",
       "  {'Key': '37',\n",
       "   'Desc': '[CA4] Employee and self-employed contributions for government social insurance'},\n",
       "  {'Key': '38',\n",
       "   'Desc': '[CA4] Employer contributions for government social insurance'},\n",
       "  {'Key': '42', 'Desc': '[CA4] Adjustment for residence'},\n",
       "  {'Key': '45', 'Desc': '[CA4] Net earnings by place of residence'},\n",
       "  {'Key': '46', 'Desc': '[CA4] Dividends, interest, and rent'},\n",
       "  {'Key': '47', 'Desc': '[CA4] Personal current transfer receipts'},\n",
       "  {'Key': '50', 'Desc': '[CA4] Wages and salaries'},\n",
       "  {'Key': '60', 'Desc': '[CA4] Supplements to wages and salaries'},\n",
       "  {'Key': '61',\n",
       "   'Desc': '[CA4] Employer contributions for employee pension and insurance funds'},\n",
       "  {'Key': '62',\n",
       "   'Desc': '[CA4] Employer contributions for government social insurance'},\n",
       "  {'Key': '70', 'Desc': \"[CA4] Proprietors' income\"},\n",
       "  {'Key': '7010', 'Desc': '[CA4] Total employment'},\n",
       "  {'Key': '7020', 'Desc': '[CA4] Wage and salary employment'},\n",
       "  {'Key': '7040', 'Desc': '[CA4] Proprietors employment'},\n",
       "  {'Key': '71', 'Desc': \"[CA4] Farm proprietors' income\"},\n",
       "  {'Key': '72', 'Desc': \"[CA4] Nonfarm proprietors' income\"}]}"
      ]
     },
     "execution_count": 7,
     "metadata": {},
     "output_type": "execute_result"
    }
   ],
   "source": [
    "my_key = \"https://bea.gov/api/data?&UserID=\" + BEA_ID + \"&\"\n",
    "\n",
    "data_set = \"datasetname=RegionalIncome&\"\n",
    "\n",
    "method = \"method=GetParameterValuesFiltered&\"\n",
    "\n",
    "dataset = \"datasetname=RegionalIncome&\"\n",
    "\n",
    "linecode = \"TargetParameter=LineCode&\"\n",
    "\n",
    "tablename = \"TableName=CA4&\"\n",
    "\n",
    "location = \"GeoFips=COUNTY&\"\n",
    "\n",
    "form = \"ResultFormat=json\"\n",
    "\n",
    "API_URL = my_key + method + dataset + linecode + tablename + form\n",
    "\n",
    "r = requests.get(API_URL)\n",
    "\n",
    "r.json()[\"BEAAPI\"][\"Results\"]\n"
   ]
  },
  {
   "cell_type": "markdown",
   "metadata": {},
   "source": [
    "This then grabs the some of it as a deomonstration"
   ]
  },
  {
   "cell_type": "code",
   "execution_count": 8,
   "metadata": {},
   "outputs": [],
   "source": [
    "my_key = \"https://bea.gov/api/data?&UserID=\" + BEA_ID + \"&method=GetData&\"\n",
    "\n",
    "data_set = \"datasetname=RegionalIncome&\"\n",
    "\n",
    "table_and_line_wages = \"TableName=CA4&LineCode=010&\"\n",
    "\n",
    "year = \"Year=\" + \"2000\" + \"&\"\n",
    "\n",
    "location = \"GeoFips=COUNTY&\"\n",
    "\n",
    "form = \"ResultFormat=json\"\n",
    "\n",
    "API_URL = my_key + data_set + table_and_line_wages + year + location + form\n",
    "\n",
    "r = requests.get(API_URL)\n",
    "\n",
    "df_income = pd.DataFrame(r.json()[\"BEAAPI\"][\"Results\"][\"Data\"])"
   ]
  },
  {
   "cell_type": "code",
   "execution_count": 9,
   "metadata": {},
   "outputs": [
    {
     "data": {
      "text/html": [
       "<div>\n",
       "<style scoped>\n",
       "    .dataframe tbody tr th:only-of-type {\n",
       "        vertical-align: middle;\n",
       "    }\n",
       "\n",
       "    .dataframe tbody tr th {\n",
       "        vertical-align: top;\n",
       "    }\n",
       "\n",
       "    .dataframe thead th {\n",
       "        text-align: right;\n",
       "    }\n",
       "</style>\n",
       "<table border=\"1\" class=\"dataframe\">\n",
       "  <thead>\n",
       "    <tr style=\"text-align: right;\">\n",
       "      <th></th>\n",
       "      <th>CL_UNIT</th>\n",
       "      <th>Code</th>\n",
       "      <th>DataValue</th>\n",
       "      <th>GeoFips</th>\n",
       "      <th>GeoName</th>\n",
       "      <th>NoteRef</th>\n",
       "      <th>TimePeriod</th>\n",
       "      <th>UNIT_MULT</th>\n",
       "    </tr>\n",
       "  </thead>\n",
       "  <tbody>\n",
       "    <tr>\n",
       "      <th>0</th>\n",
       "      <td>thousands of dollars</td>\n",
       "      <td>CA4-10</td>\n",
       "      <td>8634847000</td>\n",
       "      <td>00000</td>\n",
       "      <td>United States</td>\n",
       "      <td>NaN</td>\n",
       "      <td>2000</td>\n",
       "      <td>3</td>\n",
       "    </tr>\n",
       "    <tr>\n",
       "      <th>1</th>\n",
       "      <td>thousands of dollars</td>\n",
       "      <td>CA4-10</td>\n",
       "      <td>108000944</td>\n",
       "      <td>01000</td>\n",
       "      <td>Alabama</td>\n",
       "      <td>NaN</td>\n",
       "      <td>2000</td>\n",
       "      <td>3</td>\n",
       "    </tr>\n",
       "    <tr>\n",
       "      <th>2</th>\n",
       "      <td>thousands of dollars</td>\n",
       "      <td>CA4-10</td>\n",
       "      <td>1036129</td>\n",
       "      <td>01001</td>\n",
       "      <td>Autauga, AL</td>\n",
       "      <td>NaN</td>\n",
       "      <td>2000</td>\n",
       "      <td>3</td>\n",
       "    </tr>\n",
       "    <tr>\n",
       "      <th>3</th>\n",
       "      <td>thousands of dollars</td>\n",
       "      <td>CA4-10</td>\n",
       "      <td>3770707</td>\n",
       "      <td>01003</td>\n",
       "      <td>Baldwin, AL</td>\n",
       "      <td>NaN</td>\n",
       "      <td>2000</td>\n",
       "      <td>3</td>\n",
       "    </tr>\n",
       "    <tr>\n",
       "      <th>4</th>\n",
       "      <td>thousands of dollars</td>\n",
       "      <td>CA4-10</td>\n",
       "      <td>547871</td>\n",
       "      <td>01005</td>\n",
       "      <td>Barbour, AL</td>\n",
       "      <td>NaN</td>\n",
       "      <td>2000</td>\n",
       "      <td>3</td>\n",
       "    </tr>\n",
       "  </tbody>\n",
       "</table>\n",
       "</div>"
      ],
      "text/plain": [
       "                CL_UNIT    Code   DataValue GeoFips        GeoName NoteRef  \\\n",
       "0  thousands of dollars  CA4-10  8634847000   00000  United States     NaN   \n",
       "1  thousands of dollars  CA4-10   108000944   01000        Alabama     NaN   \n",
       "2  thousands of dollars  CA4-10     1036129   01001    Autauga, AL     NaN   \n",
       "3  thousands of dollars  CA4-10     3770707   01003    Baldwin, AL     NaN   \n",
       "4  thousands of dollars  CA4-10      547871   01005    Barbour, AL     NaN   \n",
       "\n",
       "  TimePeriod UNIT_MULT  \n",
       "0       2000         3  \n",
       "1       2000         3  \n",
       "2       2000         3  \n",
       "3       2000         3  \n",
       "4       2000         3  "
      ]
     },
     "execution_count": 9,
     "metadata": {},
     "output_type": "execute_result"
    }
   ],
   "source": [
    "df_income.head()"
   ]
  },
  {
   "cell_type": "markdown",
   "metadata": {},
   "source": [
    "---\n",
    "\n",
    "Now what I want to do is to (for all years possible), grab the [personal per capital income](https://www.bea.gov/regional/#defs) and the population measure at the country level. There are several steps here. First, I construct a string of all the years I want. Then I pass the appropriate URL to the BEA. This took some time to figure this all out."
   ]
  },
  {
   "cell_type": "code",
   "execution_count": 9,
   "metadata": {},
   "outputs": [],
   "source": [
    "years = range(1969,2018)\n",
    "years = list(years)\n",
    "\n",
    "years = \"\".join(str(years))\n",
    "\n",
    "years = years[1:-1]"
   ]
  },
  {
   "cell_type": "code",
   "execution_count": 10,
   "metadata": {},
   "outputs": [
    {
     "data": {
      "text/plain": [
       "'1969, 1970, 1971, 1972, 1973, 1974, 1975, 1976, 1977, 1978, 1979, 1980, 1981, 1982, 1983, 1984, 1985, 1986, 1987, 1988, 1989, 1990, 1991, 1992, 1993, 1994, 1995, 1996, 1997, 1998, 1999, 2000, 2001, 2002, 2003, 2004, 2005, 2006, 2007, 2008, 2009, 2010, 2011, 2012, 2013, 2014, 2015, 2016, 2017'"
      ]
     },
     "execution_count": 10,
     "metadata": {},
     "output_type": "execute_result"
    }
   ],
   "source": [
    "years"
   ]
  },
  {
   "cell_type": "markdown",
   "metadata": {},
   "source": [
    "This then grabs the per capita personal income data:"
   ]
  },
  {
   "cell_type": "code",
   "execution_count": 11,
   "metadata": {},
   "outputs": [],
   "source": [
    "my_key = \"https://bea.gov/api/data?&UserID=\" + BEA_ID + \"&method=GetData&\"\n",
    "\n",
    "data_set = \"datasetname=RegionalIncome&\"\n",
    "\n",
    "table_and_line_income = \"TableName=CA1&LineCode=3&\"\n",
    "\n",
    "table_and_line_population = \"TableName=CA1&LineCode=2&\"\n",
    "\n",
    "year = \"Year=\" + years + \"&\"\n",
    "\n",
    "location = \"GeoFips=COUNTY&\"\n",
    "\n",
    "form = \"ResultFormat=json\""
   ]
  },
  {
   "cell_type": "code",
   "execution_count": 12,
   "metadata": {
    "scrolled": false
   },
   "outputs": [],
   "source": [
    "API_URL = my_key + data_set + table_and_line_income + year + location + form\n",
    "\n",
    "r = requests.get(API_URL)\n",
    "\n",
    "df_income = pd.DataFrame(r.json()[\"BEAAPI\"][\"Results\"][\"Data\"])"
   ]
  },
  {
   "cell_type": "code",
   "execution_count": 13,
   "metadata": {},
   "outputs": [
    {
     "data": {
      "text/html": [
       "<div>\n",
       "<style scoped>\n",
       "    .dataframe tbody tr th:only-of-type {\n",
       "        vertical-align: middle;\n",
       "    }\n",
       "\n",
       "    .dataframe tbody tr th {\n",
       "        vertical-align: top;\n",
       "    }\n",
       "\n",
       "    .dataframe thead th {\n",
       "        text-align: right;\n",
       "    }\n",
       "</style>\n",
       "<table border=\"1\" class=\"dataframe\">\n",
       "  <thead>\n",
       "    <tr style=\"text-align: right;\">\n",
       "      <th></th>\n",
       "      <th>CL_UNIT</th>\n",
       "      <th>Code</th>\n",
       "      <th>DataValue</th>\n",
       "      <th>GeoFips</th>\n",
       "      <th>GeoName</th>\n",
       "      <th>NoteRef</th>\n",
       "      <th>TimePeriod</th>\n",
       "      <th>UNIT_MULT</th>\n",
       "    </tr>\n",
       "  </thead>\n",
       "  <tbody>\n",
       "    <tr>\n",
       "      <th>0</th>\n",
       "      <td>dollars</td>\n",
       "      <td>CA1-3</td>\n",
       "      <td>15459</td>\n",
       "      <td>00000</td>\n",
       "      <td>United States</td>\n",
       "      <td>NaN</td>\n",
       "      <td>1986</td>\n",
       "      <td>0</td>\n",
       "    </tr>\n",
       "    <tr>\n",
       "      <th>1</th>\n",
       "      <td>dollars</td>\n",
       "      <td>CA1-3</td>\n",
       "      <td>6312</td>\n",
       "      <td>00000</td>\n",
       "      <td>United States</td>\n",
       "      <td>NaN</td>\n",
       "      <td>1975</td>\n",
       "      <td>0</td>\n",
       "    </tr>\n",
       "    <tr>\n",
       "      <th>2</th>\n",
       "      <td>dollars</td>\n",
       "      <td>CA1-3</td>\n",
       "      <td>18653</td>\n",
       "      <td>00000</td>\n",
       "      <td>United States</td>\n",
       "      <td>NaN</td>\n",
       "      <td>1989</td>\n",
       "      <td>0</td>\n",
       "    </tr>\n",
       "    <tr>\n",
       "      <th>3</th>\n",
       "      <td>dollars</td>\n",
       "      <td>CA1-3</td>\n",
       "      <td>7494</td>\n",
       "      <td>00000</td>\n",
       "      <td>United States</td>\n",
       "      <td>NaN</td>\n",
       "      <td>1977</td>\n",
       "      <td>0</td>\n",
       "    </tr>\n",
       "    <tr>\n",
       "      <th>4</th>\n",
       "      <td>dollars</td>\n",
       "      <td>CA1-3</td>\n",
       "      <td>4196</td>\n",
       "      <td>00000</td>\n",
       "      <td>United States</td>\n",
       "      <td>NaN</td>\n",
       "      <td>1970</td>\n",
       "      <td>0</td>\n",
       "    </tr>\n",
       "    <tr>\n",
       "      <th>5</th>\n",
       "      <td>dollars</td>\n",
       "      <td>CA1-3</td>\n",
       "      <td>19591</td>\n",
       "      <td>00000</td>\n",
       "      <td>United States</td>\n",
       "      <td>NaN</td>\n",
       "      <td>1990</td>\n",
       "      <td>0</td>\n",
       "    </tr>\n",
       "    <tr>\n",
       "      <th>6</th>\n",
       "      <td>dollars</td>\n",
       "      <td>CA1-3</td>\n",
       "      <td>12652</td>\n",
       "      <td>00000</td>\n",
       "      <td>United States</td>\n",
       "      <td>NaN</td>\n",
       "      <td>1983</td>\n",
       "      <td>0</td>\n",
       "    </tr>\n",
       "    <tr>\n",
       "      <th>7</th>\n",
       "      <td>dollars</td>\n",
       "      <td>CA1-3</td>\n",
       "      <td>14719</td>\n",
       "      <td>00000</td>\n",
       "      <td>United States</td>\n",
       "      <td>NaN</td>\n",
       "      <td>1985</td>\n",
       "      <td>0</td>\n",
       "    </tr>\n",
       "    <tr>\n",
       "      <th>8</th>\n",
       "      <td>dollars</td>\n",
       "      <td>CA1-3</td>\n",
       "      <td>8338</td>\n",
       "      <td>00000</td>\n",
       "      <td>United States</td>\n",
       "      <td>NaN</td>\n",
       "      <td>1978</td>\n",
       "      <td>0</td>\n",
       "    </tr>\n",
       "    <tr>\n",
       "      <th>9</th>\n",
       "      <td>dollars</td>\n",
       "      <td>CA1-3</td>\n",
       "      <td>5352</td>\n",
       "      <td>00000</td>\n",
       "      <td>United States</td>\n",
       "      <td>NaN</td>\n",
       "      <td>1973</td>\n",
       "      <td>0</td>\n",
       "    </tr>\n",
       "    <tr>\n",
       "      <th>10</th>\n",
       "      <td>dollars</td>\n",
       "      <td>CA1-3</td>\n",
       "      <td>11262</td>\n",
       "      <td>00000</td>\n",
       "      <td>United States</td>\n",
       "      <td>NaN</td>\n",
       "      <td>1981</td>\n",
       "      <td>0</td>\n",
       "    </tr>\n",
       "    <tr>\n",
       "      <th>11</th>\n",
       "      <td>dollars</td>\n",
       "      <td>CA1-3</td>\n",
       "      <td>4853</td>\n",
       "      <td>00000</td>\n",
       "      <td>United States</td>\n",
       "      <td>NaN</td>\n",
       "      <td>1972</td>\n",
       "      <td>0</td>\n",
       "    </tr>\n",
       "    <tr>\n",
       "      <th>12</th>\n",
       "      <td>dollars</td>\n",
       "      <td>CA1-3</td>\n",
       "      <td>10153</td>\n",
       "      <td>00000</td>\n",
       "      <td>United States</td>\n",
       "      <td>NaN</td>\n",
       "      <td>1980</td>\n",
       "      <td>0</td>\n",
       "    </tr>\n",
       "    <tr>\n",
       "      <th>13</th>\n",
       "      <td>dollars</td>\n",
       "      <td>CA1-3</td>\n",
       "      <td>21060</td>\n",
       "      <td>00000</td>\n",
       "      <td>United States</td>\n",
       "      <td>NaN</td>\n",
       "      <td>1992</td>\n",
       "      <td>0</td>\n",
       "    </tr>\n",
       "    <tr>\n",
       "      <th>14</th>\n",
       "      <td>dollars</td>\n",
       "      <td>CA1-3</td>\n",
       "      <td>28627</td>\n",
       "      <td>00000</td>\n",
       "      <td>United States</td>\n",
       "      <td>NaN</td>\n",
       "      <td>1999</td>\n",
       "      <td>0</td>\n",
       "    </tr>\n",
       "  </tbody>\n",
       "</table>\n",
       "</div>"
      ],
      "text/plain": [
       "    CL_UNIT   Code DataValue GeoFips        GeoName NoteRef TimePeriod  \\\n",
       "0   dollars  CA1-3     15459   00000  United States     NaN       1986   \n",
       "1   dollars  CA1-3      6312   00000  United States     NaN       1975   \n",
       "2   dollars  CA1-3     18653   00000  United States     NaN       1989   \n",
       "3   dollars  CA1-3      7494   00000  United States     NaN       1977   \n",
       "4   dollars  CA1-3      4196   00000  United States     NaN       1970   \n",
       "5   dollars  CA1-3     19591   00000  United States     NaN       1990   \n",
       "6   dollars  CA1-3     12652   00000  United States     NaN       1983   \n",
       "7   dollars  CA1-3     14719   00000  United States     NaN       1985   \n",
       "8   dollars  CA1-3      8338   00000  United States     NaN       1978   \n",
       "9   dollars  CA1-3      5352   00000  United States     NaN       1973   \n",
       "10  dollars  CA1-3     11262   00000  United States     NaN       1981   \n",
       "11  dollars  CA1-3      4853   00000  United States     NaN       1972   \n",
       "12  dollars  CA1-3     10153   00000  United States     NaN       1980   \n",
       "13  dollars  CA1-3     21060   00000  United States     NaN       1992   \n",
       "14  dollars  CA1-3     28627   00000  United States     NaN       1999   \n",
       "\n",
       "   UNIT_MULT  \n",
       "0          0  \n",
       "1          0  \n",
       "2          0  \n",
       "3          0  \n",
       "4          0  \n",
       "5          0  \n",
       "6          0  \n",
       "7          0  \n",
       "8          0  \n",
       "9          0  \n",
       "10         0  \n",
       "11         0  \n",
       "12         0  \n",
       "13         0  \n",
       "14         0  "
      ]
     },
     "execution_count": 13,
     "metadata": {},
     "output_type": "execute_result"
    }
   ],
   "source": [
    "df_income.head(15)"
   ]
  },
  {
   "cell_type": "code",
   "execution_count": 14,
   "metadata": {},
   "outputs": [
    {
     "data": {
      "text/html": [
       "<div>\n",
       "<style scoped>\n",
       "    .dataframe tbody tr th:only-of-type {\n",
       "        vertical-align: middle;\n",
       "    }\n",
       "\n",
       "    .dataframe tbody tr th {\n",
       "        vertical-align: top;\n",
       "    }\n",
       "\n",
       "    .dataframe thead th {\n",
       "        text-align: right;\n",
       "    }\n",
       "</style>\n",
       "<table border=\"1\" class=\"dataframe\">\n",
       "  <thead>\n",
       "    <tr style=\"text-align: right;\">\n",
       "      <th></th>\n",
       "      <th>IncomePC</th>\n",
       "      <th>GeoFips</th>\n",
       "      <th>GeoName</th>\n",
       "      <th>TimePeriod</th>\n",
       "    </tr>\n",
       "  </thead>\n",
       "  <tbody>\n",
       "    <tr>\n",
       "      <th>0</th>\n",
       "      <td>15459</td>\n",
       "      <td>00000</td>\n",
       "      <td>United States</td>\n",
       "      <td>1986</td>\n",
       "    </tr>\n",
       "    <tr>\n",
       "      <th>1</th>\n",
       "      <td>6312</td>\n",
       "      <td>00000</td>\n",
       "      <td>United States</td>\n",
       "      <td>1975</td>\n",
       "    </tr>\n",
       "    <tr>\n",
       "      <th>2</th>\n",
       "      <td>18653</td>\n",
       "      <td>00000</td>\n",
       "      <td>United States</td>\n",
       "      <td>1989</td>\n",
       "    </tr>\n",
       "    <tr>\n",
       "      <th>3</th>\n",
       "      <td>7494</td>\n",
       "      <td>00000</td>\n",
       "      <td>United States</td>\n",
       "      <td>1977</td>\n",
       "    </tr>\n",
       "    <tr>\n",
       "      <th>4</th>\n",
       "      <td>4196</td>\n",
       "      <td>00000</td>\n",
       "      <td>United States</td>\n",
       "      <td>1970</td>\n",
       "    </tr>\n",
       "  </tbody>\n",
       "</table>\n",
       "</div>"
      ],
      "text/plain": [
       "  IncomePC GeoFips        GeoName TimePeriod\n",
       "0    15459   00000  United States       1986\n",
       "1     6312   00000  United States       1975\n",
       "2    18653   00000  United States       1989\n",
       "3     7494   00000  United States       1977\n",
       "4     4196   00000  United States       1970"
      ]
     },
     "execution_count": 14,
     "metadata": {},
     "output_type": "execute_result"
    }
   ],
   "source": [
    "df_income.drop(['CL_UNIT', 'Code',\"NoteRef\", \"UNIT_MULT\"], axis=1, inplace = True)\n",
    "\n",
    "#df[\"DataValue\"].column = \"IncomePC\"\n",
    "\n",
    "df_income.rename(columns={\"DataValue\":\"IncomePC\"}, inplace=True)\n",
    "\n",
    "df_income.head()"
   ]
  },
  {
   "cell_type": "code",
   "execution_count": 15,
   "metadata": {
    "scrolled": true
   },
   "outputs": [
    {
     "data": {
      "text/html": [
       "<div>\n",
       "<style scoped>\n",
       "    .dataframe tbody tr th:only-of-type {\n",
       "        vertical-align: middle;\n",
       "    }\n",
       "\n",
       "    .dataframe tbody tr th {\n",
       "        vertical-align: top;\n",
       "    }\n",
       "\n",
       "    .dataframe thead th {\n",
       "        text-align: right;\n",
       "    }\n",
       "</style>\n",
       "<table border=\"1\" class=\"dataframe\">\n",
       "  <thead>\n",
       "    <tr style=\"text-align: right;\">\n",
       "      <th></th>\n",
       "      <th>Population</th>\n",
       "      <th>GeoFips</th>\n",
       "      <th>TimePeriod</th>\n",
       "    </tr>\n",
       "  </thead>\n",
       "  <tbody>\n",
       "    <tr>\n",
       "      <th>0</th>\n",
       "      <td>222098244</td>\n",
       "      <td>00000</td>\n",
       "      <td>1978</td>\n",
       "    </tr>\n",
       "    <tr>\n",
       "      <th>1</th>\n",
       "      <td>272646925</td>\n",
       "      <td>00000</td>\n",
       "      <td>1997</td>\n",
       "    </tr>\n",
       "    <tr>\n",
       "      <th>2</th>\n",
       "      <td>246819222</td>\n",
       "      <td>00000</td>\n",
       "      <td>1989</td>\n",
       "    </tr>\n",
       "    <tr>\n",
       "      <th>3</th>\n",
       "      <td>282162411</td>\n",
       "      <td>00000</td>\n",
       "      <td>2000</td>\n",
       "    </tr>\n",
       "    <tr>\n",
       "      <th>4</th>\n",
       "      <td>244499004</td>\n",
       "      <td>00000</td>\n",
       "      <td>1988</td>\n",
       "    </tr>\n",
       "  </tbody>\n",
       "</table>\n",
       "</div>"
      ],
      "text/plain": [
       "  Population GeoFips TimePeriod\n",
       "0  222098244   00000       1978\n",
       "1  272646925   00000       1997\n",
       "2  246819222   00000       1989\n",
       "3  282162411   00000       2000\n",
       "4  244499004   00000       1988"
      ]
     },
     "execution_count": 15,
     "metadata": {},
     "output_type": "execute_result"
    }
   ],
   "source": [
    "API_URL = my_key + data_set + table_and_line_population + year + location + form\n",
    "\n",
    "r = requests.get(API_URL)\n",
    "\n",
    "population = pd.DataFrame(r.json()[\"BEAAPI\"][\"Results\"][\"Data\"])\n",
    "\n",
    "population.drop(['CL_UNIT', 'Code',\"NoteRef\", \"UNIT_MULT\", \"GeoName\"], axis=1, inplace = True)\n",
    "\n",
    "#df[\"DataValue\"].column = \"IncomePC\"\n",
    "\n",
    "population.rename(columns={\"DataValue\":\"Population\"}, inplace=True)\n",
    "\n",
    "population.head()"
   ]
  },
  {
   "cell_type": "code",
   "execution_count": 33,
   "metadata": {},
   "outputs": [],
   "source": [
    "combo = pd.merge(population, df_income,   # left df, right df\n",
    "                 how='inner',      # Try the different options, inner, outer, left, right...what happens.\n",
    "                 on=['GeoFips',\"TimePeriod\"],       # link with cntry\n",
    "                 indicator=True)  # Tells us what happend"
   ]
  },
  {
   "cell_type": "code",
   "execution_count": 34,
   "metadata": {},
   "outputs": [],
   "source": [
    "combo[\"TimePeriod\"] = pd.to_datetime(combo[\"TimePeriod\"], infer_datetime_format = True)\n",
    "\n",
    "#combo.sort_values(by = \"TimePeriod\", inplace = True)"
   ]
  },
  {
   "cell_type": "code",
   "execution_count": 35,
   "metadata": {},
   "outputs": [],
   "source": [
    "combo[\"county_fips\"] = combo[\"GeoFips\"].str[2:]\n",
    "combo[\"state_fips\"] = combo[\"GeoFips\"].str[0:2]"
   ]
  },
  {
   "cell_type": "code",
   "execution_count": 36,
   "metadata": {},
   "outputs": [
    {
     "data": {
      "text/html": [
       "<div>\n",
       "<style scoped>\n",
       "    .dataframe tbody tr th:only-of-type {\n",
       "        vertical-align: middle;\n",
       "    }\n",
       "\n",
       "    .dataframe tbody tr th {\n",
       "        vertical-align: top;\n",
       "    }\n",
       "\n",
       "    .dataframe thead th {\n",
       "        text-align: right;\n",
       "    }\n",
       "</style>\n",
       "<table border=\"1\" class=\"dataframe\">\n",
       "  <thead>\n",
       "    <tr style=\"text-align: right;\">\n",
       "      <th></th>\n",
       "      <th>Population</th>\n",
       "      <th>GeoFips</th>\n",
       "      <th>TimePeriod</th>\n",
       "      <th>IncomePC</th>\n",
       "      <th>GeoName</th>\n",
       "      <th>_merge</th>\n",
       "      <th>county_fips</th>\n",
       "      <th>state_fips</th>\n",
       "    </tr>\n",
       "  </thead>\n",
       "  <tbody>\n",
       "    <tr>\n",
       "      <th>0</th>\n",
       "      <td>222098244</td>\n",
       "      <td>00000</td>\n",
       "      <td>1978-01-01</td>\n",
       "      <td>8338</td>\n",
       "      <td>United States</td>\n",
       "      <td>both</td>\n",
       "      <td>000</td>\n",
       "      <td>00</td>\n",
       "    </tr>\n",
       "    <tr>\n",
       "      <th>1</th>\n",
       "      <td>272646925</td>\n",
       "      <td>00000</td>\n",
       "      <td>1997-01-01</td>\n",
       "      <td>25950</td>\n",
       "      <td>United States</td>\n",
       "      <td>both</td>\n",
       "      <td>000</td>\n",
       "      <td>00</td>\n",
       "    </tr>\n",
       "    <tr>\n",
       "      <th>2</th>\n",
       "      <td>246819222</td>\n",
       "      <td>00000</td>\n",
       "      <td>1989-01-01</td>\n",
       "      <td>18653</td>\n",
       "      <td>United States</td>\n",
       "      <td>both</td>\n",
       "      <td>000</td>\n",
       "      <td>00</td>\n",
       "    </tr>\n",
       "    <tr>\n",
       "      <th>3</th>\n",
       "      <td>282162411</td>\n",
       "      <td>00000</td>\n",
       "      <td>2000-01-01</td>\n",
       "      <td>30602</td>\n",
       "      <td>United States</td>\n",
       "      <td>both</td>\n",
       "      <td>000</td>\n",
       "      <td>00</td>\n",
       "    </tr>\n",
       "    <tr>\n",
       "      <th>4</th>\n",
       "      <td>244499004</td>\n",
       "      <td>00000</td>\n",
       "      <td>1988-01-01</td>\n",
       "      <td>17426</td>\n",
       "      <td>United States</td>\n",
       "      <td>both</td>\n",
       "      <td>000</td>\n",
       "      <td>00</td>\n",
       "    </tr>\n",
       "  </tbody>\n",
       "</table>\n",
       "</div>"
      ],
      "text/plain": [
       "  Population GeoFips TimePeriod IncomePC        GeoName _merge county_fips  \\\n",
       "0  222098244   00000 1978-01-01     8338  United States   both         000   \n",
       "1  272646925   00000 1997-01-01    25950  United States   both         000   \n",
       "2  246819222   00000 1989-01-01    18653  United States   both         000   \n",
       "3  282162411   00000 2000-01-01    30602  United States   both         000   \n",
       "4  244499004   00000 1988-01-01    17426  United States   both         000   \n",
       "\n",
       "  state_fips  \n",
       "0         00  \n",
       "1         00  \n",
       "2         00  \n",
       "3         00  \n",
       "4         00  "
      ]
     },
     "execution_count": 36,
     "metadata": {},
     "output_type": "execute_result"
    }
   ],
   "source": [
    "combo.head()"
   ]
  },
  {
   "cell_type": "code",
   "execution_count": 37,
   "metadata": {},
   "outputs": [],
   "source": [
    "combo = combo[combo.county_fips != \"000\"]"
   ]
  },
  {
   "cell_type": "code",
   "execution_count": 38,
   "metadata": {},
   "outputs": [],
   "source": [
    "combo.set_index([\"GeoFips\",\"TimePeriod\"],inplace = True)"
   ]
  },
  {
   "cell_type": "code",
   "execution_count": 39,
   "metadata": {},
   "outputs": [],
   "source": [
    "combo.sort_index(level=\"GeoFips\", inplace = True)"
   ]
  },
  {
   "cell_type": "code",
   "execution_count": 40,
   "metadata": {},
   "outputs": [
    {
     "data": {
      "text/plain": [
       "(150624,)"
      ]
     },
     "execution_count": 40,
     "metadata": {},
     "output_type": "execute_result"
    }
   ],
   "source": [
    "combo.index.shape"
   ]
  },
  {
   "cell_type": "code",
   "execution_count": 41,
   "metadata": {},
   "outputs": [],
   "source": [
    "combo.Population.replace(\"(NA)\", np.nan, inplace = True)\n",
    "combo.Population = combo.Population.astype(float)"
   ]
  },
  {
   "cell_type": "code",
   "execution_count": 42,
   "metadata": {},
   "outputs": [],
   "source": [
    "combo.IncomePC.replace(\"(NA)\", np.nan, inplace = True)\n",
    "combo.IncomePC = combo.IncomePC.astype(float)"
   ]
  },
  {
   "cell_type": "code",
   "execution_count": 43,
   "metadata": {},
   "outputs": [
    {
     "data": {
      "text/html": [
       "<div>\n",
       "<style scoped>\n",
       "    .dataframe tbody tr th:only-of-type {\n",
       "        vertical-align: middle;\n",
       "    }\n",
       "\n",
       "    .dataframe tbody tr th {\n",
       "        vertical-align: top;\n",
       "    }\n",
       "\n",
       "    .dataframe thead th {\n",
       "        text-align: right;\n",
       "    }\n",
       "</style>\n",
       "<table border=\"1\" class=\"dataframe\">\n",
       "  <thead>\n",
       "    <tr style=\"text-align: right;\">\n",
       "      <th></th>\n",
       "      <th></th>\n",
       "      <th>Population</th>\n",
       "      <th>IncomePC</th>\n",
       "      <th>GeoName</th>\n",
       "      <th>_merge</th>\n",
       "      <th>county_fips</th>\n",
       "      <th>state_fips</th>\n",
       "    </tr>\n",
       "    <tr>\n",
       "      <th>GeoFips</th>\n",
       "      <th>TimePeriod</th>\n",
       "      <th></th>\n",
       "      <th></th>\n",
       "      <th></th>\n",
       "      <th></th>\n",
       "      <th></th>\n",
       "      <th></th>\n",
       "    </tr>\n",
       "  </thead>\n",
       "  <tbody>\n",
       "    <tr>\n",
       "      <th rowspan=\"5\" valign=\"top\">01001</th>\n",
       "      <th>1969-01-01</th>\n",
       "      <td>25166.0</td>\n",
       "      <td>2774.0</td>\n",
       "      <td>Autauga, AL</td>\n",
       "      <td>both</td>\n",
       "      <td>001</td>\n",
       "      <td>01</td>\n",
       "    </tr>\n",
       "    <tr>\n",
       "      <th>1970-01-01</th>\n",
       "      <td>24606.0</td>\n",
       "      <td>3147.0</td>\n",
       "      <td>Autauga, AL</td>\n",
       "      <td>both</td>\n",
       "      <td>001</td>\n",
       "      <td>01</td>\n",
       "    </tr>\n",
       "    <tr>\n",
       "      <th>1971-01-01</th>\n",
       "      <td>25508.0</td>\n",
       "      <td>3442.0</td>\n",
       "      <td>Autauga, AL</td>\n",
       "      <td>both</td>\n",
       "      <td>001</td>\n",
       "      <td>01</td>\n",
       "    </tr>\n",
       "    <tr>\n",
       "      <th>1972-01-01</th>\n",
       "      <td>27166.0</td>\n",
       "      <td>3672.0</td>\n",
       "      <td>Autauga, AL</td>\n",
       "      <td>both</td>\n",
       "      <td>001</td>\n",
       "      <td>01</td>\n",
       "    </tr>\n",
       "    <tr>\n",
       "      <th>1973-01-01</th>\n",
       "      <td>28463.0</td>\n",
       "      <td>4017.0</td>\n",
       "      <td>Autauga, AL</td>\n",
       "      <td>both</td>\n",
       "      <td>001</td>\n",
       "      <td>01</td>\n",
       "    </tr>\n",
       "  </tbody>\n",
       "</table>\n",
       "</div>"
      ],
      "text/plain": [
       "                    Population  IncomePC      GeoName _merge county_fips  \\\n",
       "GeoFips TimePeriod                                                         \n",
       "01001   1969-01-01     25166.0    2774.0  Autauga, AL   both         001   \n",
       "        1970-01-01     24606.0    3147.0  Autauga, AL   both         001   \n",
       "        1971-01-01     25508.0    3442.0  Autauga, AL   both         001   \n",
       "        1972-01-01     27166.0    3672.0  Autauga, AL   both         001   \n",
       "        1973-01-01     28463.0    4017.0  Autauga, AL   both         001   \n",
       "\n",
       "                   state_fips  \n",
       "GeoFips TimePeriod             \n",
       "01001   1969-01-01         01  \n",
       "        1970-01-01         01  \n",
       "        1971-01-01         01  \n",
       "        1972-01-01         01  \n",
       "        1973-01-01         01  "
      ]
     },
     "execution_count": 43,
     "metadata": {},
     "output_type": "execute_result"
    }
   ],
   "source": [
    "combo.head()"
   ]
  },
  {
   "cell_type": "code",
   "execution_count": 126,
   "metadata": {},
   "outputs": [
    {
     "data": {
      "text/plain": [
       "14"
      ]
     },
     "execution_count": 126,
     "metadata": {},
     "output_type": "execute_result"
    }
   ],
   "source": [
    "df.shape[0]"
   ]
  },
  {
   "cell_type": "code",
   "execution_count": 137,
   "metadata": {},
   "outputs": [],
   "source": [
    "def time_diff(df):\n",
    "    \n",
    "    data = [100*(np.log(df[\"IncomePC\"].iloc[-1]) - np.log(df[\"IncomePC\"].iloc[0]))/df.shape[0],\n",
    "            100*(np.log(df[\"Population\"].iloc[-1]) - np.log(df[\"Population\"].iloc[0]))/df.shape[0],\n",
    "            np.log(df[\"IncomePC\"].iloc[0]) , df[\"Population\"].iloc[0] ]\n",
    "    data = pd.DataFrame(data).T\n",
    "    \n",
    "    data.columns = [\"income_growth\", \"population_growth\", \"income_level\", \"population_level\"]\n",
    "    \n",
    "    return data"
   ]
  },
  {
   "cell_type": "code",
   "execution_count": 138,
   "metadata": {},
   "outputs": [],
   "source": [
    "grp = combo.groupby(\"GeoFips\")\n",
    "\n",
    "grp.get_group(\"01001\")\n",
    "\n",
    "test = grp.apply(time_diff)"
   ]
  },
  {
   "cell_type": "code",
   "execution_count": 139,
   "metadata": {},
   "outputs": [
    {
     "data": {
      "text/plain": [
       "(4, 7)"
      ]
     },
     "execution_count": 139,
     "metadata": {},
     "output_type": "execute_result"
    },
    {
     "data": {
      "image/png": "[encoded data removed]",
      "text/plain": [
       "<Figure size 432x288 with 1 Axes>"
      ]
     },
     "metadata": {},
     "output_type": "display_data"
    }
   ],
   "source": [
    "fig, ax = plt.subplots()\n",
    "\n",
    "ax.scatter(test.income_level, test.income_growth, alpha = 0.30,\n",
    "           s = 0.0001*test.population_level )\n",
    "\n",
    "ax.spines[\"right\"].set_visible(False)\n",
    "ax.spines[\"top\"].set_visible(False)\n",
    "\n",
    "ax.set_xlim(7,9.25)\n",
    "ax.set_ylim(4,7)"
   ]
  },
  {
   "cell_type": "code",
   "execution_count": null,
   "metadata": {},
   "outputs": [],
   "source": []
  },
  {
   "cell_type": "code",
   "execution_count": 118,
   "metadata": {},
   "outputs": [
    {
     "data": {
      "text/html": [
       "<div>\n",
       "<style scoped>\n",
       "    .dataframe tbody tr th:only-of-type {\n",
       "        vertical-align: middle;\n",
       "    }\n",
       "\n",
       "    .dataframe tbody tr th {\n",
       "        vertical-align: top;\n",
       "    }\n",
       "\n",
       "    .dataframe thead th {\n",
       "        text-align: right;\n",
       "    }\n",
       "</style>\n",
       "<table border=\"1\" class=\"dataframe\">\n",
       "  <thead>\n",
       "    <tr style=\"text-align: right;\">\n",
       "      <th></th>\n",
       "      <th>income_growth</th>\n",
       "      <th>income_level</th>\n",
       "      <th>population_level</th>\n",
       "    </tr>\n",
       "  </thead>\n",
       "  <tbody>\n",
       "    <tr>\n",
       "      <th>income_growth</th>\n",
       "      <td>1.000000</td>\n",
       "      <td>-0.606591</td>\n",
       "      <td>-0.034234</td>\n",
       "    </tr>\n",
       "    <tr>\n",
       "      <th>income_level</th>\n",
       "      <td>-0.606591</td>\n",
       "      <td>1.000000</td>\n",
       "      <td>0.210992</td>\n",
       "    </tr>\n",
       "    <tr>\n",
       "      <th>population_level</th>\n",
       "      <td>-0.034234</td>\n",
       "      <td>0.210992</td>\n",
       "      <td>1.000000</td>\n",
       "    </tr>\n",
       "  </tbody>\n",
       "</table>\n",
       "</div>"
      ],
      "text/plain": [
       "                  income_growth  income_level  population_level\n",
       "income_growth          1.000000     -0.606591         -0.034234\n",
       "income_level          -0.606591      1.000000          0.210992\n",
       "population_level      -0.034234      0.210992          1.000000"
      ]
     },
     "execution_count": 118,
     "metadata": {},
     "output_type": "execute_result"
    }
   ],
   "source": [
    "test.corr()"
   ]
  },
  {
   "cell_type": "code",
   "execution_count": 44,
   "metadata": {},
   "outputs": [],
   "source": [
    "combo.dropna(inplace=True)\n",
    "grp = combo.groupby([\"TimePeriod\"])"
   ]
  },
  {
   "cell_type": "code",
   "execution_count": 45,
   "metadata": {},
   "outputs": [],
   "source": [
    "calc = wc.Calculator(\"Population\")"
   ]
  },
  {
   "cell_type": "code",
   "execution_count": 49,
   "metadata": {},
   "outputs": [
    {
     "data": {
      "image/png": "[encoded data removed]",
      "text/plain": [
       "<Figure size 504x360 with 1 Axes>"
      ]
     },
     "metadata": {},
     "output_type": "display_data"
    }
   ],
   "source": [
    "rich_poor_99 = (calc.quantile(grp, \"IncomePC\", 0.99)/calc.quantile(grp, \"IncomePC\", 0.50))\n",
    "rich_poor_95 = (calc.quantile(grp, \"IncomePC\", 0.95)/calc.quantile(grp, \"IncomePC\", 0.50))\n",
    "rich_poor_90 = (calc.quantile(grp, \"IncomePC\", 0.90)/calc.quantile(grp, \"IncomePC\", 0.50))\n",
    "\n",
    "fig, ax  = plt.subplots(figsize = (7,5))\n",
    "\n",
    "rich_poor_99.plot(ax = ax, lw = 3, label = \"99 / 50 income ratio\" )\n",
    "\n",
    "rich_poor_95.plot(ax = ax, lw = 3, color = \"red\", label = \"95 / 50 income ratio\" )\n",
    "\n",
    "rich_poor_90.plot(ax = ax, lw = 3, color = \"black\", label = \"90 / 50 income ratio\" )\n",
    "\n",
    "ax.spines[\"right\"].set_visible(False)\n",
    "ax.spines[\"top\"].set_visible(False)\n",
    "\n",
    "ax.set_ylim(1.0,2.5)\n",
    "\n",
    "plt.legend()\n",
    "plt.show()"
   ]
  },
  {
   "cell_type": "code",
   "execution_count": 31,
   "metadata": {
    "scrolled": false
   },
   "outputs": [],
   "source": [
    "year1 = \"1969-01-01\"\n",
    "year2 = \"1980-01-01\"\n",
    "\n",
    "us_counties69 = combo.xs(year1, level='TimePeriod').dropna()\n",
    "\n",
    "us_counties69.rename(columns = {\"IncomePC\": \"IncomePC\"+ year1}, inplace=True)\n",
    "\n",
    "mean69 = calc.median(us_counties69, \"IncomePC\"+ year1)\n",
    "\n",
    "us_counties15 = combo.xs(year2, level='TimePeriod').dropna()\n",
    "\n",
    "us_counties15.rename(columns = {\"IncomePC\": \"IncomePC\"+ year2}, inplace=True)\n",
    "\n",
    "mean15 = calc.median(us_counties15, \"IncomePC\"+ year2)"
   ]
  },
  {
   "cell_type": "code",
   "execution_count": 32,
   "metadata": {},
   "outputs": [
    {
     "name": "stdout",
     "output_type": "stream",
     "text": [
      "10041.0\n",
      "3892.0\n"
     ]
    }
   ],
   "source": [
    "print(mean15)\n",
    "\n",
    "print(mean69)"
   ]
  },
  {
   "cell_type": "code",
   "execution_count": 36,
   "metadata": {},
   "outputs": [],
   "source": [
    "cwd = os.getcwd()\n",
    "\n",
    "regions_shape = '''C:\\\\data_bootcamp_spring_2018\\\\week13\\\\shape_files\\\\UScounties\\\\cb_2017_us_county_500k.shx'''"
   ]
  },
  {
   "cell_type": "code",
   "execution_count": 37,
   "metadata": {},
   "outputs": [
    {
     "data": {
      "text/plain": [
       "'C:\\\\data_bootcamp_spring_2018\\\\week13\\\\shape_files\\\\UScounties\\\\cb_2017_us_county_500k.shx'"
      ]
     },
     "execution_count": 37,
     "metadata": {},
     "output_type": "execute_result"
    }
   ],
   "source": [
    "regions_shape"
   ]
  },
  {
   "cell_type": "code",
   "execution_count": 38,
   "metadata": {},
   "outputs": [
    {
     "ename": "OSError",
     "evalue": "no such file or directory: 'C:\\\\data_bootcamp_spring_2018\\\\week13\\\\shape_files\\\\UScounties\\\\cb_2017_us_county_500k.shx'",
     "output_type": "error",
     "traceback": [
      "\u001b[1;31m---------------------------------------------------------------------------\u001b[0m",
      "\u001b[1;31mOSError\u001b[0m                                   Traceback (most recent call last)",
      "\u001b[1;32m<ipython-input-38-9a0086475858>\u001b[0m in \u001b[0;36m<module>\u001b[1;34m()\u001b[0m\n\u001b[1;32m----> 1\u001b[1;33m \u001b[0mus_map\u001b[0m \u001b[1;33m=\u001b[0m \u001b[0mgpd\u001b[0m\u001b[1;33m.\u001b[0m\u001b[0mread_file\u001b[0m\u001b[1;33m(\u001b[0m\u001b[0mregions_shape\u001b[0m\u001b[1;33m)\u001b[0m\u001b[1;33m\u001b[0m\u001b[0m\n\u001b[0m",
      "\u001b[1;32m~\\Anaconda3\\lib\\site-packages\\geopandas\\io\\file.py\u001b[0m in \u001b[0;36mread_file\u001b[1;34m(filename, **kwargs)\u001b[0m\n\u001b[0;32m     17\u001b[0m     \"\"\"\n\u001b[0;32m     18\u001b[0m     \u001b[0mbbox\u001b[0m \u001b[1;33m=\u001b[0m \u001b[0mkwargs\u001b[0m\u001b[1;33m.\u001b[0m\u001b[0mpop\u001b[0m\u001b[1;33m(\u001b[0m\u001b[1;34m'bbox'\u001b[0m\u001b[1;33m,\u001b[0m \u001b[1;32mNone\u001b[0m\u001b[1;33m)\u001b[0m\u001b[1;33m\u001b[0m\u001b[0m\n\u001b[1;32m---> 19\u001b[1;33m     \u001b[1;32mwith\u001b[0m \u001b[0mfiona\u001b[0m\u001b[1;33m.\u001b[0m\u001b[0mopen\u001b[0m\u001b[1;33m(\u001b[0m\u001b[0mfilename\u001b[0m\u001b[1;33m,\u001b[0m \u001b[1;33m**\u001b[0m\u001b[0mkwargs\u001b[0m\u001b[1;33m)\u001b[0m \u001b[1;32mas\u001b[0m \u001b[0mf\u001b[0m\u001b[1;33m:\u001b[0m\u001b[1;33m\u001b[0m\u001b[0m\n\u001b[0m\u001b[0;32m     20\u001b[0m         \u001b[0mcrs\u001b[0m \u001b[1;33m=\u001b[0m \u001b[0mf\u001b[0m\u001b[1;33m.\u001b[0m\u001b[0mcrs\u001b[0m\u001b[1;33m\u001b[0m\u001b[0m\n\u001b[0;32m     21\u001b[0m         \u001b[1;32mif\u001b[0m \u001b[0mbbox\u001b[0m \u001b[1;32mis\u001b[0m \u001b[1;32mnot\u001b[0m \u001b[1;32mNone\u001b[0m\u001b[1;33m:\u001b[0m\u001b[1;33m\u001b[0m\u001b[0m\n",
      "\u001b[1;32m~\\Anaconda3\\lib\\site-packages\\fiona\\__init__.py\u001b[0m in \u001b[0;36mopen\u001b[1;34m(path, mode, driver, schema, crs, encoding, layer, vfs, enabled_drivers, crs_wkt)\u001b[0m\n\u001b[0;32m    160\u001b[0m                 \u001b[1;32mraise\u001b[0m \u001b[0mIOError\u001b[0m\u001b[1;33m(\u001b[0m\u001b[1;34m\"no such archive file: %r\"\u001b[0m \u001b[1;33m%\u001b[0m \u001b[0marchive\u001b[0m\u001b[1;33m)\u001b[0m\u001b[1;33m\u001b[0m\u001b[0m\n\u001b[0;32m    161\u001b[0m         \u001b[1;32melif\u001b[0m \u001b[0mpath\u001b[0m \u001b[1;33m!=\u001b[0m \u001b[1;34m'-'\u001b[0m \u001b[1;32mand\u001b[0m \u001b[1;32mnot\u001b[0m \u001b[0mos\u001b[0m\u001b[1;33m.\u001b[0m\u001b[0mpath\u001b[0m\u001b[1;33m.\u001b[0m\u001b[0mexists\u001b[0m\u001b[1;33m(\u001b[0m\u001b[0mpath\u001b[0m\u001b[1;33m)\u001b[0m\u001b[1;33m:\u001b[0m\u001b[1;33m\u001b[0m\u001b[0m\n\u001b[1;32m--> 162\u001b[1;33m             \u001b[1;32mraise\u001b[0m \u001b[0mIOError\u001b[0m\u001b[1;33m(\u001b[0m\u001b[1;34m\"no such file or directory: %r\"\u001b[0m \u001b[1;33m%\u001b[0m \u001b[0mpath\u001b[0m\u001b[1;33m)\u001b[0m\u001b[1;33m\u001b[0m\u001b[0m\n\u001b[0m\u001b[0;32m    163\u001b[0m         c = Collection(path, mode, driver=driver, encoding=encoding,\n\u001b[0;32m    164\u001b[0m                        \u001b[0mlayer\u001b[0m\u001b[1;33m=\u001b[0m\u001b[0mlayer\u001b[0m\u001b[1;33m,\u001b[0m \u001b[0mvsi\u001b[0m\u001b[1;33m=\u001b[0m\u001b[0mvsi\u001b[0m\u001b[1;33m,\u001b[0m \u001b[0marchive\u001b[0m\u001b[1;33m=\u001b[0m\u001b[0marchive\u001b[0m\u001b[1;33m,\u001b[0m\u001b[1;33m\u001b[0m\u001b[0m\n",
      "\u001b[1;31mOSError\u001b[0m: no such file or directory: 'C:\\\\data_bootcamp_spring_2018\\\\week13\\\\shape_files\\\\UScounties\\\\cb_2017_us_county_500k.shx'"
     ]
    }
   ],
   "source": [
    "us_map = gpd.read_file(regions_shape)"
   ]
  },
  {
   "cell_type": "code",
   "execution_count": null,
   "metadata": {},
   "outputs": [],
   "source": [
    "us_map.head()\n",
    "\n",
    "us_map[\"GeoFips\"] = us_map[\"STATEFP\"] + us_map[\"COUNTYFP\"]\n",
    "\n",
    "us_map.set_index(\"STATEFP\", inplace = True)\n",
    "\n",
    "us_map.drop([\"02\",\"03\",\"15\",\"43\",\"14\",\"79\",\"78\",\"72\",\"69\",\"60\",\"66\"], inplace = True)"
   ]
  },
  {
   "cell_type": "code",
   "execution_count": null,
   "metadata": {},
   "outputs": [],
   "source": [
    "us_counties69.columns"
   ]
  },
  {
   "cell_type": "code",
   "execution_count": null,
   "metadata": {},
   "outputs": [],
   "source": []
  },
  {
   "cell_type": "code",
   "execution_count": null,
   "metadata": {},
   "outputs": [],
   "source": [
    "us_map  = us_map.merge(us_counties69, on='GeoFips', how = \"left\")\n",
    "\n",
    "us_map  = us_map.merge(us_counties15, on='GeoFips', how = \"left\")\n",
    "\n",
    "us_map.head()\n"
   ]
  },
  {
   "cell_type": "code",
   "execution_count": null,
   "metadata": {},
   "outputs": [],
   "source": [
    "us_map[\"log_income\"+ year1] = np.log(us_map[\"IncomePC\"+ year1] / mean69) \n",
    "\n",
    "us_map[\"log_income\"+ year2] = np.log(us_map[\"IncomePC\"+ year2] / mean15) \n",
    "\n",
    "us_map.head()"
   ]
  },
  {
   "cell_type": "code",
   "execution_count": null,
   "metadata": {},
   "outputs": [],
   "source": [
    "fig, ax = plt.subplots(2,1, figsize = (10,15))\n",
    "\n",
    "# First create the map for the urban share\n",
    "\n",
    "us_map.plot(ax = ax[0], edgecolor='tab:grey', column=\"log_income\"+ year1, cmap='RdBu_r', alpha = 0.5)\n",
    "\n",
    "\n",
    "\n",
    "us_map.plot(ax = ax[1], edgecolor='tab:grey', column=\"log_income\"+ year2, cmap='RdBu_r', alpha = 0.5)\n",
    "\n",
    "ax_length = range(0,2)\n",
    "\n",
    "for var in ax_length:\n",
    "    ax[var].spines[\"right\"].set_visible(False)\n",
    "    ax[var].spines[\"top\"].set_visible(False)\n",
    "\n",
    "\n",
    "###################################################\n",
    "\n",
    "plt.show()"
   ]
  },
  {
   "cell_type": "markdown",
   "metadata": {},
   "source": [
    "---"
   ]
  },
  {
   "cell_type": "code",
   "execution_count": null,
   "metadata": {},
   "outputs": [],
   "source": [
    "us_map.head()"
   ]
  },
  {
   "cell_type": "code",
   "execution_count": null,
   "metadata": {},
   "outputs": [],
   "source": []
  },
  {
   "cell_type": "code",
   "execution_count": null,
   "metadata": {
    "scrolled": true
   },
   "outputs": [],
   "source": [
    "df.dtypes"
   ]
  },
  {
   "cell_type": "code",
   "execution_count": null,
   "metadata": {},
   "outputs": [],
   "source": [
    "df[\"TimePeriod\"] = pd.to_datetime(df[\"TimePeriod\"], infer_datetime_format = True)"
   ]
  },
  {
   "cell_type": "code",
   "execution_count": null,
   "metadata": {},
   "outputs": [],
   "source": [
    "df.sort_values(by = \"TimePeriod\", inplace = True)\n"
   ]
  },
  {
   "cell_type": "code",
   "execution_count": null,
   "metadata": {},
   "outputs": [],
   "source": [
    "df.head()"
   ]
  },
  {
   "cell_type": "code",
   "execution_count": null,
   "metadata": {},
   "outputs": [],
   "source": [
    "grp = df.groupby(\"GeoFips\")"
   ]
  },
  {
   "cell_type": "code",
   "execution_count": null,
   "metadata": {},
   "outputs": [],
   "source": [
    "def log_diff_income(df):\n",
    "    df[\"growth\"] = np.log(df.DataValue).diff() / 46\n",
    "    \n",
    "    return df"
   ]
  },
  {
   "cell_type": "code",
   "execution_count": null,
   "metadata": {
    "scrolled": false
   },
   "outputs": [],
   "source": [
    "transform_dict = {\"DataValue\": [\"first\",\"last\", lambda x: np.diff(np.log(x))/46]}\n",
    "\n",
    "new_df = grp.agg(transform_dict)"
   ]
  },
  {
   "cell_type": "code",
   "execution_count": null,
   "metadata": {},
   "outputs": [],
   "source": [
    "new_df[\"DataValue\"][\"last\"].corr(new_df[\"DataValue\"][\"<lambda>\"])"
   ]
  },
  {
   "cell_type": "code",
   "execution_count": null,
   "metadata": {},
   "outputs": [],
   "source": [
    "test =  new_df.diff(axis = 1).toseries"
   ]
  },
  {
   "cell_type": "code",
   "execution_count": null,
   "metadata": {},
   "outputs": [],
   "source": [
    "np.diff?"
   ]
  },
  {
   "cell_type": "code",
   "execution_count": null,
   "metadata": {},
   "outputs": [],
   "source": [
    "grp = df.groupby(\"GeoFips\")\n",
    "grp.get_group(\"44007\").TimePeriod.diff()"
   ]
  },
  {
   "cell_type": "code",
   "execution_count": null,
   "metadata": {},
   "outputs": [],
   "source": [
    "grp.get_group(\"44007\").TimePeriod.diff"
   ]
  },
  {
   "cell_type": "code",
   "execution_count": null,
   "metadata": {},
   "outputs": [],
   "source": [
    "grp.get_group(\"44007\").sort_value"
   ]
  },
  {
   "cell_type": "code",
   "execution_count": null,
   "metadata": {},
   "outputs": [],
   "source": [
    "grp.get_group(\"44007\").sort_values"
   ]
  },
  {
   "cell_type": "code",
   "execution_count": null,
   "metadata": {},
   "outputs": [],
   "source": [
    "new_df.sort_values?"
   ]
  },
  {
   "cell_type": "code",
   "execution_count": null,
   "metadata": {},
   "outputs": [],
   "source": [
    "new_df.growth.corr(new_df.loc[\"1969-01-01\"].DataValue)"
   ]
  },
  {
   "cell_type": "code",
   "execution_count": null,
   "metadata": {},
   "outputs": [],
   "source": [
    "new_df.set_index(\"TimePeriod\", inplace = True)"
   ]
  },
  {
   "cell_type": "code",
   "execution_count": null,
   "metadata": {},
   "outputs": [],
   "source": [
    "df.diff?"
   ]
  },
  {
   "cell_type": "code",
   "execution_count": null,
   "metadata": {},
   "outputs": [],
   "source": []
  }
 ],
 "metadata": {
  "anaconda-cloud": {},
  "hide_input": false,
  "kernelspec": {
   "display_name": "Python 3",
   "language": "python",
   "name": "python3"
  },
  "language_info": {
   "codemirror_mode": {
    "name": "ipython",
    "version": 3
   },
   "file_extension": ".py",
   "mimetype": "text/x-python",
   "name": "python",
   "nbconvert_exporter": "python",
   "pygments_lexer": "ipython3",
   "version": "3.6.5"
  }
 },
 "nbformat": 4,
 "nbformat_minor": 2
}
