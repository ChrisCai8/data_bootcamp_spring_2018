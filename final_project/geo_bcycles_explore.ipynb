{
 "cells": [
  {
   "cell_type": "markdown",
   "metadata": {},
   "source": [
    "This is my \"sandbox\" to play around with the BEA api. My plan is to use this for my regional cycle project. Below I explain how to use the BEA api (stuff has changed since I last messed around with it)"
   ]
  },
  {
   "cell_type": "code",
   "execution_count": 43,
   "metadata": {
    "collapsed": true
   },
   "outputs": [],
   "source": [
    "import pandas as pd\n",
    "import requests\n",
    "import numpy as np\n",
    "import matplotlib.pyplot as plt\n",
    "import weightedcalcs as wc"
   ]
  },
  {
   "cell_type": "code",
   "execution_count": 3,
   "metadata": {
    "collapsed": true
   },
   "outputs": [],
   "source": [
    "BEA_ID = \"place here\""
   ]
  },
  {
   "cell_type": "markdown",
   "metadata": {},
   "source": [
    "After getting your key. [Here is some basic documentation](https://www.bea.gov/API/bea_web_service_api_user_guide.htm). Like a lot APIs, basic idea is to specify the URL in the proper way and it will return some output in a specified format. We can then convert the format (its .json) into a dataframe:\n",
    "\n"
   ]
  },
  {
   "cell_type": "code",
   "execution_count": 4,
   "metadata": {
    "collapsed": true
   },
   "outputs": [],
   "source": [
    "API_URL = \"https://bea.gov/api/data?&\"\n",
    "API_URL = API_URL + \"UserID=\" + BEA_ID + \"&method=GETDATASETLIST&ResultFormat=JSON&\"\n",
    "    \n",
    "r = requests.get(API_URL)"
   ]
  },
  {
   "cell_type": "code",
   "execution_count": 5,
   "metadata": {},
   "outputs": [
    {
     "data": {
      "text/plain": [
       "requests.models.Response"
      ]
     },
     "execution_count": 5,
     "metadata": {},
     "output_type": "execute_result"
    }
   ],
   "source": [
    "type(r)\n"
   ]
  },
  {
   "cell_type": "code",
   "execution_count": 6,
   "metadata": {},
   "outputs": [
    {
     "data": {
      "text/plain": [
       "dict"
      ]
     },
     "execution_count": 6,
     "metadata": {},
     "output_type": "execute_result"
    }
   ],
   "source": [
    "type(r.json())"
   ]
  },
  {
   "cell_type": "code",
   "execution_count": 7,
   "metadata": {},
   "outputs": [
    {
     "name": "stdout",
     "output_type": "stream",
     "text": [
      "dict_keys(['BEAAPI'])\n",
      "dict_keys(['Request', 'Results'])\n",
      "dict_keys(['Dataset'])\n"
     ]
    }
   ],
   "source": [
    "print(r.json().keys())\n",
    "\n",
    "print(r.json()['BEAAPI'].keys())\n",
    "\n",
    "print(r.json()['BEAAPI'][\"Results\"].keys())"
   ]
  },
  {
   "cell_type": "markdown",
   "metadata": {},
   "source": [
    "This then leads to the insight that the `.json()` is a bunch of dictionaries within the dictionaries and that by working through it we can find a \"root dictionary\" that can be converted into a usable DataFrame"
   ]
  },
  {
   "cell_type": "code",
   "execution_count": 8,
   "metadata": {},
   "outputs": [],
   "source": [
    "df = pd.DataFrame(r.json()[\"BEAAPI\"][\"Results\"]['Dataset'])"
   ]
  },
  {
   "cell_type": "code",
   "execution_count": 9,
   "metadata": {},
   "outputs": [
    {
     "data": {
      "text/html": [
       "<div>\n",
       "<style scoped>\n",
       "    .dataframe tbody tr th:only-of-type {\n",
       "        vertical-align: middle;\n",
       "    }\n",
       "\n",
       "    .dataframe tbody tr th {\n",
       "        vertical-align: top;\n",
       "    }\n",
       "\n",
       "    .dataframe thead th {\n",
       "        text-align: right;\n",
       "    }\n",
       "</style>\n",
       "<table border=\"1\" class=\"dataframe\">\n",
       "  <thead>\n",
       "    <tr style=\"text-align: right;\">\n",
       "      <th></th>\n",
       "      <th>DatasetDescription</th>\n",
       "      <th>DatasetName</th>\n",
       "    </tr>\n",
       "  </thead>\n",
       "  <tbody>\n",
       "    <tr>\n",
       "      <th>0</th>\n",
       "      <td>The RegionalData dataset is obsolete. Please u...</td>\n",
       "      <td>RegionalData</td>\n",
       "    </tr>\n",
       "    <tr>\n",
       "      <th>1</th>\n",
       "      <td>Standard NIPA tables</td>\n",
       "      <td>NIPA</td>\n",
       "    </tr>\n",
       "    <tr>\n",
       "      <th>2</th>\n",
       "      <td>Standard NI underlying detail tables</td>\n",
       "      <td>NIUnderlyingDetail</td>\n",
       "    </tr>\n",
       "    <tr>\n",
       "      <th>3</th>\n",
       "      <td>Multinational Enterprises</td>\n",
       "      <td>MNE</td>\n",
       "    </tr>\n",
       "    <tr>\n",
       "      <th>4</th>\n",
       "      <td>Standard Fixed Assets tables</td>\n",
       "      <td>FixedAssets</td>\n",
       "    </tr>\n",
       "    <tr>\n",
       "      <th>5</th>\n",
       "      <td>International Transactions Accounts</td>\n",
       "      <td>ITA</td>\n",
       "    </tr>\n",
       "    <tr>\n",
       "      <th>6</th>\n",
       "      <td>International Investment Position</td>\n",
       "      <td>IIP</td>\n",
       "    </tr>\n",
       "    <tr>\n",
       "      <th>7</th>\n",
       "      <td>GDP by Industry</td>\n",
       "      <td>GDPbyIndustry</td>\n",
       "    </tr>\n",
       "    <tr>\n",
       "      <th>8</th>\n",
       "      <td>Regional Income data sets</td>\n",
       "      <td>RegionalIncome</td>\n",
       "    </tr>\n",
       "    <tr>\n",
       "      <th>9</th>\n",
       "      <td>Regional Product data sets</td>\n",
       "      <td>RegionalProduct</td>\n",
       "    </tr>\n",
       "    <tr>\n",
       "      <th>10</th>\n",
       "      <td>Input-Output Data</td>\n",
       "      <td>InputOutput</td>\n",
       "    </tr>\n",
       "    <tr>\n",
       "      <th>11</th>\n",
       "      <td>Underlying GDP by Industry</td>\n",
       "      <td>UnderlyingGDPbyIndustry</td>\n",
       "    </tr>\n",
       "    <tr>\n",
       "      <th>12</th>\n",
       "      <td>International Services Trade</td>\n",
       "      <td>IntlServTrade</td>\n",
       "    </tr>\n",
       "    <tr>\n",
       "      <th>13</th>\n",
       "      <td>Metadata about other API datasets</td>\n",
       "      <td>APIDatasetMetaData</td>\n",
       "    </tr>\n",
       "  </tbody>\n",
       "</table>\n",
       "</div>"
      ],
      "text/plain": [
       "                                   DatasetDescription              DatasetName\n",
       "0   The RegionalData dataset is obsolete. Please u...             RegionalData\n",
       "1                                Standard NIPA tables                     NIPA\n",
       "2                Standard NI underlying detail tables       NIUnderlyingDetail\n",
       "3                           Multinational Enterprises                      MNE\n",
       "4                        Standard Fixed Assets tables              FixedAssets\n",
       "5                 International Transactions Accounts                      ITA\n",
       "6                   International Investment Position                      IIP\n",
       "7                                     GDP by Industry            GDPbyIndustry\n",
       "8                           Regional Income data sets           RegionalIncome\n",
       "9                          Regional Product data sets          RegionalProduct\n",
       "10                                  Input-Output Data              InputOutput\n",
       "11                         Underlying GDP by Industry  UnderlyingGDPbyIndustry\n",
       "12                       International Services Trade            IntlServTrade\n",
       "13                  Metadata about other API datasets       APIDatasetMetaData"
      ]
     },
     "execution_count": 9,
     "metadata": {},
     "output_type": "execute_result"
    }
   ],
   "source": [
    "df"
   ]
  },
  {
   "cell_type": "markdown",
   "metadata": {},
   "source": [
    "Then this gives us the different datasets that are available through the BEA api. Now below, I'm going to grab personal income at the county level. The documentation for grabing this is [here](https://www.bea.gov/API/bea_web_service_api_user_guide.htm)"
   ]
  },
  {
   "cell_type": "markdown",
   "metadata": {},
   "source": [
    "---\n",
    "\n",
    "Now what I want to do is to (for all years possible), grab the [personal per capital income](https://www.bea.gov/regional/#defs) and the population measure at the country level. There are several steps here. First, I construct a string of all the years I want. Then I pass the appropriate URL to the BEA. This took some time to figure this all out."
   ]
  },
  {
   "cell_type": "code",
   "execution_count": 10,
   "metadata": {
    "collapsed": true
   },
   "outputs": [],
   "source": [
    "years = range(1969,2018)\n",
    "years = list(years)\n",
    "\n",
    "years = \"\".join(str(years))\n",
    "\n",
    "years = years[1:-1]"
   ]
  },
  {
   "cell_type": "code",
   "execution_count": 11,
   "metadata": {},
   "outputs": [
    {
     "data": {
      "text/plain": [
       "'1969, 1970, 1971, 1972, 1973, 1974, 1975, 1976, 1977, 1978, 1979, 1980, 1981, 1982, 1983, 1984, 1985, 1986, 1987, 1988, 1989, 1990, 1991, 1992, 1993, 1994, 1995, 1996, 1997, 1998, 1999, 2000, 2001, 2002, 2003, 2004, 2005, 2006, 2007, 2008, 2009, 2010, 2011, 2012, 2013, 2014, 2015, 2016, 2017'"
      ]
     },
     "execution_count": 11,
     "metadata": {},
     "output_type": "execute_result"
    }
   ],
   "source": [
    "years"
   ]
  },
  {
   "cell_type": "markdown",
   "metadata": {},
   "source": [
    "This then grabs the per capita personal income data:"
   ]
  },
  {
   "cell_type": "code",
   "execution_count": 12,
   "metadata": {
    "collapsed": true
   },
   "outputs": [],
   "source": [
    "my_key = \"https://bea.gov/api/data?&UserID=\" + BEA_ID + \"&method=GetData&\"\n",
    "\n",
    "data_set = \"datasetname=RegionalIncome&\"\n",
    "\n",
    "table_and_line_income = \"TableName=CA1&LineCode=3&\"\n",
    "\n",
    "table_and_line_population = \"TableName=CA1&LineCode=2&\"\n",
    "\n",
    "year = \"Year=\" + years + \"&\"\n",
    "\n",
    "location = \"GeoFips=COUNTY&\"\n",
    "\n",
    "form = \"ResultFormat=json\""
   ]
  },
  {
   "cell_type": "code",
   "execution_count": 13,
   "metadata": {
    "collapsed": true,
    "scrolled": false
   },
   "outputs": [],
   "source": [
    "API_URL = my_key + data_set + table_and_line_income + year + location + form\n",
    "\n",
    "r = requests.get(API_URL)\n",
    "\n",
    "df_income = pd.DataFrame(r.json()[\"BEAAPI\"][\"Results\"][\"Data\"])"
   ]
  },
  {
   "cell_type": "code",
   "execution_count": 14,
   "metadata": {},
   "outputs": [
    {
     "data": {
      "text/html": [
       "<div>\n",
       "<style scoped>\n",
       "    .dataframe tbody tr th:only-of-type {\n",
       "        vertical-align: middle;\n",
       "    }\n",
       "\n",
       "    .dataframe tbody tr th {\n",
       "        vertical-align: top;\n",
       "    }\n",
       "\n",
       "    .dataframe thead th {\n",
       "        text-align: right;\n",
       "    }\n",
       "</style>\n",
       "<table border=\"1\" class=\"dataframe\">\n",
       "  <thead>\n",
       "    <tr style=\"text-align: right;\">\n",
       "      <th></th>\n",
       "      <th>CL_UNIT</th>\n",
       "      <th>Code</th>\n",
       "      <th>DataValue</th>\n",
       "      <th>GeoFips</th>\n",
       "      <th>GeoName</th>\n",
       "      <th>NoteRef</th>\n",
       "      <th>TimePeriod</th>\n",
       "      <th>UNIT_MULT</th>\n",
       "    </tr>\n",
       "  </thead>\n",
       "  <tbody>\n",
       "    <tr>\n",
       "      <th>0</th>\n",
       "      <td>dollars</td>\n",
       "      <td>CA1-3</td>\n",
       "      <td>9212</td>\n",
       "      <td>00000</td>\n",
       "      <td>United States</td>\n",
       "      <td>NaN</td>\n",
       "      <td>1979</td>\n",
       "      <td>0</td>\n",
       "    </tr>\n",
       "    <tr>\n",
       "      <th>1</th>\n",
       "      <td>dollars</td>\n",
       "      <td>CA1-3</td>\n",
       "      <td>22538</td>\n",
       "      <td>00000</td>\n",
       "      <td>United States</td>\n",
       "      <td>NaN</td>\n",
       "      <td>1994</td>\n",
       "      <td>0</td>\n",
       "    </tr>\n",
       "    <tr>\n",
       "      <th>2</th>\n",
       "      <td>dollars</td>\n",
       "      <td>CA1-3</td>\n",
       "      <td>14719</td>\n",
       "      <td>00000</td>\n",
       "      <td>United States</td>\n",
       "      <td>NaN</td>\n",
       "      <td>1985</td>\n",
       "      <td>0</td>\n",
       "    </tr>\n",
       "    <tr>\n",
       "      <th>3</th>\n",
       "      <td>dollars</td>\n",
       "      <td>CA1-3</td>\n",
       "      <td>3930</td>\n",
       "      <td>00000</td>\n",
       "      <td>United States</td>\n",
       "      <td>NaN</td>\n",
       "      <td>1969</td>\n",
       "      <td>0</td>\n",
       "    </tr>\n",
       "    <tr>\n",
       "      <th>4</th>\n",
       "      <td>dollars</td>\n",
       "      <td>CA1-3</td>\n",
       "      <td>5824</td>\n",
       "      <td>00000</td>\n",
       "      <td>United States</td>\n",
       "      <td>NaN</td>\n",
       "      <td>1974</td>\n",
       "      <td>0</td>\n",
       "    </tr>\n",
       "    <tr>\n",
       "      <th>5</th>\n",
       "      <td>dollars</td>\n",
       "      <td>CA1-3</td>\n",
       "      <td>16265</td>\n",
       "      <td>00000</td>\n",
       "      <td>United States</td>\n",
       "      <td>NaN</td>\n",
       "      <td>1987</td>\n",
       "      <td>0</td>\n",
       "    </tr>\n",
       "    <tr>\n",
       "      <th>6</th>\n",
       "      <td>dollars</td>\n",
       "      <td>CA1-3</td>\n",
       "      <td>28627</td>\n",
       "      <td>00000</td>\n",
       "      <td>United States</td>\n",
       "      <td>NaN</td>\n",
       "      <td>1999</td>\n",
       "      <td>0</td>\n",
       "    </tr>\n",
       "    <tr>\n",
       "      <th>7</th>\n",
       "      <td>dollars</td>\n",
       "      <td>CA1-3</td>\n",
       "      <td>39821</td>\n",
       "      <td>00000</td>\n",
       "      <td>United States</td>\n",
       "      <td>NaN</td>\n",
       "      <td>2007</td>\n",
       "      <td>0</td>\n",
       "    </tr>\n",
       "    <tr>\n",
       "      <th>8</th>\n",
       "      <td>dollars</td>\n",
       "      <td>CA1-3</td>\n",
       "      <td>11947</td>\n",
       "      <td>00000</td>\n",
       "      <td>United States</td>\n",
       "      <td>NaN</td>\n",
       "      <td>1982</td>\n",
       "      <td>0</td>\n",
       "    </tr>\n",
       "    <tr>\n",
       "      <th>9</th>\n",
       "      <td>dollars</td>\n",
       "      <td>CA1-3</td>\n",
       "      <td>7494</td>\n",
       "      <td>00000</td>\n",
       "      <td>United States</td>\n",
       "      <td>NaN</td>\n",
       "      <td>1977</td>\n",
       "      <td>0</td>\n",
       "    </tr>\n",
       "    <tr>\n",
       "      <th>10</th>\n",
       "      <td>dollars</td>\n",
       "      <td>CA1-3</td>\n",
       "      <td>25950</td>\n",
       "      <td>00000</td>\n",
       "      <td>United States</td>\n",
       "      <td>NaN</td>\n",
       "      <td>1997</td>\n",
       "      <td>0</td>\n",
       "    </tr>\n",
       "    <tr>\n",
       "      <th>11</th>\n",
       "      <td>dollars</td>\n",
       "      <td>CA1-3</td>\n",
       "      <td>31815</td>\n",
       "      <td>00000</td>\n",
       "      <td>United States</td>\n",
       "      <td>NaN</td>\n",
       "      <td>2002</td>\n",
       "      <td>0</td>\n",
       "    </tr>\n",
       "    <tr>\n",
       "      <th>12</th>\n",
       "      <td>dollars</td>\n",
       "      <td>CA1-3</td>\n",
       "      <td>21698</td>\n",
       "      <td>00000</td>\n",
       "      <td>United States</td>\n",
       "      <td>NaN</td>\n",
       "      <td>1993</td>\n",
       "      <td>0</td>\n",
       "    </tr>\n",
       "    <tr>\n",
       "      <th>13</th>\n",
       "      <td>dollars</td>\n",
       "      <td>CA1-3</td>\n",
       "      <td>27510</td>\n",
       "      <td>00000</td>\n",
       "      <td>United States</td>\n",
       "      <td>NaN</td>\n",
       "      <td>1998</td>\n",
       "      <td>0</td>\n",
       "    </tr>\n",
       "    <tr>\n",
       "      <th>14</th>\n",
       "      <td>dollars</td>\n",
       "      <td>CA1-3</td>\n",
       "      <td>23568</td>\n",
       "      <td>00000</td>\n",
       "      <td>United States</td>\n",
       "      <td>NaN</td>\n",
       "      <td>1995</td>\n",
       "      <td>0</td>\n",
       "    </tr>\n",
       "    <tr>\n",
       "      <th>15</th>\n",
       "      <td>dollars</td>\n",
       "      <td>CA1-3</td>\n",
       "      <td>34316</td>\n",
       "      <td>00000</td>\n",
       "      <td>United States</td>\n",
       "      <td>NaN</td>\n",
       "      <td>2004</td>\n",
       "      <td>0</td>\n",
       "    </tr>\n",
       "    <tr>\n",
       "      <th>16</th>\n",
       "      <td>dollars</td>\n",
       "      <td>CA1-3</td>\n",
       "      <td>39376</td>\n",
       "      <td>00000</td>\n",
       "      <td>United States</td>\n",
       "      <td>NaN</td>\n",
       "      <td>2009</td>\n",
       "      <td>0</td>\n",
       "    </tr>\n",
       "    <tr>\n",
       "      <th>17</th>\n",
       "      <td>dollars</td>\n",
       "      <td>CA1-3</td>\n",
       "      <td>38144</td>\n",
       "      <td>00000</td>\n",
       "      <td>United States</td>\n",
       "      <td>NaN</td>\n",
       "      <td>2006</td>\n",
       "      <td>0</td>\n",
       "    </tr>\n",
       "    <tr>\n",
       "      <th>18</th>\n",
       "      <td>dollars</td>\n",
       "      <td>CA1-3</td>\n",
       "      <td>19591</td>\n",
       "      <td>00000</td>\n",
       "      <td>United States</td>\n",
       "      <td>NaN</td>\n",
       "      <td>1990</td>\n",
       "      <td>0</td>\n",
       "    </tr>\n",
       "    <tr>\n",
       "      <th>19</th>\n",
       "      <td>dollars</td>\n",
       "      <td>CA1-3</td>\n",
       "      <td>30602</td>\n",
       "      <td>00000</td>\n",
       "      <td>United States</td>\n",
       "      <td>NaN</td>\n",
       "      <td>2000</td>\n",
       "      <td>0</td>\n",
       "    </tr>\n",
       "    <tr>\n",
       "      <th>20</th>\n",
       "      <td>dollars</td>\n",
       "      <td>CA1-3</td>\n",
       "      <td>41082</td>\n",
       "      <td>00000</td>\n",
       "      <td>United States</td>\n",
       "      <td>NaN</td>\n",
       "      <td>2008</td>\n",
       "      <td>0</td>\n",
       "    </tr>\n",
       "    <tr>\n",
       "      <th>21</th>\n",
       "      <td>dollars</td>\n",
       "      <td>CA1-3</td>\n",
       "      <td>24728</td>\n",
       "      <td>00000</td>\n",
       "      <td>United States</td>\n",
       "      <td>NaN</td>\n",
       "      <td>1996</td>\n",
       "      <td>0</td>\n",
       "    </tr>\n",
       "    <tr>\n",
       "      <th>22</th>\n",
       "      <td>dollars</td>\n",
       "      <td>CA1-3</td>\n",
       "      <td>31540</td>\n",
       "      <td>00000</td>\n",
       "      <td>United States</td>\n",
       "      <td>NaN</td>\n",
       "      <td>2001</td>\n",
       "      <td>0</td>\n",
       "    </tr>\n",
       "    <tr>\n",
       "      <th>23</th>\n",
       "      <td>dollars</td>\n",
       "      <td>CA1-3</td>\n",
       "      <td>19985</td>\n",
       "      <td>00000</td>\n",
       "      <td>United States</td>\n",
       "      <td>NaN</td>\n",
       "      <td>1991</td>\n",
       "      <td>0</td>\n",
       "    </tr>\n",
       "    <tr>\n",
       "      <th>24</th>\n",
       "      <td>dollars</td>\n",
       "      <td>CA1-3</td>\n",
       "      <td>32692</td>\n",
       "      <td>00000</td>\n",
       "      <td>United States</td>\n",
       "      <td>NaN</td>\n",
       "      <td>2003</td>\n",
       "      <td>0</td>\n",
       "    </tr>\n",
       "    <tr>\n",
       "      <th>25</th>\n",
       "      <td>dollars</td>\n",
       "      <td>CA1-3</td>\n",
       "      <td>17426</td>\n",
       "      <td>00000</td>\n",
       "      <td>United States</td>\n",
       "      <td>NaN</td>\n",
       "      <td>1988</td>\n",
       "      <td>0</td>\n",
       "    </tr>\n",
       "    <tr>\n",
       "      <th>26</th>\n",
       "      <td>dollars</td>\n",
       "      <td>CA1-3</td>\n",
       "      <td>4853</td>\n",
       "      <td>00000</td>\n",
       "      <td>United States</td>\n",
       "      <td>NaN</td>\n",
       "      <td>1972</td>\n",
       "      <td>0</td>\n",
       "    </tr>\n",
       "    <tr>\n",
       "      <th>27</th>\n",
       "      <td>dollars</td>\n",
       "      <td>CA1-3</td>\n",
       "      <td>13860</td>\n",
       "      <td>00000</td>\n",
       "      <td>United States</td>\n",
       "      <td>NaN</td>\n",
       "      <td>1984</td>\n",
       "      <td>0</td>\n",
       "    </tr>\n",
       "    <tr>\n",
       "      <th>28</th>\n",
       "      <td>dollars</td>\n",
       "      <td>CA1-3</td>\n",
       "      <td>18653</td>\n",
       "      <td>00000</td>\n",
       "      <td>United States</td>\n",
       "      <td>NaN</td>\n",
       "      <td>1989</td>\n",
       "      <td>0</td>\n",
       "    </tr>\n",
       "    <tr>\n",
       "      <th>29</th>\n",
       "      <td>dollars</td>\n",
       "      <td>CA1-3</td>\n",
       "      <td>5352</td>\n",
       "      <td>00000</td>\n",
       "      <td>United States</td>\n",
       "      <td>NaN</td>\n",
       "      <td>1973</td>\n",
       "      <td>0</td>\n",
       "    </tr>\n",
       "    <tr>\n",
       "      <th>30</th>\n",
       "      <td>dollars</td>\n",
       "      <td>CA1-3</td>\n",
       "      <td>15459</td>\n",
       "      <td>00000</td>\n",
       "      <td>United States</td>\n",
       "      <td>NaN</td>\n",
       "      <td>1986</td>\n",
       "      <td>0</td>\n",
       "    </tr>\n",
       "    <tr>\n",
       "      <th>31</th>\n",
       "      <td>dollars</td>\n",
       "      <td>CA1-3</td>\n",
       "      <td>4196</td>\n",
       "      <td>00000</td>\n",
       "      <td>United States</td>\n",
       "      <td>NaN</td>\n",
       "      <td>1970</td>\n",
       "      <td>0</td>\n",
       "    </tr>\n",
       "    <tr>\n",
       "      <th>32</th>\n",
       "      <td>dollars</td>\n",
       "      <td>CA1-3</td>\n",
       "      <td>10153</td>\n",
       "      <td>00000</td>\n",
       "      <td>United States</td>\n",
       "      <td>NaN</td>\n",
       "      <td>1980</td>\n",
       "      <td>0</td>\n",
       "    </tr>\n",
       "    <tr>\n",
       "      <th>33</th>\n",
       "      <td>dollars</td>\n",
       "      <td>CA1-3</td>\n",
       "      <td>11262</td>\n",
       "      <td>00000</td>\n",
       "      <td>United States</td>\n",
       "      <td>NaN</td>\n",
       "      <td>1981</td>\n",
       "      <td>0</td>\n",
       "    </tr>\n",
       "    <tr>\n",
       "      <th>34</th>\n",
       "      <td>dollars</td>\n",
       "      <td>CA1-3</td>\n",
       "      <td>4468</td>\n",
       "      <td>00000</td>\n",
       "      <td>United States</td>\n",
       "      <td>NaN</td>\n",
       "      <td>1971</td>\n",
       "      <td>0</td>\n",
       "    </tr>\n",
       "    <tr>\n",
       "      <th>35</th>\n",
       "      <td>dollars</td>\n",
       "      <td>CA1-3</td>\n",
       "      <td>6856</td>\n",
       "      <td>00000</td>\n",
       "      <td>United States</td>\n",
       "      <td>NaN</td>\n",
       "      <td>1976</td>\n",
       "      <td>0</td>\n",
       "    </tr>\n",
       "    <tr>\n",
       "      <th>36</th>\n",
       "      <td>dollars</td>\n",
       "      <td>CA1-3</td>\n",
       "      <td>8338</td>\n",
       "      <td>00000</td>\n",
       "      <td>United States</td>\n",
       "      <td>NaN</td>\n",
       "      <td>1978</td>\n",
       "      <td>0</td>\n",
       "    </tr>\n",
       "    <tr>\n",
       "      <th>37</th>\n",
       "      <td>dollars</td>\n",
       "      <td>CA1-3</td>\n",
       "      <td>6312</td>\n",
       "      <td>00000</td>\n",
       "      <td>United States</td>\n",
       "      <td>NaN</td>\n",
       "      <td>1975</td>\n",
       "      <td>0</td>\n",
       "    </tr>\n",
       "    <tr>\n",
       "      <th>38</th>\n",
       "      <td>dollars</td>\n",
       "      <td>CA1-3</td>\n",
       "      <td>12652</td>\n",
       "      <td>00000</td>\n",
       "      <td>United States</td>\n",
       "      <td>NaN</td>\n",
       "      <td>1983</td>\n",
       "      <td>0</td>\n",
       "    </tr>\n",
       "    <tr>\n",
       "      <th>39</th>\n",
       "      <td>dollars</td>\n",
       "      <td>CA1-3</td>\n",
       "      <td>21060</td>\n",
       "      <td>00000</td>\n",
       "      <td>United States</td>\n",
       "      <td>NaN</td>\n",
       "      <td>1992</td>\n",
       "      <td>0</td>\n",
       "    </tr>\n",
       "    <tr>\n",
       "      <th>40</th>\n",
       "      <td>dollars</td>\n",
       "      <td>CA1-3</td>\n",
       "      <td>46494</td>\n",
       "      <td>00000</td>\n",
       "      <td>United States</td>\n",
       "      <td>NaN</td>\n",
       "      <td>2014</td>\n",
       "      <td>0</td>\n",
       "    </tr>\n",
       "    <tr>\n",
       "      <th>41</th>\n",
       "      <td>dollars</td>\n",
       "      <td>CA1-3</td>\n",
       "      <td>42461</td>\n",
       "      <td>00000</td>\n",
       "      <td>United States</td>\n",
       "      <td>NaN</td>\n",
       "      <td>2011</td>\n",
       "      <td>0</td>\n",
       "    </tr>\n",
       "    <tr>\n",
       "      <th>42</th>\n",
       "      <td>dollars</td>\n",
       "      <td>CA1-3</td>\n",
       "      <td>35904</td>\n",
       "      <td>00000</td>\n",
       "      <td>United States</td>\n",
       "      <td>NaN</td>\n",
       "      <td>2005</td>\n",
       "      <td>0</td>\n",
       "    </tr>\n",
       "    <tr>\n",
       "      <th>43</th>\n",
       "      <td>dollars</td>\n",
       "      <td>CA1-3</td>\n",
       "      <td>40277</td>\n",
       "      <td>00000</td>\n",
       "      <td>United States</td>\n",
       "      <td>NaN</td>\n",
       "      <td>2010</td>\n",
       "      <td>0</td>\n",
       "    </tr>\n",
       "    <tr>\n",
       "      <th>44</th>\n",
       "      <td>dollars</td>\n",
       "      <td>CA1-3</td>\n",
       "      <td>48451</td>\n",
       "      <td>00000</td>\n",
       "      <td>United States</td>\n",
       "      <td>NaN</td>\n",
       "      <td>2015</td>\n",
       "      <td>0</td>\n",
       "    </tr>\n",
       "  </tbody>\n",
       "</table>\n",
       "</div>"
      ],
      "text/plain": [
       "    CL_UNIT   Code DataValue GeoFips        GeoName NoteRef TimePeriod  \\\n",
       "0   dollars  CA1-3      9212   00000  United States     NaN       1979   \n",
       "1   dollars  CA1-3     22538   00000  United States     NaN       1994   \n",
       "2   dollars  CA1-3     14719   00000  United States     NaN       1985   \n",
       "3   dollars  CA1-3      3930   00000  United States     NaN       1969   \n",
       "4   dollars  CA1-3      5824   00000  United States     NaN       1974   \n",
       "5   dollars  CA1-3     16265   00000  United States     NaN       1987   \n",
       "6   dollars  CA1-3     28627   00000  United States     NaN       1999   \n",
       "7   dollars  CA1-3     39821   00000  United States     NaN       2007   \n",
       "8   dollars  CA1-3     11947   00000  United States     NaN       1982   \n",
       "9   dollars  CA1-3      7494   00000  United States     NaN       1977   \n",
       "10  dollars  CA1-3     25950   00000  United States     NaN       1997   \n",
       "11  dollars  CA1-3     31815   00000  United States     NaN       2002   \n",
       "12  dollars  CA1-3     21698   00000  United States     NaN       1993   \n",
       "13  dollars  CA1-3     27510   00000  United States     NaN       1998   \n",
       "14  dollars  CA1-3     23568   00000  United States     NaN       1995   \n",
       "15  dollars  CA1-3     34316   00000  United States     NaN       2004   \n",
       "16  dollars  CA1-3     39376   00000  United States     NaN       2009   \n",
       "17  dollars  CA1-3     38144   00000  United States     NaN       2006   \n",
       "18  dollars  CA1-3     19591   00000  United States     NaN       1990   \n",
       "19  dollars  CA1-3     30602   00000  United States     NaN       2000   \n",
       "20  dollars  CA1-3     41082   00000  United States     NaN       2008   \n",
       "21  dollars  CA1-3     24728   00000  United States     NaN       1996   \n",
       "22  dollars  CA1-3     31540   00000  United States     NaN       2001   \n",
       "23  dollars  CA1-3     19985   00000  United States     NaN       1991   \n",
       "24  dollars  CA1-3     32692   00000  United States     NaN       2003   \n",
       "25  dollars  CA1-3     17426   00000  United States     NaN       1988   \n",
       "26  dollars  CA1-3      4853   00000  United States     NaN       1972   \n",
       "27  dollars  CA1-3     13860   00000  United States     NaN       1984   \n",
       "28  dollars  CA1-3     18653   00000  United States     NaN       1989   \n",
       "29  dollars  CA1-3      5352   00000  United States     NaN       1973   \n",
       "30  dollars  CA1-3     15459   00000  United States     NaN       1986   \n",
       "31  dollars  CA1-3      4196   00000  United States     NaN       1970   \n",
       "32  dollars  CA1-3     10153   00000  United States     NaN       1980   \n",
       "33  dollars  CA1-3     11262   00000  United States     NaN       1981   \n",
       "34  dollars  CA1-3      4468   00000  United States     NaN       1971   \n",
       "35  dollars  CA1-3      6856   00000  United States     NaN       1976   \n",
       "36  dollars  CA1-3      8338   00000  United States     NaN       1978   \n",
       "37  dollars  CA1-3      6312   00000  United States     NaN       1975   \n",
       "38  dollars  CA1-3     12652   00000  United States     NaN       1983   \n",
       "39  dollars  CA1-3     21060   00000  United States     NaN       1992   \n",
       "40  dollars  CA1-3     46494   00000  United States     NaN       2014   \n",
       "41  dollars  CA1-3     42461   00000  United States     NaN       2011   \n",
       "42  dollars  CA1-3     35904   00000  United States     NaN       2005   \n",
       "43  dollars  CA1-3     40277   00000  United States     NaN       2010   \n",
       "44  dollars  CA1-3     48451   00000  United States     NaN       2015   \n",
       "\n",
       "   UNIT_MULT  \n",
       "0          0  \n",
       "1          0  \n",
       "2          0  \n",
       "3          0  \n",
       "4          0  \n",
       "5          0  \n",
       "6          0  \n",
       "7          0  \n",
       "8          0  \n",
       "9          0  \n",
       "10         0  \n",
       "11         0  \n",
       "12         0  \n",
       "13         0  \n",
       "14         0  \n",
       "15         0  \n",
       "16         0  \n",
       "17         0  \n",
       "18         0  \n",
       "19         0  \n",
       "20         0  \n",
       "21         0  \n",
       "22         0  \n",
       "23         0  \n",
       "24         0  \n",
       "25         0  \n",
       "26         0  \n",
       "27         0  \n",
       "28         0  \n",
       "29         0  \n",
       "30         0  \n",
       "31         0  \n",
       "32         0  \n",
       "33         0  \n",
       "34         0  \n",
       "35         0  \n",
       "36         0  \n",
       "37         0  \n",
       "38         0  \n",
       "39         0  \n",
       "40         0  \n",
       "41         0  \n",
       "42         0  \n",
       "43         0  \n",
       "44         0  "
      ]
     },
     "execution_count": 14,
     "metadata": {},
     "output_type": "execute_result"
    }
   ],
   "source": [
    "df_income.head(45)"
   ]
  },
  {
   "cell_type": "code",
   "execution_count": 15,
   "metadata": {},
   "outputs": [
    {
     "data": {
      "text/html": [
       "<div>\n",
       "<style scoped>\n",
       "    .dataframe tbody tr th:only-of-type {\n",
       "        vertical-align: middle;\n",
       "    }\n",
       "\n",
       "    .dataframe tbody tr th {\n",
       "        vertical-align: top;\n",
       "    }\n",
       "\n",
       "    .dataframe thead th {\n",
       "        text-align: right;\n",
       "    }\n",
       "</style>\n",
       "<table border=\"1\" class=\"dataframe\">\n",
       "  <thead>\n",
       "    <tr style=\"text-align: right;\">\n",
       "      <th></th>\n",
       "      <th>IncomePC</th>\n",
       "      <th>GeoFips</th>\n",
       "      <th>GeoName</th>\n",
       "      <th>TimePeriod</th>\n",
       "    </tr>\n",
       "  </thead>\n",
       "  <tbody>\n",
       "    <tr>\n",
       "      <th>0</th>\n",
       "      <td>9212</td>\n",
       "      <td>00000</td>\n",
       "      <td>United States</td>\n",
       "      <td>1979</td>\n",
       "    </tr>\n",
       "    <tr>\n",
       "      <th>1</th>\n",
       "      <td>22538</td>\n",
       "      <td>00000</td>\n",
       "      <td>United States</td>\n",
       "      <td>1994</td>\n",
       "    </tr>\n",
       "    <tr>\n",
       "      <th>2</th>\n",
       "      <td>14719</td>\n",
       "      <td>00000</td>\n",
       "      <td>United States</td>\n",
       "      <td>1985</td>\n",
       "    </tr>\n",
       "    <tr>\n",
       "      <th>3</th>\n",
       "      <td>3930</td>\n",
       "      <td>00000</td>\n",
       "      <td>United States</td>\n",
       "      <td>1969</td>\n",
       "    </tr>\n",
       "    <tr>\n",
       "      <th>4</th>\n",
       "      <td>5824</td>\n",
       "      <td>00000</td>\n",
       "      <td>United States</td>\n",
       "      <td>1974</td>\n",
       "    </tr>\n",
       "  </tbody>\n",
       "</table>\n",
       "</div>"
      ],
      "text/plain": [
       "  IncomePC GeoFips        GeoName TimePeriod\n",
       "0     9212   00000  United States       1979\n",
       "1    22538   00000  United States       1994\n",
       "2    14719   00000  United States       1985\n",
       "3     3930   00000  United States       1969\n",
       "4     5824   00000  United States       1974"
      ]
     },
     "execution_count": 15,
     "metadata": {},
     "output_type": "execute_result"
    }
   ],
   "source": [
    "df_income.drop(['CL_UNIT', 'Code',\"NoteRef\", \"UNIT_MULT\"], axis=1, inplace = True)\n",
    "\n",
    "#df[\"DataValue\"].column = \"IncomePC\"\n",
    "\n",
    "df_income.rename(columns={\"DataValue\":\"IncomePC\"}, inplace=True)\n",
    "\n",
    "df_income.head()"
   ]
  },
  {
   "cell_type": "code",
   "execution_count": 16,
   "metadata": {
    "scrolled": true
   },
   "outputs": [
    {
     "data": {
      "text/html": [
       "<div>\n",
       "<style scoped>\n",
       "    .dataframe tbody tr th:only-of-type {\n",
       "        vertical-align: middle;\n",
       "    }\n",
       "\n",
       "    .dataframe tbody tr th {\n",
       "        vertical-align: top;\n",
       "    }\n",
       "\n",
       "    .dataframe thead th {\n",
       "        text-align: right;\n",
       "    }\n",
       "</style>\n",
       "<table border=\"1\" class=\"dataframe\">\n",
       "  <thead>\n",
       "    <tr style=\"text-align: right;\">\n",
       "      <th></th>\n",
       "      <th>Population</th>\n",
       "      <th>GeoFips</th>\n",
       "      <th>TimePeriod</th>\n",
       "    </tr>\n",
       "  </thead>\n",
       "  <tbody>\n",
       "    <tr>\n",
       "      <th>0</th>\n",
       "      <td>323127513</td>\n",
       "      <td>00000</td>\n",
       "      <td>2016</td>\n",
       "    </tr>\n",
       "    <tr>\n",
       "      <th>1</th>\n",
       "      <td>306771529</td>\n",
       "      <td>00000</td>\n",
       "      <td>2009</td>\n",
       "    </tr>\n",
       "    <tr>\n",
       "      <th>2</th>\n",
       "      <td>224568579</td>\n",
       "      <td>00000</td>\n",
       "      <td>1979</td>\n",
       "    </tr>\n",
       "    <tr>\n",
       "      <th>3</th>\n",
       "      <td>217553859</td>\n",
       "      <td>00000</td>\n",
       "      <td>1976</td>\n",
       "    </tr>\n",
       "    <tr>\n",
       "      <th>4</th>\n",
       "      <td>213333635</td>\n",
       "      <td>00000</td>\n",
       "      <td>1974</td>\n",
       "    </tr>\n",
       "  </tbody>\n",
       "</table>\n",
       "</div>"
      ],
      "text/plain": [
       "  Population GeoFips TimePeriod\n",
       "0  323127513   00000       2016\n",
       "1  306771529   00000       2009\n",
       "2  224568579   00000       1979\n",
       "3  217553859   00000       1976\n",
       "4  213333635   00000       1974"
      ]
     },
     "execution_count": 16,
     "metadata": {},
     "output_type": "execute_result"
    }
   ],
   "source": [
    "API_URL = my_key + data_set + table_and_line_population + year + location + form\n",
    "\n",
    "r = requests.get(API_URL)\n",
    "\n",
    "population = pd.DataFrame(r.json()[\"BEAAPI\"][\"Results\"][\"Data\"])\n",
    "\n",
    "population.drop(['CL_UNIT', 'Code',\"NoteRef\", \"UNIT_MULT\", \"GeoName\"], axis=1, inplace = True)\n",
    "\n",
    "#df[\"DataValue\"].column = \"IncomePC\"\n",
    "\n",
    "population.rename(columns={\"DataValue\":\"Population\"}, inplace=True)\n",
    "\n",
    "population.head()"
   ]
  },
  {
   "cell_type": "code",
   "execution_count": 105,
   "metadata": {
    "collapsed": true
   },
   "outputs": [],
   "source": [
    "combo = pd.merge(population, df_income,   # left df, right df\n",
    "                 how='inner',      # Try the different options, inner, outer, left, right...what happens.\n",
    "                 on=['GeoFips',\"TimePeriod\"],       # link with cntry\n",
    "                 indicator=True)  # Tells us what happend"
   ]
  },
  {
   "cell_type": "code",
   "execution_count": 106,
   "metadata": {
    "collapsed": true
   },
   "outputs": [],
   "source": [
    "combo[\"TimePeriod\"] = pd.to_datetime(combo[\"TimePeriod\"], infer_datetime_format = True)\n",
    "\n",
    "#combo.sort_values(by = \"TimePeriod\", inplace = True)"
   ]
  },
  {
   "cell_type": "code",
   "execution_count": 107,
   "metadata": {
    "collapsed": true
   },
   "outputs": [],
   "source": [
    "combo.set_index([\"GeoFips\",\"TimePeriod\"],inplace = True)"
   ]
  },
  {
   "cell_type": "code",
   "execution_count": 108,
   "metadata": {
    "collapsed": true
   },
   "outputs": [],
   "source": [
    "combo.sort_index(level=\"GeoFips\", inplace = True)"
   ]
  },
  {
   "cell_type": "code",
   "execution_count": 109,
   "metadata": {},
   "outputs": [
    {
     "data": {
      "text/plain": [
       "(153504,)"
      ]
     },
     "execution_count": 109,
     "metadata": {},
     "output_type": "execute_result"
    }
   ],
   "source": [
    "combo.index.shape"
   ]
  },
  {
   "cell_type": "code",
   "execution_count": 110,
   "metadata": {
    "collapsed": true
   },
   "outputs": [],
   "source": [
    "combo.Population.replace(\"(NA)\", np.nan, inplace = True)\n",
    "combo.Population = combo.Population.astype(float)"
   ]
  },
  {
   "cell_type": "code",
   "execution_count": 111,
   "metadata": {
    "collapsed": true
   },
   "outputs": [],
   "source": [
    "combo.IncomePC.replace(\"(NA)\", np.nan, inplace = True)\n",
    "combo.IncomePC = combo.IncomePC.astype(float)"
   ]
  },
  {
   "cell_type": "code",
   "execution_count": 112,
   "metadata": {
    "collapsed": true
   },
   "outputs": [],
   "source": [
    "us_agg = combo.loc[\"00000\"]\n",
    "us_agg.head()"
   ]
  },
  {
   "cell_type": "code",
   "execution_count": 114,
   "metadata": {},
   "outputs": [],
   "source": [
    "combo.drop(\"00000\", inplace = True)"
   ]
  },
  {
   "cell_type": "code",
   "execution_count": 119,
   "metadata": {},
   "outputs": [],
   "source": [
    "combo.dropna(inplace=True)\n",
    "grp = combo.groupby([\"TimePeriod\"])"
   ]
  },
  {
   "cell_type": "code",
   "execution_count": null,
   "metadata": {},
   "outputs": [],
   "source": []
  },
  {
   "cell_type": "code",
   "execution_count": 120,
   "metadata": {
    "collapsed": true
   },
   "outputs": [],
   "source": [
    "calc = wc.Calculator(\"Population\")"
   ]
  },
  {
   "cell_type": "code",
   "execution_count": 123,
   "metadata": {},
   "outputs": [
    {
     "data": {
      "image/png": "[encoded data removed]",
      "text/plain": [
       "<matplotlib.figure.Figure at 0xb3c02f1208>"
      ]
     },
     "metadata": {},
     "output_type": "display_data"
    }
   ],
   "source": [
    "rich_poor_99 = (calc.quantile(grp, \"IncomePC\", 0.99)/calc.quantile(grp, \"IncomePC\", 0.50))\n",
    "rich_poor_95 = (calc.quantile(grp, \"IncomePC\", 0.95)/calc.quantile(grp, \"IncomePC\", 0.50))\n",
    "\n",
    "fig, ax  = plt.subplots()\n",
    "\n",
    "rich_poor_99.plot(ax = ax, lw = 3, figsize = (7,5))\n",
    "\n",
    "rich_poor_95.plot(ax = ax, lw = 3, color = \"red\")\n",
    "\n",
    "ax.spines[\"right\"].set_visible(False)\n",
    "ax.spines[\"top\"].set_visible(False)\n",
    "\n",
    "#ax.set_ylim(0.10,1)\n",
    "\n",
    "plt.show()"
   ]
  },
  {
   "cell_type": "code",
   "execution_count": 70,
   "metadata": {},
   "outputs": [
    {
     "data": {
      "text/plain": [
       "TimePeriod\n",
       "1969-01-01     3082.0\n",
       "1970-01-01     3306.0\n",
       "1971-01-01     3551.0\n",
       "1972-01-01     3935.0\n",
       "1973-01-01     4536.0\n",
       "1974-01-01     4821.0\n",
       "1975-01-01     5219.0\n",
       "1976-01-01     5621.0\n",
       "1977-01-01     6132.0\n",
       "1978-01-01     6896.0\n",
       "1979-01-01     7625.0\n",
       "1980-01-01     8129.0\n",
       "1981-01-01     9221.0\n",
       "1982-01-01     9704.0\n",
       "1983-01-01    10135.0\n",
       "1984-01-01    11194.0\n",
       "1985-01-01    11725.0\n",
       "1986-01-01    12212.0\n",
       "1987-01-01    12791.0\n",
       "1988-01-01    13309.5\n",
       "1989-01-01    14412.0\n",
       "1990-01-01    15198.0\n",
       "1991-01-01    15514.0\n",
       "1992-01-01    16609.0\n",
       "1993-01-01    17062.0\n",
       "1994-01-01    17948.0\n",
       "1995-01-01    18387.0\n",
       "1996-01-01    19537.0\n",
       "1997-01-01    20279.0\n",
       "1998-01-01    21264.0\n",
       "1999-01-01    21942.0\n",
       "2000-01-01    23030.0\n",
       "2001-01-01    24240.5\n",
       "2002-01-01    24349.0\n",
       "2003-01-01    25572.0\n",
       "2004-01-01    26685.0\n",
       "2005-01-01    27576.0\n",
       "2006-01-01    28407.0\n",
       "2007-01-01    30328.0\n",
       "2008-01-01    32234.5\n",
       "2009-01-01    31587.0\n",
       "2010-01-01    32499.0\n",
       "2011-01-01    34518.0\n",
       "2012-01-01    35557.0\n",
       "2013-01-01    36419.0\n",
       "2014-01-01    37474.0\n",
       "2015-01-01    38319.0\n",
       "2016-01-01    38816.0\n",
       "Name: IncomePC, dtype: float64"
      ]
     },
     "execution_count": 70,
     "metadata": {},
     "output_type": "execute_result"
    }
   ],
   "source": [
    "combo.groupby(\"TimePeriod\").IncomePC.median()"
   ]
  },
  {
   "cell_type": "code",
   "execution_count": 290,
   "metadata": {},
   "outputs": [
    {
     "data": {
      "text/plain": [
       "CL_UNIT        object\n",
       "Code           object\n",
       "DataValue     float64\n",
       "GeoFips        object\n",
       "GeoName        object\n",
       "NoteRef        object\n",
       "TimePeriod     object\n",
       "UNIT_MULT      object\n",
       "dtype: object"
      ]
     },
     "execution_count": 290,
     "metadata": {},
     "output_type": "execute_result"
    }
   ],
   "source": [
    "df.dtypes"
   ]
  },
  {
   "cell_type": "code",
   "execution_count": 291,
   "metadata": {
    "collapsed": true
   },
   "outputs": [],
   "source": [
    "df[\"TimePeriod\"] = pd.to_datetime(df[\"TimePeriod\"], infer_datetime_format = True)"
   ]
  },
  {
   "cell_type": "code",
   "execution_count": 292,
   "metadata": {
    "collapsed": true
   },
   "outputs": [],
   "source": [
    "df.sort_values(by = \"TimePeriod\", inplace = True)\n"
   ]
  },
  {
   "cell_type": "code",
   "execution_count": 294,
   "metadata": {},
   "outputs": [
    {
     "data": {
      "text/html": [
       "<div>\n",
       "<style scoped>\n",
       "    .dataframe tbody tr th:only-of-type {\n",
       "        vertical-align: middle;\n",
       "    }\n",
       "\n",
       "    .dataframe tbody tr th {\n",
       "        vertical-align: top;\n",
       "    }\n",
       "\n",
       "    .dataframe thead th {\n",
       "        text-align: right;\n",
       "    }\n",
       "</style>\n",
       "<table border=\"1\" class=\"dataframe\">\n",
       "  <thead>\n",
       "    <tr style=\"text-align: right;\">\n",
       "      <th></th>\n",
       "      <th>CL_UNIT</th>\n",
       "      <th>Code</th>\n",
       "      <th>DataValue</th>\n",
       "      <th>GeoFips</th>\n",
       "      <th>GeoName</th>\n",
       "      <th>NoteRef</th>\n",
       "      <th>TimePeriod</th>\n",
       "      <th>UNIT_MULT</th>\n",
       "    </tr>\n",
       "  </thead>\n",
       "  <tbody>\n",
       "    <tr>\n",
       "      <th>0</th>\n",
       "      <td>dollars</td>\n",
       "      <td>CA1-3</td>\n",
       "      <td>3930.0</td>\n",
       "      <td>00000</td>\n",
       "      <td>United States</td>\n",
       "      <td>NaN</td>\n",
       "      <td>1969-01-01</td>\n",
       "      <td>0</td>\n",
       "    </tr>\n",
       "    <tr>\n",
       "      <th>3535</th>\n",
       "      <td>dollars</td>\n",
       "      <td>CA1-3</td>\n",
       "      <td>2800.0</td>\n",
       "      <td>31123</td>\n",
       "      <td>Morrill, NE</td>\n",
       "      <td>NaN</td>\n",
       "      <td>1969-01-01</td>\n",
       "      <td>0</td>\n",
       "    </tr>\n",
       "    <tr>\n",
       "      <th>3536</th>\n",
       "      <td>dollars</td>\n",
       "      <td>CA1-3</td>\n",
       "      <td>3093.0</td>\n",
       "      <td>31125</td>\n",
       "      <td>Nance, NE</td>\n",
       "      <td>NaN</td>\n",
       "      <td>1969-01-01</td>\n",
       "      <td>0</td>\n",
       "    </tr>\n",
       "    <tr>\n",
       "      <th>3539</th>\n",
       "      <td>dollars</td>\n",
       "      <td>CA1-3</td>\n",
       "      <td>3727.0</td>\n",
       "      <td>31127</td>\n",
       "      <td>Nemaha, NE</td>\n",
       "      <td>NaN</td>\n",
       "      <td>1969-01-01</td>\n",
       "      <td>0</td>\n",
       "    </tr>\n",
       "    <tr>\n",
       "      <th>3540</th>\n",
       "      <td>dollars</td>\n",
       "      <td>CA1-3</td>\n",
       "      <td>3106.0</td>\n",
       "      <td>31129</td>\n",
       "      <td>Nuckolls, NE</td>\n",
       "      <td>NaN</td>\n",
       "      <td>1969-01-01</td>\n",
       "      <td>0</td>\n",
       "    </tr>\n",
       "  </tbody>\n",
       "</table>\n",
       "</div>"
      ],
      "text/plain": [
       "      CL_UNIT   Code  DataValue GeoFips        GeoName NoteRef TimePeriod  \\\n",
       "0     dollars  CA1-3     3930.0   00000  United States     NaN 1969-01-01   \n",
       "3535  dollars  CA1-3     2800.0   31123    Morrill, NE     NaN 1969-01-01   \n",
       "3536  dollars  CA1-3     3093.0   31125      Nance, NE     NaN 1969-01-01   \n",
       "3539  dollars  CA1-3     3727.0   31127     Nemaha, NE     NaN 1969-01-01   \n",
       "3540  dollars  CA1-3     3106.0   31129   Nuckolls, NE     NaN 1969-01-01   \n",
       "\n",
       "     UNIT_MULT  \n",
       "0            0  \n",
       "3535         0  \n",
       "3536         0  \n",
       "3539         0  \n",
       "3540         0  "
      ]
     },
     "execution_count": 294,
     "metadata": {},
     "output_type": "execute_result"
    }
   ],
   "source": [
    "df.head()"
   ]
  },
  {
   "cell_type": "code",
   "execution_count": 346,
   "metadata": {
    "collapsed": true
   },
   "outputs": [],
   "source": [
    "grp = df.groupby(\"GeoFips\")"
   ]
  },
  {
   "cell_type": "code",
   "execution_count": 310,
   "metadata": {
    "collapsed": true
   },
   "outputs": [],
   "source": [
    "def log_diff_income(df):\n",
    "    df[\"growth\"] = np.log(df.DataValue).diff() / 46\n",
    "    \n",
    "    return df"
   ]
  },
  {
   "cell_type": "code",
   "execution_count": 388,
   "metadata": {
    "collapsed": true,
    "scrolled": false
   },
   "outputs": [],
   "source": [
    "transform_dict = {\"DataValue\": [\"first\",\"last\", lambda x: np.diff(np.log(x))/46]}\n",
    "\n",
    "new_df = grp.agg(transform_dict)"
   ]
  },
  {
   "cell_type": "code",
   "execution_count": 394,
   "metadata": {},
   "outputs": [
    {
     "data": {
      "text/plain": [
       "0.414791642511866"
      ]
     },
     "execution_count": 394,
     "metadata": {},
     "output_type": "execute_result"
    }
   ],
   "source": [
    "new_df[\"DataValue\"][\"last\"].corr(new_df[\"DataValue\"][\"<lambda>\"])"
   ]
  },
  {
   "cell_type": "code",
   "execution_count": 367,
   "metadata": {},
   "outputs": [
    {
     "ename": "AttributeError",
     "evalue": "'DataFrame' object has no attribute 'toseries'",
     "output_type": "error",
     "traceback": [
      "\u001b[0;31m----------------------------------------------------------\u001b[0m",
      "\u001b[0;31mAttributeError\u001b[0m           Traceback (most recent call last)",
      "\u001b[0;32m<ipython-input-367-34a982e2905e>\u001b[0m in \u001b[0;36m<module>\u001b[0;34m()\u001b[0m\n\u001b[0;32m----> 1\u001b[0;31m \u001b[0mtest\u001b[0m \u001b[1;33m=\u001b[0m  \u001b[0mnew_df\u001b[0m\u001b[1;33m.\u001b[0m\u001b[0mdiff\u001b[0m\u001b[1;33m(\u001b[0m\u001b[0maxis\u001b[0m \u001b[1;33m=\u001b[0m \u001b[1;36m1\u001b[0m\u001b[1;33m)\u001b[0m\u001b[1;33m.\u001b[0m\u001b[0mtoseries\u001b[0m\u001b[1;33m\u001b[0m\u001b[0m\n\u001b[0m",
      "\u001b[0;32mC:\\Program Files\\Anaconda3\\lib\\site-packages\\pandas\\core\\generic.py\u001b[0m in \u001b[0;36m__getattr__\u001b[0;34m(self, name)\u001b[0m\n\u001b[1;32m   3612\u001b[0m             \u001b[1;32mif\u001b[0m \u001b[0mname\u001b[0m \u001b[1;32min\u001b[0m \u001b[0mself\u001b[0m\u001b[1;33m.\u001b[0m\u001b[0m_info_axis\u001b[0m\u001b[1;33m:\u001b[0m\u001b[1;33m\u001b[0m\u001b[0m\n\u001b[1;32m   3613\u001b[0m                 \u001b[1;32mreturn\u001b[0m \u001b[0mself\u001b[0m\u001b[1;33m[\u001b[0m\u001b[0mname\u001b[0m\u001b[1;33m]\u001b[0m\u001b[1;33m\u001b[0m\u001b[0m\n\u001b[0;32m-> 3614\u001b[0;31m             \u001b[1;32mreturn\u001b[0m \u001b[0mobject\u001b[0m\u001b[1;33m.\u001b[0m\u001b[0m__getattribute__\u001b[0m\u001b[1;33m(\u001b[0m\u001b[0mself\u001b[0m\u001b[1;33m,\u001b[0m \u001b[0mname\u001b[0m\u001b[1;33m)\u001b[0m\u001b[1;33m\u001b[0m\u001b[0m\n\u001b[0m\u001b[1;32m   3615\u001b[0m \u001b[1;33m\u001b[0m\u001b[0m\n\u001b[1;32m   3616\u001b[0m     \u001b[1;32mdef\u001b[0m \u001b[0m__setattr__\u001b[0m\u001b[1;33m(\u001b[0m\u001b[0mself\u001b[0m\u001b[1;33m,\u001b[0m \u001b[0mname\u001b[0m\u001b[1;33m,\u001b[0m \u001b[0mvalue\u001b[0m\u001b[1;33m)\u001b[0m\u001b[1;33m:\u001b[0m\u001b[1;33m\u001b[0m\u001b[0m\n",
      "\u001b[0;31mAttributeError\u001b[0m: 'DataFrame' object has no attribute 'toseries'"
     ]
    }
   ],
   "source": [
    "test =  new_df.diff(axis = 1).toseries"
   ]
  },
  {
   "cell_type": "code",
   "execution_count": 385,
   "metadata": {
    "collapsed": true
   },
   "outputs": [],
   "source": [
    "np.diff?"
   ]
  },
  {
   "cell_type": "code",
   "execution_count": 309,
   "metadata": {},
   "outputs": [
    {
     "name": "stdout",
     "output_type": "stream",
     "text": [
      "Object `TimePeriod.diff` not found.\n"
     ]
    }
   ],
   "source": [
    "grp = df.groupby(\"GeoFips\")\n",
    "grp.get_group(\"44007\").TimePeriod.diff()"
   ]
  },
  {
   "cell_type": "code",
   "execution_count": null,
   "metadata": {
    "collapsed": true
   },
   "outputs": [],
   "source": [
    "grp.get_group(\"44007\").TimePeriod.diff"
   ]
  },
  {
   "cell_type": "code",
   "execution_count": null,
   "metadata": {
    "collapsed": true
   },
   "outputs": [],
   "source": [
    "grp.get_group(\"44007\").sort_value"
   ]
  },
  {
   "cell_type": "code",
   "execution_count": null,
   "metadata": {
    "collapsed": true
   },
   "outputs": [],
   "source": [
    "grp.get_group(\"44007\").sort_values"
   ]
  },
  {
   "cell_type": "code",
   "execution_count": 277,
   "metadata": {
    "collapsed": true
   },
   "outputs": [],
   "source": [
    "new_df.sort_values?"
   ]
  },
  {
   "cell_type": "code",
   "execution_count": 332,
   "metadata": {},
   "outputs": [
    {
     "data": {
      "text/plain": [
       "nan"
      ]
     },
     "execution_count": 332,
     "metadata": {},
     "output_type": "execute_result"
    }
   ],
   "source": [
    "new_df.growth.corr(new_df.loc[\"1969-01-01\"].DataValue)"
   ]
  },
  {
   "cell_type": "code",
   "execution_count": 325,
   "metadata": {
    "collapsed": true
   },
   "outputs": [],
   "source": [
    "new_df.set_index(\"TimePeriod\", inplace = True)"
   ]
  },
  {
   "cell_type": "code",
   "execution_count": 376,
   "metadata": {
    "collapsed": true
   },
   "outputs": [],
   "source": [
    "df.diff?"
   ]
  },
  {
   "cell_type": "code",
   "execution_count": null,
   "metadata": {
    "collapsed": true
   },
   "outputs": [],
   "source": []
  }
 ],
 "metadata": {
  "anaconda-cloud": {},
  "hide_input": false,
  "kernelspec": {
   "display_name": "Python [default]",
   "language": "python",
   "name": "python3"
  },
  "language_info": {
   "codemirror_mode": {
    "name": "ipython",
    "version": 3
   },
   "file_extension": ".py",
   "mimetype": "text/x-python",
   "name": "python",
   "nbconvert_exporter": "python",
   "pygments_lexer": "ipython3",
   "version": "3.5.2"
  }
 },
 "nbformat": 4,
 "nbformat_minor": 2
}
