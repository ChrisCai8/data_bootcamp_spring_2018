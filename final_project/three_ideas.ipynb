{
 "cells": [
  {
   "cell_type": "markdown",
   "metadata": {},
   "source": [
    "## Three Project Ideas\n",
    "\n",
    "Along with you guys, I'll work and complete a project along with you. Below are my three project ideas.\n",
    "\n",
    "### 1. The Evolution of Income at the Commute Zone Level\n",
    "\n",
    "This project will explore how measures of income evolve over time at a narrow geographic level (a [commute zone](https://en.wikipedia.org/wiki/Commuting_zone)) within the United States. For example, consider New York City: It has had ups and downs over the years (just like the United States as a whole) and I would like to understand the properties of these fluctuations (in fact the results would utimatly end up being inputs to these [two papers](http://www.waugheconomics.com/uploads/2/2/5/6/22563786/lw_tax.pdf)).\n",
    "\n",
    "The data I plan to use is the Census API or the BEA API. These APIs provided measures of income at the county level which can then be aggregated to the Commute Zone. Other measures of economic activity may be considerd. \n",
    "\n",
    "I anticipate that the project will have several aspects. First, some basic statistics about the cross-sectional inequality and the volitliity of income over time will be reported. Second, several visualizations of different paths will be presented. Finally, I hope to present a national map that illustrates the relative changes over time to visualize the geographic distribution of these local economic fluctuations in economic activity. \n",
    "\n",
    "### 2. Local \"Phillips Curves\"\n",
    "\n",
    "This project would explore the [Phillip Curve](https://en.wikipedia.org/wiki/Phillips_curve) relationship at a local labor market level (again a commute zone). The Phillips curve is a relationship between inflaiton and unemployment, with low unemployment spells being characterized by high inflation and high unemployment spells by low inflation. This relationship is typically thought of as an aggregate relationship (e.g. at the National Level). This project will empirically explore these relationships at the local level.\n",
    "\n",
    "The data that I would use is a combination of Cesnsus or BEA API to get a local measure of unemployment. The inflation part would be more involved. As a first step, I would use the IRI scanner price data set and construct a measure of inflation at a local labor market level. This would be a data and time intensive aspect of the project.\n",
    "\n",
    "I anticipated that the project would proceed in several steps. First, some basic facts about inflation at the local labor market level would be descrived. Then phillips curve relationships would be graphically isllustrated. Finall, a national map illustrating the geographic dispersion in phillips curves would be computed.\n",
    "\n",
    "### 3. Hockey's Different Eras\n",
    "\n",
    "In the last 50 years, the NHL has experinced several rather dramatic changes in play. The high scoring era leading up to the 90s, the \"trap\" era of the mid-90s and 2000s, and now a reincarnation of the earlier time period (but not quite). I want to explore (i) exactly when the changes occured and (ii) what changed and what did not. \n",
    "\n",
    "I need to find a data set that at least has team statistics for every season up to 1980. Ideally, having player associated statistics (simmilar to the NBA dataset used in the midterm). Even better would be some properties of the"
   ]
  },
  {
   "cell_type": "code",
   "execution_count": null,
   "metadata": {
    "collapsed": true
   },
   "outputs": [],
   "source": []
  }
 ],
 "metadata": {
  "kernelspec": {
   "display_name": "Python 3",
   "language": "python",
   "name": "python3"
  },
  "language_info": {
   "codemirror_mode": {
    "name": "ipython",
    "version": 3
   },
   "file_extension": ".py",
   "mimetype": "text/x-python",
   "name": "python",
   "nbconvert_exporter": "python",
   "pygments_lexer": "ipython3",
   "version": "3.6.3"
  }
 },
 "nbformat": 4,
 "nbformat_minor": 2
}
