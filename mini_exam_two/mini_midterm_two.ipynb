{
 "cells": [
  {
   "cell_type": "markdown",
   "metadata": {},
   "source": [
    "# Data Bootcamp Mini-Exam #2  \n",
    "\n",
    "[NYU Stern School of Business](http://www.stern.nyu.edu) | March 2018\n",
    "\n",
    "Please answer the questions below in this Jupyter notebook.  Add cells as needed.  When you're done, **save it** and **email** it to [nyudatabootcamp@gmail.com](nyudatabootcamp@gmail.com). Make sure you have the correct file.  **Doing this correctly (and inserting your name below, is worth 10 points.**\n",
    "\n",
    "**When I return the exam, I, *INSERTY YOU NAME HERE*,  acknowledge that that the STERN honor code applies: I will not lie, cheat, or steal to gain an academic advantage, nor tolerate those who do.**\n",
    "\n",
    "**You have 45 minutes to complete this exam**\n",
    "\n",
    "**You may consult personal notes, sources on the internet, the book, etc. You may not consult fellow students. Your work must be your own.**\n",
    "\n",
    "\n",
    "---\n",
    "\n",
    "### Intro\n",
    "\n",
    "This exam was inspired by a project from my fall 2017 class. The question is to examine the \"life-cycle\" of an NBA player, i.e. at what age is an NBA player at their best? Here we will look at the life cycle of one of *the* best: Michael Jordan.\n",
    "\n",
    "I posted the relevant data set at:\n",
    "\n",
    "```python\n",
    "https://github.com/mwaugh0328/data_bootcamp_spring_2018/blob/master/mini_exam_two/Seasons_Stats.csv\n",
    "```\n",
    "\n",
    "Please use this data set to answer the following questions.\n",
    "\n",
    "---"
   ]
  },
  {
   "cell_type": "markdown",
   "metadata": {},
   "source": [
    "### Question 0: (10pts)\n",
    "- In a code cell below, insert the correct preamble. For this exam, you will need Pandas and Matplotlib. Hint #1: look at the book or previous code that we have used. Hint #2: If you still can't figure it out. Raise your hand and I'll help (you will lose credit, but you will be able to proceed.)"
   ]
  },
  {
   "cell_type": "markdown",
   "metadata": {},
   "source": [
    "### Question 1: (40pts)\n",
    " - (a) Import the dataset. Name your DataFrame as `nba`. In particular Use the optionality of Pandas to read in **only** the following columns:\n",
    "```python\n",
    "[\"Player\", \"Year\", \"G\", \"3P\",\"PTS\", \"Tm\", \"Age\", \"FG%\"]\n",
    "```\n",
    "In order, the columns represent: player name, year, regular season games played, three points, total points, team, age, field goal percentage.\n",
    " \n",
    "- (b) How many rows does `nba` have? \n",
    "\n",
    "\n",
    "- (c) Display the last 15 rows of `nba`\n",
    "\n",
    "\n",
    "- (d) What are the types of the variables within each columns? "
   ]
  },
  {
   "cell_type": "markdown",
   "metadata": {},
   "source": [
    "### Question 2 (40pts)\n",
    "\n",
    "Please answer the questions below, giving each part its own code cell:\n",
    "\n",
    "(a) Change the column \"FG%\" to \"FG_pct\".\n",
    "\n",
    "(b) Create a new column named \"PPG\" (points per game) which is defined as the total number of points divided by the number of games.  \n",
    "\n",
    "(c) Set the index to be \"Player\", make sure to do so in a way that you keep the new index in place. \n",
    "\n",
    "(d) Select only Michael Jordan and and assign it to new DataFrame `mj`.  **Important** Michael Jordon's name in the dataset is \n",
    "```python\n",
    "\"Michael Jordan*\"\n",
    "```\n",
    "Hint: Given the work in (c), use the `.loc[]` command to select Michal Jordan from the dataset. "
   ]
  },
  {
   "cell_type": "markdown",
   "metadata": {},
   "source": [
    "### Question 3 (40 pts)\n",
    "\n",
    "First, if you are stuck on (2d), then simply download the data set for Michael Jordan from\n",
    "```python\n",
    "https://github.com/mwaugh0328/data_bootcamp_spring_2018/blob/master/mini_exam_two/mj.csv\n",
    "```\n",
    "\n",
    "- (a) How many games did Michael Jordan play?\n",
    "\n",
    "\n",
    "- (b) Over his career, what was his maximum points per game? \n",
    "\n",
    "\n",
    "- (c) Use the fig, ax approach and create a bar chart with age on the x-axis and points per game on the y-axis.  \n",
    "\n",
    "\n",
    "- (d) Set the limits of the y-axis to be between 20 and 40; Title the x and y axis with informative labels. Create a title for the whole figure. Make the title bold font. \n"
   ]
  },
  {
   "cell_type": "markdown",
   "metadata": {},
   "source": [
    "### Bonus Questions (10 pts each)\n",
    "\n",
    "- Can you find a method to figure out the year associated with his best year (in terms of points per game)? Hint: explore \".idxmax()\" \n",
    "\n",
    "\n",
    "- Why is their a missing value for age 30? Can you insert some text with a message explaining what Michael Jordon was doing? If you don't know (step 1 google it) or if running out of time (guess or simply put I don't know).\n",
    "\n",
    "\n",
    "- Apply any other customizations you think would make the plot look better.\n"
   ]
  }
 ],
 "metadata": {
  "anaconda-cloud": {},
  "hide_input": false,
  "kernelspec": {
   "display_name": "Python [default]",
   "language": "python",
   "name": "python3"
  },
  "language_info": {
   "codemirror_mode": {
    "name": "ipython",
    "version": 3
   },
   "file_extension": ".py",
   "mimetype": "text/x-python",
   "name": "python",
   "nbconvert_exporter": "python",
   "pygments_lexer": "ipython3",
   "version": "3.5.2"
  }
 },
 "nbformat": 4,
 "nbformat_minor": 2
}
