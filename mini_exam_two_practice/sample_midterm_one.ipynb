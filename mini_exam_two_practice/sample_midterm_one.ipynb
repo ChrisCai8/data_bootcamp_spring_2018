{
 "cells": [
  {
   "cell_type": "markdown",
   "metadata": {},
   "source": [
    "## Question 1\n",
    "\n",
    "<!-- This question covers DataFrame basics -->\n",
    "\n",
    "Here is the url of a dataset\n",
    "```python\n",
    "url = \"https://raw.githubusercontent.com/mwaugh0328/Data_Bootcamp_Fall_2017/master/data_bootcamp_exam/baseball_exam_data.csv\"\n",
    "```\n",
    "\n",
    "That contains selected information about baseball teams in the National League (from [Sean Lahman's baseball archive](http://seanlahman.com/baseball-archive/statistics)). In this dataset there is the following information about the team's performance during a season.\n",
    "\n",
    "| Column Name |\tDescription |\n",
    "|---|---|\n",
    "| yearID |\tYear |\n",
    "| lgID | League |\n",
    "|teamID |\tshort team name|\n",
    "|Wins|\twins|\n",
    "|Loses|\tloses|\n",
    "|Runs\t|runs scored|\n",
    "|AtBats\t|at bats|\n",
    "|Hits\t|hits|\n",
    "|2Bhits|\tdoubles|\n",
    "|3Bhits\t|triples|\n",
    "|HR\t|home runs|\n",
    "|BB\t|bases on balls|\n",
    "|park|\tname of baseball park|\n",
    "|name\t|full team name|\n",
    "|attendance\t|season attendance|\n",
    "\n",
    "---\n",
    "\n",
    "(a) Import the dataset using pandas. Name your DataFrame as `nl`\n",
    "\n",
    "(c) How many rows and columns does `nl` have?\n",
    "\n",
    "(d) What are the column names in `nl`?\n",
    "\n",
    "(3) What are the dtypes for the columns? For each different dtype in `nl`, please describe what that dtype means (Hint: There are two dtypes)\n",
    "\n",
    "(f) Describe the results of the following code `westdivision = nl.name.tail(5)`. What type of object is `westdivision`? How does `westdivision ` relate to `nl`?\n",
    "\n",
    "(30 points)"
   ]
  },
  {
   "cell_type": "markdown",
   "metadata": {},
   "source": [
    "## Question 2\n",
    "\n",
    "<!-- This question should test the students ability to access/create columns in the DataFrame -->\n",
    "\n",
    "Please answer the questions below, giving each part its own code cell:\n",
    "\n",
    "(a) Set the index to be the `Name` column. Make sure to save the result as `nl` for the following questions\n",
    "\n",
    "(b) Create a two new columns named `BatAverage` that is  `Hits / (AtBats)` (batting average) and `HRAverage` that is of `HR / (AtBats)` \n",
    "\n",
    "(c) What is the **mean** batting average? What is the **median** home run average?\n",
    "\n",
    "(d) Report two correlations: the correlation between batting average and wins; the correlation between wins and attendance.\n",
    "\n",
    "(d) Create a horizontal bar plot of the `BatAverage` column. Tighten the x-axis so that it lies between 0.22 and 0.28. Make sure the colors of the bars are all the same.\n",
    "\n",
    "(20 points)"
   ]
  },
  {
   "cell_type": "markdown",
   "metadata": {},
   "source": [
    "## Question 3\n",
    "\n",
    "<!-- This question should be about customizing a plot -->\n",
    "\n",
    "Please do all parts below in _the same_ code cell. Leave comments in the code that help us find the code that corresponds to each part.\n",
    "\n",
    "Tell a story about batting average, home run average and wins. \n",
    "\n",
    "#### Basic elements:\n",
    "\n",
    "(a) Create a figure with one row and two column of axes\n",
    "\n",
    "(b) In the left axes, make a scatter plot between batting average and wins. Label the x and y axis.\n",
    "\n",
    "(c) In the right axes, make a scatter plot between home run average and wins. Label the x and y axis. \n",
    "\n",
    "(d) Set the title on the top axes to be informative about these plots.\n",
    "\n",
    "(e) Change the size of the dots to correspond with attendance. Hint: You may want to change the scale.\n",
    "\n",
    "---\n",
    "#### Bonus Parts...\n",
    "\n",
    "(e) (5 bonus)  Change the color of the dots **for only the west division** to be red.\n",
    "\n",
    "(f) (5 bonus) Apply any other customizations you think would make the plot look better\n",
    "\n",
    "(30 points + 10 bonus)"
   ]
  },
  {
   "cell_type": "code",
   "execution_count": null,
   "metadata": {
    "collapsed": true
   },
   "outputs": [],
   "source": []
  }
 ],
 "metadata": {
  "anaconda-cloud": {},
  "hide_input": false,
  "kernelspec": {
   "display_name": "Python [default]",
   "language": "python",
   "name": "python3"
  },
  "language_info": {
   "codemirror_mode": {
    "name": "ipython",
    "version": 3
   },
   "file_extension": ".py",
   "mimetype": "text/x-python",
   "name": "python",
   "nbconvert_exporter": "python",
   "pygments_lexer": "ipython3",
   "version": "3.5.2"
  }
 },
 "nbformat": 4,
 "nbformat_minor": 2
}
