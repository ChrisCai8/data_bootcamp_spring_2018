{
 "cells": [
  {
   "cell_type": "markdown",
   "metadata": {},
   "source": [
    "## Question 1\n",
    "\n",
    "<!-- This question covers DataFrame basics -->\n",
    "\n",
    "Consider the python code below\n",
    "\n",
    "```python\n",
    "poke_dict = {\n",
    " 'Name': {1: 'Bulbasaur',\n",
    "          2: 'Ivysaur',\n",
    "          3: 'Venusaur',\n",
    "          4: 'Charmander',\n",
    "          5: 'Charmeleon',\n",
    "          6: 'Charizard',\n",
    "          7: 'Squirtle',\n",
    "          8: 'Wartortle',\n",
    "          9: 'Blastoise'},\n",
    " 'Attack': {1: 49, 2: 62, 3: 82, 4: 52, 5: 64, 6: 84, 7: 48, 8: 63, 9: 83},\n",
    " 'Defense': {1: 49, 2: 63, 3: 83, 4: 43, 5: 58, 6: 78, 7: 65, 8: 80, 9: 100},\n",
    " 'HP': {1: 45, 2: 60, 3: 80, 4: 39, 5: 58, 6: 78, 7: 44, 8: 59, 9: 79},\n",
    " 'Sp. Atk': {1: 65, 2: 80, 3: 100, 4: 60, 5: 80, 6: 109, 7: 50, 8: 65, 9: 85},\n",
    " 'Sp. Def': {1: 65, 2: 80, 3: 100, 4: 50, 5: 65, 6: 85, 7: 64, 8: 80, 9: 105},\n",
    " 'Speed': {1: 45, 2: 60, 3: 80, 4: 65, 5: 80, 6: 100, 7: 43, 8: 58, 9: 78}\n",
    "}\n",
    "```\n",
    "\n",
    "Please answer the questions below, giving each part its own code cell:\n",
    "\n",
    "(a) Copy and paste the definition of `poke_dict` above into a code cell below and run it. What is the `type` of `poke_dict`?\n",
    "\n",
    "(b) Run the code `pokemon = pd.DataFrame(poke_dict)`. What type of object is `pokemon`?\n",
    "\n",
    "(c) How many rows and columns does `pokemon` have?\n",
    "\n",
    "(d) What are the column names in `pokemon`?\n",
    "\n",
    "(3) What are the dtypes for the columns? For each different dtype in `pokemon`, please describe what that dtype means (Hint: There are two dtypes)\n",
    "\n",
    "(f) Describe the results of the following code `squirt = pokemon.tail(3)`. What type of object is `squirt`? How does `squirt` relate to `pokemon`?\n",
    "\n",
    "(30 points)"
   ]
  },
  {
   "cell_type": "markdown",
   "metadata": {},
   "source": [
    "## Question 2\n",
    "\n",
    "<!-- This question should test the students ability to access/create columns in the DataFrame -->\n",
    "\n",
    "Please answer the questions below, giving each part its own code cell:\n",
    "\n",
    "(a) Set the index to be the `Name` column. Make sure to save the result as `pokemon` for the following questions\n",
    "\n",
    "(b) Compute the mean of the `Speed` column.\n",
    "\n",
    "(c) Create a new column named `Balance` that is the ratio of the `Attack / (HP + Defense)`\n",
    "\n",
    "(d) Create a horizontal bar plot of the `Balance` column\n",
    "\n",
    "(20 points)"
   ]
  },
  {
   "cell_type": "markdown",
   "metadata": {},
   "source": [
    "## Question 3\n",
    "\n",
    "<!-- This question should be about customizing a plot -->\n",
    "\n",
    "Please do all parts below in _the same_ code cell. Leave comments in the code that help us find the code that corresponds to each part\n",
    "\n",
    "(a) Create a figure with two rows and one column of axes\n",
    "\n",
    "(b) In the top axes, make a pie chart of using the `Sp. Atk` column. Turn the legend off\n",
    "\n",
    "(c) In the bottom axes, make a bar chart using the `Sp. Def` column. Make the bars orange and turn the legend off\n",
    "\n",
    "(d) Set the title on the top axes to be \"Special abilities\"\n",
    "\n",
    "(e) (bonus) Apply any other customizations you think would make the plot look better\n",
    "\n",
    "(20 points + 5 bonus)"
   ]
  },
  {
   "cell_type": "code",
   "execution_count": null,
   "metadata": {
    "collapsed": true
   },
   "outputs": [],
   "source": []
  }
 ],
 "metadata": {
  "anaconda-cloud": {},
  "hide_input": false,
  "kernelspec": {
   "display_name": "Python [default]",
   "language": "python",
   "name": "python3"
  },
  "language_info": {
   "codemirror_mode": {
    "name": "ipython",
    "version": 3
   },
   "file_extension": ".py",
   "mimetype": "text/x-python",
   "name": "python",
   "nbconvert_exporter": "python",
   "pygments_lexer": "ipython3",
   "version": "3.5.2"
  }
 },
 "nbformat": 4,
 "nbformat_minor": 2
}
