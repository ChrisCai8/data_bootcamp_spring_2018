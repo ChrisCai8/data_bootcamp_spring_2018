{
 "cells": [
  {
   "cell_type": "markdown",
   "metadata": {},
   "source": [
    "## Question 1\n",
    "\n",
    "<!-- This question covers DataFrame basics -->\n",
    "\n",
    "Consider the python code below\n",
    "\n",
    "```python\n",
    "poke_dict = {\n",
    " 'Name': {1: 'Bulbasaur',\n",
    "          2: 'Ivysaur',\n",
    "          3: 'Venusaur',\n",
    "          4: 'Charmander',\n",
    "          5: 'Charmeleon',\n",
    "          6: 'Charizard',\n",
    "          7: 'Squirtle',\n",
    "          8: 'Wartortle',\n",
    "          9: 'Blastoise'},\n",
    " 'Attack': {1: 49, 2: 62, 3: 82, 4: 52, 5: 64, 6: 84, 7: 48, 8: 63, 9: 83},\n",
    " 'Defense': {1: 49, 2: 63, 3: 83, 4: 43, 5: 58, 6: 78, 7: 65, 8: 80, 9: 100},\n",
    " 'HP': {1: 45, 2: 60, 3: 80, 4: 39, 5: 58, 6: 78, 7: 44, 8: 59, 9: 79},\n",
    " 'Sp. Atk': {1: 65, 2: 80, 3: 100, 4: 60, 5: 80, 6: 109, 7: 50, 8: 65, 9: 85},\n",
    " 'Sp. Def': {1: 65, 2: 80, 3: 100, 4: 50, 5: 65, 6: 85, 7: 64, 8: 80, 9: 105},\n",
    " 'Speed': {1: 45, 2: 60, 3: 80, 4: 65, 5: 80, 6: 100, 7: 43, 8: 58, 9: 78}\n",
    "}\n",
    "```\n",
    "\n",
    "Please answer the questions below, giving each part its own code cell:\n",
    "\n",
    "(a) Copy and paste the definition of `poke_dict` above into a code cell below and run it. What is the `type` of `poke_dict`?\n",
    "\n",
    "(b) Run the code `pokemon = pd.DataFrame(poke_dict)`. What type of object is `pokemon`?\n",
    "\n",
    "(c) How many rows and columns does `pokemon` have?\n",
    "\n",
    "(d) What are the column names in `pokemon`?\n",
    "\n",
    "(3) What are the dtypes for the columns? For each different dtype in `pokemon`, please describe what that dtype means (Hint: There are two dtypes)\n",
    "\n",
    "(f) Describe the results of the following code `squirt = pokemon.tail(3)`. What type of object is `squirt`? How does `squirt` relate to `pokemon`?\n",
    "\n",
    "(30 points)"
   ]
  },
  {
   "cell_type": "code",
   "execution_count": 1,
   "metadata": {
    "collapsed": true
   },
   "outputs": [],
   "source": [
    "import pandas as pd\n",
    "import matplotlib.pyplot as plt"
   ]
  },
  {
   "cell_type": "code",
   "execution_count": 2,
   "metadata": {
    "collapsed": true
   },
   "outputs": [],
   "source": [
    "poke_dict = {\n",
    " 'Name': {1: 'Bulbasaur',\n",
    "          2: 'Ivysaur',\n",
    "          3: 'Venusaur',\n",
    "          4: 'Charmander',\n",
    "          5: 'Charmeleon',\n",
    "          6: 'Charizard',\n",
    "          7: 'Squirtle',\n",
    "          8: 'Wartortle',\n",
    "          9: 'Blastoise'},\n",
    " 'Attack': {1: 49, 2: 62, 3: 82, 4: 52, 5: 64, 6: 84, 7: 48, 8: 63, 9: 83},\n",
    " 'Defense': {1: 49, 2: 63, 3: 83, 4: 43, 5: 58, 6: 78, 7: 65, 8: 80, 9: 100},\n",
    " 'HP': {1: 45, 2: 60, 3: 80, 4: 39, 5: 58, 6: 78, 7: 44, 8: 59, 9: 79},\n",
    " 'Sp. Atk': {1: 65, 2: 80, 3: 100, 4: 60, 5: 80, 6: 109, 7: 50, 8: 65, 9: 85},\n",
    " 'Sp. Def': {1: 65, 2: 80, 3: 100, 4: 50, 5: 65, 6: 85, 7: 64, 8: 80, 9: 105},\n",
    " 'Speed': {1: 45, 2: 60, 3: 80, 4: 65, 5: 80, 6: 100, 7: 43, 8: 58, 9: 78}\n",
    "}"
   ]
  },
  {
   "cell_type": "code",
   "execution_count": 3,
   "metadata": {
    "collapsed": true
   },
   "outputs": [],
   "source": [
    "pokemon = pd.DataFrame(poke_dict)"
   ]
  },
  {
   "cell_type": "code",
   "execution_count": 4,
   "metadata": {},
   "outputs": [
    {
     "data": {
      "text/plain": [
       "(9, 7)"
      ]
     },
     "execution_count": 4,
     "metadata": {},
     "output_type": "execute_result"
    }
   ],
   "source": [
    "pokemon.shape"
   ]
  },
  {
   "cell_type": "code",
   "execution_count": 5,
   "metadata": {},
   "outputs": [
    {
     "data": {
      "text/plain": [
       "Index(['Attack', 'Defense', 'HP', 'Name', 'Sp. Atk', 'Sp. Def', 'Speed'], dtype='object')"
      ]
     },
     "execution_count": 5,
     "metadata": {},
     "output_type": "execute_result"
    }
   ],
   "source": [
    "pokemon.columns"
   ]
  },
  {
   "cell_type": "code",
   "execution_count": 11,
   "metadata": {},
   "outputs": [
    {
     "data": {
      "text/plain": [
       "Attack      int64\n",
       "Defense     int64\n",
       "HP          int64\n",
       "Name       object\n",
       "Sp. Atk     int64\n",
       "Sp. Def     int64\n",
       "Speed       int64\n",
       "dtype: object"
      ]
     },
     "execution_count": 11,
     "metadata": {},
     "output_type": "execute_result"
    }
   ],
   "source": [
    "pokemon.dtypes"
   ]
  },
  {
   "cell_type": "code",
   "execution_count": 8,
   "metadata": {},
   "outputs": [
    {
     "data": {
      "text/html": [
       "<div>\n",
       "<style scoped>\n",
       "    .dataframe tbody tr th:only-of-type {\n",
       "        vertical-align: middle;\n",
       "    }\n",
       "\n",
       "    .dataframe tbody tr th {\n",
       "        vertical-align: top;\n",
       "    }\n",
       "\n",
       "    .dataframe thead th {\n",
       "        text-align: right;\n",
       "    }\n",
       "</style>\n",
       "<table border=\"1\" class=\"dataframe\">\n",
       "  <thead>\n",
       "    <tr style=\"text-align: right;\">\n",
       "      <th></th>\n",
       "      <th>Attack</th>\n",
       "      <th>Defense</th>\n",
       "      <th>HP</th>\n",
       "      <th>Name</th>\n",
       "      <th>Sp. Atk</th>\n",
       "      <th>Sp. Def</th>\n",
       "      <th>Speed</th>\n",
       "    </tr>\n",
       "  </thead>\n",
       "  <tbody>\n",
       "    <tr>\n",
       "      <th>7</th>\n",
       "      <td>48</td>\n",
       "      <td>65</td>\n",
       "      <td>44</td>\n",
       "      <td>Squirtle</td>\n",
       "      <td>50</td>\n",
       "      <td>64</td>\n",
       "      <td>43</td>\n",
       "    </tr>\n",
       "    <tr>\n",
       "      <th>8</th>\n",
       "      <td>63</td>\n",
       "      <td>80</td>\n",
       "      <td>59</td>\n",
       "      <td>Wartortle</td>\n",
       "      <td>65</td>\n",
       "      <td>80</td>\n",
       "      <td>58</td>\n",
       "    </tr>\n",
       "    <tr>\n",
       "      <th>9</th>\n",
       "      <td>83</td>\n",
       "      <td>100</td>\n",
       "      <td>79</td>\n",
       "      <td>Blastoise</td>\n",
       "      <td>85</td>\n",
       "      <td>105</td>\n",
       "      <td>78</td>\n",
       "    </tr>\n",
       "  </tbody>\n",
       "</table>\n",
       "</div>"
      ],
      "text/plain": [
       "   Attack  Defense  HP       Name  Sp. Atk  Sp. Def  Speed\n",
       "7      48       65  44   Squirtle       50       64     43\n",
       "8      63       80  59  Wartortle       65       80     58\n",
       "9      83      100  79  Blastoise       85      105     78"
      ]
     },
     "execution_count": 8,
     "metadata": {},
     "output_type": "execute_result"
    }
   ],
   "source": [
    "squirt = pokemon.tail(3)\n",
    "\n",
    "squirt"
   ]
  },
  {
   "cell_type": "markdown",
   "metadata": {},
   "source": [
    "## Question 2\n",
    "\n",
    "<!-- This question should test the students ability to access/create columns in the DataFrame -->\n",
    "\n",
    "Please answer the questions below, giving each part its own code cell:\n",
    "\n",
    "(a) Set the index to be the `Name` column. Make sure to save the result as `pokemon` for the following questions\n",
    "\n",
    "(b) Compute the mean of the `Speed` column.\n",
    "\n",
    "(c) Create a new column named `Balance` that is the ratio of the `Attack / (HP + Defense)`\n",
    "\n",
    "(d) Create a horizontal bar plot of the `Balance` column\n",
    "\n",
    "(20 points)"
   ]
  },
  {
   "cell_type": "code",
   "execution_count": 12,
   "metadata": {
    "collapsed": true
   },
   "outputs": [],
   "source": [
    "pokemon.set_index(\"Name\", inplace = True)"
   ]
  },
  {
   "cell_type": "code",
   "execution_count": 13,
   "metadata": {},
   "outputs": [
    {
     "data": {
      "text/plain": [
       "67.66666666666667"
      ]
     },
     "execution_count": 13,
     "metadata": {},
     "output_type": "execute_result"
    }
   ],
   "source": [
    "pokemon.Speed.mean()"
   ]
  },
  {
   "cell_type": "code",
   "execution_count": 14,
   "metadata": {
    "collapsed": true
   },
   "outputs": [],
   "source": [
    "pokemon[\"Balance\"] = pokemon.Attack / (pokemon.HP + pokemon.Defense)"
   ]
  },
  {
   "cell_type": "code",
   "execution_count": 19,
   "metadata": {},
   "outputs": [
    {
     "data": {
      "image/png": "[encoded data removed]",
      "text/plain": [
       "<matplotlib.figure.Figure at 0x1de7ca4c9b0>"
      ]
     },
     "metadata": {},
     "output_type": "display_data"
    }
   ],
   "source": [
    "pokemon.Balance.sort_values().plot(kind = \"barh\", color = \"blue\", alpha = 0.50) #Just to make it fancy.\n",
    "\n",
    "plt.show()"
   ]
  },
  {
   "cell_type": "markdown",
   "metadata": {},
   "source": [
    "## Question 3\n",
    "\n",
    "<!-- This question should be about customizing a plot -->\n",
    "\n",
    "Please do all parts below in _the same_ code cell. Leave comments in the code that help us find the code that corresponds to each part\n",
    "\n",
    "(a) Create a figure with two rows and one column of axes\n",
    "\n",
    "(b) In the top axes, make a pie chart of using the `Sp. Atk` column. Turn the legend off\n",
    "\n",
    "(c) In the bottom axes, make a bar chart using the `Sp. Def` column. Make the bars orange and turn the legend off\n",
    "\n",
    "(d) Set the title on the top axes to be \"Special abilities\"\n",
    "\n",
    "(e) (bonus) Apply any other customizations you think would make the plot look better\n",
    "\n",
    "(20 points + 5 bonus)"
   ]
  },
  {
   "cell_type": "code",
   "execution_count": 64,
   "metadata": {},
   "outputs": [
    {
     "data": {
      "image/png": "[encoded data removed]",
      "text/plain": [
       "<matplotlib.figure.Figure at 0x1de7e1f0be0>"
      ]
     },
     "metadata": {},
     "output_type": "display_data"
    }
   ],
   "source": [
    "fig, ax = plt.subplots(1,2, figsize = (10,5))\n",
    "\n",
    "fig.tight_layout(w_pad=8) \n",
    "\n",
    "ax[0].pie(pokemon[\"Sp. Atk\"], labels= pokemon.index)\n",
    "\n",
    "ax[1].bar(pokemon.index, pokemon[\"Sp. Atk\"], color = \"orange\")\n",
    "\n",
    "ax[1].tick_params(axis='x', rotation=70)\n",
    "\n",
    "ax[1].spines[\"right\"].set_visible(False)\n",
    "ax[1].spines[\"top\"].set_visible(False)\n",
    "\n",
    "fig.suptitle(\"Special Abilities \\n\")\n",
    "\n",
    "plt.show()"
   ]
  },
  {
   "cell_type": "code",
   "execution_count": null,
   "metadata": {
    "collapsed": true
   },
   "outputs": [],
   "source": []
  }
 ],
 "metadata": {
  "anaconda-cloud": {},
  "hide_input": false,
  "kernelspec": {
   "display_name": "Python 3",
   "language": "python",
   "name": "python3"
  },
  "language_info": {
   "codemirror_mode": {
    "name": "ipython",
    "version": 3
   },
   "file_extension": ".py",
   "mimetype": "text/x-python",
   "name": "python",
   "nbconvert_exporter": "python",
   "pygments_lexer": "ipython3",
   "version": "3.6.3"
  }
 },
 "nbformat": 4,
 "nbformat_minor": 2
}
