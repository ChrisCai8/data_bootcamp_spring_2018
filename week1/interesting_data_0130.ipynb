{
 "cells": [
  {
   "cell_type": "markdown",
   "metadata": {},
   "source": [
    "Here is an interesting piece of data that I saw...\n",
    "\n",
    "![Is Amazon good for local economy](https://cdn.static-economist.com/sites/default/files/imagecache/640-width/images/print-edition/20180120_USC560.png)"
   ]
  },
  {
   "cell_type": "markdown",
   "metadata": {},
   "source": [
    "Questions to be asking your self when we see graphs/charts/tables of this nature...\n",
    "\n",
    "\n",
    "* **What did we learn from the graph?** Another way to put this question is to ask what \"story\" is it telling. What is it communicating? To dig deeper, ways to break this down are to ask...What is the unit of analysis? What type of variation is it using...like across time, across space (cities, states, countries). \n",
    "\n",
    "\n",
    "* **What else would we like to know?** Is their something missing? Does this lead to another interesting question? What kind of graph/chart/table would you like to see to follow up.\n",
    "\n",
    "\n",
    "* **Where does the data come from?** Always an interesting question, sometimes its not obvious. "
   ]
  },
  {
   "cell_type": "code",
   "execution_count": null,
   "metadata": {
    "collapsed": true
   },
   "outputs": [],
   "source": []
  }
 ],
 "metadata": {
  "anaconda-cloud": {},
  "kernelspec": {
   "display_name": "Python [default]",
   "language": "python",
   "name": "python3"
  },
  "language_info": {
   "codemirror_mode": {
    "name": "ipython",
    "version": 3
   },
   "file_extension": ".py",
   "mimetype": "text/x-python",
   "name": "python",
   "nbconvert_exporter": "python",
   "pygments_lexer": "ipython3",
   "version": "3.5.2"
  }
 },
 "nbformat": 4,
 "nbformat_minor": 2
}
