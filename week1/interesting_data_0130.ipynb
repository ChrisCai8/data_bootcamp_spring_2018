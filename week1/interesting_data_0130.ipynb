{
 "cells": [
  {
   "cell_type": "markdown",
   "metadata": {},
   "source": [
    "Here is an interesting piece of data that I saw with [this article in the economist](https://www.economist.com/news/united-states/21735020-worlds-largest-online-retailer-underpaying-its-employees-what-amazon-does-wages):\n",
    "\n",
    "![Is Amazon good for local economy](https://cdn.static-economist.com/sites/default/files/imagecache/640-width/images/print-edition/20180120_USC560.png)"
   ]
  },
  {
   "cell_type": "markdown",
   "metadata": {},
   "source": [
    "Questions to be asking your self when we see graphs/charts/tables of this nature...\n",
    "\n",
    "\n",
    "* **What did we learn from the graph?** Another way to put this question is to ask what \"story\" is it telling. What is it communicating? To dig deeper, ways to break this down are to ask...What is the unit of analysis? What type of variation is it using...like across time, across space (cities, states, countries). \n",
    "\n",
    "\n",
    "* **What else would we like to know?** Is their something missing? Does this lead to another interesting question? What kind of graph/chart/table would you like to see to follow up.\n",
    "\n",
    "\n",
    "* **Where does the data come from?** Always an interesting question, sometimes its not obvious. "
   ]
  },
  {
   "cell_type": "markdown",
   "metadata": {
    "collapsed": true
   },
   "source": [
    "### Discussion in class...\n",
    "\n",
    "---\n",
    "\n",
    "* What did we learn from the graph? Lots of good points were made, it seems to be saying that amazon lead to (i) increased employment but (ii) wages went down. All of this was a by focusing on one location and essentially comparing what wages looked like prior to Amazon and after Amazon. In other words, the unit of analysis is the county and the variation is across time with an identified break with Amazon's arrival. This is an interesting story because while (i) seems good (ii) does not seem so great.\n",
    "\n",
    "\n",
    "* What else would we like to know? Lots of questions came up. Is it **just** focusing on warehousing employment or broader? What are the nature of the jobs, part-time or full-time. Is there a lot of \"churn\" in and out of these jobs. What about the wages...is the pool of workers the same (again did hours change, is education the same). What about real versus nominal. \n",
    "\n",
    "\n",
    "* Where did the data come from? Looks like the BLS. Maybe I'll dig a bit and provide a link to this."
   ]
  },
  {
   "cell_type": "code",
   "execution_count": null,
   "metadata": {
    "collapsed": true
   },
   "outputs": [],
   "source": []
  }
 ],
 "metadata": {
  "anaconda-cloud": {},
  "kernelspec": {
   "display_name": "Python [default]",
   "language": "python",
   "name": "python3"
  },
  "language_info": {
   "codemirror_mode": {
    "name": "ipython",
    "version": 3
   },
   "file_extension": ".py",
   "mimetype": "text/x-python",
   "name": "python",
   "nbconvert_exporter": "python",
   "pygments_lexer": "ipython3",
   "version": "3.5.2"
  }
 },
 "nbformat": 4,
 "nbformat_minor": 2
}
