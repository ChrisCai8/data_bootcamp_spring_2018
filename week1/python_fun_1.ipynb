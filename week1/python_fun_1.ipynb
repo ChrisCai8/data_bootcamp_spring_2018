{
 "cells": [
  {
   "cell_type": "markdown",
   "metadata": {},
   "source": [
    "### Python Fundamentals 1 Code book...\n",
    "\n",
    "This is my code walking through python fundementals 1 for theSpring 2018 data boot camp course.\n",
    "\n",
    "#### Simple Calculations\n",
    "\n",
    "Literally the \"bread and butter\" of scientific computation...let's get started:"
   ]
  },
  {
   "cell_type": "code",
   "execution_count": 1,
   "metadata": {},
   "outputs": [
    {
     "name": "stdout",
     "output_type": "stream",
     "text": [
      "6\n",
      "6\n",
      "6\n",
      "0.6666666666666666\n"
     ]
    }
   ],
   "source": [
    "test = 2*3 # simple multiplication\n",
    "print(test)\n",
    "\n",
    "test = 2 * 3 # add some white space, nice feature of python is that it is not sensitve to this..\n",
    "print(test)\n",
    "\n",
    "test = 2  *  3 # add some more...\n",
    "print(test)\n",
    "\n",
    "# What about division...\n",
    "test = 2/3\n",
    "print(test)"
   ]
  },
  {
   "cell_type": "code",
   "execution_count": 2,
   "metadata": {},
   "outputs": [
    {
     "name": "stdout",
     "output_type": "stream",
     "text": [
      "1\n",
      "is this a 8???\n",
      "8\n",
      "is this a 8???\n"
     ]
    }
   ],
   "source": [
    "test = 2^3 # This is what you would do in excel (matlab too)\n",
    "print(test)\n",
    "print(\"is this a 8???\")\n",
    "\n",
    "test = 2**3 # Now what happens...\n",
    "print(test)\n",
    "print(\"is this a 8???\")"
   ]
  },
  {
   "cell_type": "code",
   "execution_count": 3,
   "metadata": {},
   "outputs": [
    {
     "ename": "NameError",
     "evalue": "name 'log' is not defined",
     "output_type": "error",
     "traceback": [
      "\u001b[0;31m---------------------------------------------------------------------------\u001b[0m",
      "\u001b[0;31mNameError\u001b[0m                                 Traceback (most recent call last)",
      "\u001b[0;32m<ipython-input-3-975d65331a7f>\u001b[0m in \u001b[0;36m<module>\u001b[0;34m()\u001b[0m\n\u001b[0;32m----> 1\u001b[0;31m \u001b[0mtest\u001b[0m \u001b[1;33m=\u001b[0m \u001b[0mlog\u001b[0m\u001b[1;33m(\u001b[0m\u001b[1;36m3\u001b[0m\u001b[1;33m)\u001b[0m \u001b[1;31m# what do you think will happen here...note in spyder it is given\u001b[0m\u001b[1;33m\u001b[0m\u001b[0m\n\u001b[0m\u001b[1;32m      2\u001b[0m               \u001b[1;31m# a alert, this is telling you that there is a problem...log is not defined\u001b[0m\u001b[1;33m\u001b[0m\u001b[1;33m\u001b[0m\u001b[0m\n\u001b[1;32m      3\u001b[0m \u001b[0mprint\u001b[0m\u001b[1;33m(\u001b[0m\u001b[0mtest\u001b[0m\u001b[1;33m)\u001b[0m\u001b[1;33m\u001b[0m\u001b[0m\n",
      "\u001b[0;31mNameError\u001b[0m: name 'log' is not defined"
     ]
    }
   ],
   "source": [
    "test = log(3) # what do you think will happen here...note in spyder it is given\n",
    "              # a alert, this is telling you that there is a problem...log is not defined\n",
    "print(test)"
   ]
  },
  {
   "cell_type": "markdown",
   "metadata": {},
   "source": [
    "Note how the compute just stopped. It did not compute. Remember, python and the computer are DUMB! You gave it an instruction that it did not know what to do, so it stopped, and did not proceed. A couple of points about this:\n",
    "\n",
    "* The top to bottom (within a code cell), simply following instructions/commands nature of a program.\n",
    "\n",
    "* When you run this, note how (after some stuff) tells you where the problem is: Line 36, then this name log is not defined."
   ]
  },
  {
   "cell_type": "code",
   "execution_count": 4,
   "metadata": {},
   "outputs": [
    {
     "name": "stdout",
     "output_type": "stream",
     "text": [
      "16\n",
      "is this a 8???\n"
     ]
    }
   ],
   "source": [
    "test = 4**2 # Now what happens...\n",
    "print(test)\n",
    "print(\"is this a 8???\")"
   ]
  },
  {
   "cell_type": "markdown",
   "metadata": {},
   "source": [
    "Above I've been assigning variables... but lets look at this more closely..."
   ]
  },
  {
   "cell_type": "code",
   "execution_count": 5,
   "metadata": {
    "collapsed": true
   },
   "outputs": [],
   "source": [
    "x = 2 "
   ]
  },
  {
   "cell_type": "markdown",
   "metadata": {},
   "source": [
    "Nice so the thing on the left is the \"variable\" named \"x\", then the thing on the right is the value that this variable is assigned... then the = sign is the operator that assighns that value."
   ]
  },
  {
   "cell_type": "code",
   "execution_count": 6,
   "metadata": {},
   "outputs": [
    {
     "name": "stdout",
     "output_type": "stream",
     "text": [
      "2\n",
      "3\n"
     ]
    }
   ],
   "source": [
    "print(x)\n",
    "\n",
    "y = 3 # lets do it again...\n",
    "print(y)"
   ]
  },
  {
   "cell_type": "markdown",
   "metadata": {},
   "source": [
    "Now we are getting somewhere, we take these variables and perform an operation. Notice that (like excel) the value assigned to z will change as we change the values assigned to x or y. But there is a difference with excel...what is it?"
   ]
  },
  {
   "cell_type": "code",
   "execution_count": 7,
   "metadata": {},
   "outputs": [
    {
     "name": "stdout",
     "output_type": "stream",
     "text": [
      "0.6666666666666666\n"
     ]
    }
   ],
   "source": [
    "z = x/y \n",
    "\n",
    "print(z)"
   ]
  },
  {
   "cell_type": "markdown",
   "metadata": {},
   "source": [
    "Here is a place where you might want to figure out what variables there are within the enviornment. For example, what is `x`  (the type and size ignore for now) and then the value...how do you do this, with the `whos` command, which will provide this information. "
   ]
  },
  {
   "cell_type": "code",
   "execution_count": 8,
   "metadata": {},
   "outputs": [
    {
     "name": "stdout",
     "output_type": "stream",
     "text": [
      "Variable   Type     Data/Info\n",
      "-----------------------------\n",
      "test       int      16\n",
      "x          int      2\n",
      "y          int      3\n",
      "z          float    0.6666666666666666\n"
     ]
    }
   ],
   "source": [
    "whos"
   ]
  },
  {
   "cell_type": "markdown",
   "metadata": {},
   "source": [
    "This is a nice feature in that it is a way for you to always understand what variables are in your environment at any point in time, their type, etc. "
   ]
  },
  {
   "cell_type": "markdown",
   "metadata": {},
   "source": [
    "**Exercise.** Type `w = 7` in a cell.  In the same cell, next line below, type `w = w + 2`. In the next line below type `w` (so we can see the output). What does this code do?  Why is this not a violation of basic mathematics?"
   ]
  },
  {
   "cell_type": "code",
   "execution_count": 9,
   "metadata": {},
   "outputs": [
    {
     "data": {
      "text/plain": [
       "9"
      ]
     },
     "execution_count": 9,
     "metadata": {},
     "output_type": "execute_result"
    }
   ],
   "source": [
    "w = 7\n",
    "w = w + 2\n",
    "w"
   ]
  },
  {
   "cell_type": "markdown",
   "metadata": {},
   "source": [
    "**Exercise.** In another code cell type `w = w + 2` and then `w` below it (again so we can see the output). Evaluate this cell once. Do it again. Do it again. What is going on here?"
   ]
  },
  {
   "cell_type": "code",
   "execution_count": 10,
   "metadata": {},
   "outputs": [
    {
     "data": {
      "text/plain": [
       "11"
      ]
     },
     "execution_count": 10,
     "metadata": {},
     "output_type": "execute_result"
    }
   ],
   "source": [
    "w = w + 2\n",
    "w"
   ]
  },
  {
   "cell_type": "markdown",
   "metadata": {},
   "source": [
    "**Exercise.**  Suppose we borrow 200 for one year at an interest rate of 5 percent.  If we pay interest plus principal at the end of the year, what is our total payment?  Compute this using the variables `principal = 200` and `i = 0.05`."
   ]
  },
  {
   "cell_type": "code",
   "execution_count": 11,
   "metadata": {},
   "outputs": [
    {
     "name": "stdout",
     "output_type": "stream",
     "text": [
      "210.0\n"
     ]
    }
   ],
   "source": [
    "loan = 200 # Note, I like to make variable names, short, but informative\n",
    "interest = 0.05 # Same thing, be mindfull not to name your varible the same as an operation(?)\n",
    "\n",
    "total_payment = loan*(1+interest)\n",
    "\n",
    "print(total_payment) "
   ]
  },
  {
   "cell_type": "markdown",
   "metadata": {},
   "source": [
    "**Exercise.** Real GDP in the US (the total value of things produced) was 15.58 trillion in 2013 and 15.96 trillion in 2014.  What was the growth rate?  Express it as an annual percentage."
   ]
  },
  {
   "cell_type": "code",
   "execution_count": 12,
   "metadata": {},
   "outputs": [
    {
     "name": "stdout",
     "output_type": "stream",
     "text": [
      "GDP Growth in Percent 2.4390243902439046\n"
     ]
    }
   ],
   "source": [
    "gdp_2013 = 15.58\n",
    "gdp_2014 = 15.96\n",
    "\n",
    "gdp_growth = 100*((gdp_2014/gdp_2013) - 1)\n",
    "\n",
    "print(\"GDP Growth in Percent\", gdp_growth)"
   ]
  },
  {
   "cell_type": "markdown",
   "metadata": {},
   "source": [
    "Very nice, again note the naming convention, things are short, but informative so if your friend looked at the code he would understand what you are doing."
   ]
  },
  {
   "cell_type": "markdown",
   "metadata": {},
   "source": [
    "**Exercise (challenging).**  Suppose we have two variables, `x` and `y`.  How would you switch their values, so that `x` takes on `y`'s value and `y` takes on `x`'s?"
   ]
  },
  {
   "cell_type": "markdown",
   "metadata": {},
   "source": [
    "First, let me show you a simple, but \"naive\" approach"
   ]
  },
  {
   "cell_type": "code",
   "execution_count": 13,
   "metadata": {},
   "outputs": [
    {
     "name": "stdout",
     "output_type": "stream",
     "text": [
      "2 3\n",
      "3 2\n"
     ]
    }
   ],
   "source": [
    "print(x,y)\n",
    "temp = x\n",
    "x = y\n",
    "y = temp\n",
    "print(x,y)"
   ]
  },
  {
   "cell_type": "markdown",
   "metadata": {},
   "source": [
    "Now here is a more sophisticated approach..."
   ]
  },
  {
   "cell_type": "code",
   "execution_count": 14,
   "metadata": {},
   "outputs": [
    {
     "name": "stdout",
     "output_type": "stream",
     "text": [
      "3 2\n"
     ]
    }
   ],
   "source": [
    "x = 2 # First reset things, so x = 2, y = 3\n",
    "y = 3\n",
    "\n",
    "x,y = y,x\n",
    "print(x,y)"
   ]
  },
  {
   "cell_type": "markdown",
   "metadata": {},
   "source": [
    "This is cool...there is a [stackoverflow discussion](https://stackoverflow.com/questions/14836228/is-there-a-standardized-method-to-swap-two-variables-in-python) about this. It explains this that Python creates a tuple (**mtwn**) out of the stuff on the right-hand side (y,x) and then will take this tuple and assign it to a new tuple (x,y) all in the background. Another point that this brings up is the evaluation order so as the documentation says...\n",
    "(1) When assigning something (=) it starts on the right-hand side (2) where ever it starts, it works left to right"
   ]
  },
  {
   "cell_type": "markdown",
   "metadata": {},
   "source": [
    "**Exercise (challenging).**  Type `x = 6` in a cell.  We've reassigned `x` so that its value is now 6, not 2. If we type and submit `z`, we see\n",
    "\n",
    "```\n",
    "In [10]: z\n",
    "Out[10]: .6666666666\n",
    "```\n",
    "\n",
    "But wait, if `z` is supposed to be `x/y`, and `x` now equals 6, then shouldn't `z` be 2? What do you think is going on?"
   ]
  },
  {
   "cell_type": "code",
   "execution_count": 15,
   "metadata": {},
   "outputs": [
    {
     "data": {
      "text/plain": [
       "0.6666666666666666"
      ]
     },
     "execution_count": 15,
     "metadata": {},
     "output_type": "execute_result"
    }
   ],
   "source": [
    "x = 6\n",
    "z"
   ]
  },
  {
   "cell_type": "markdown",
   "metadata": {},
   "source": [
    "The bottom line is that z will not change unless evaluated again (this is unlike excel where connected cells automatically update). This gives us a lot of **explicit control** over the operations on variables...this has benefits but must also be mindful of what is going on, like quote from spider man ``with great powers, comes great responsibility\""
   ]
  },
  {
   "cell_type": "markdown",
   "metadata": {
    "collapsed": true
   },
   "source": [
    "### Printing Stuff\n",
    "\n",
    "I've been using this a lot already. It's important in the sense that if we don't tell the computer to report or \"print\" the results, then generally we will not see it. \n",
    "\n",
    "First, lets practice using the help command by `print?`"
   ]
  },
  {
   "cell_type": "code",
   "execution_count": 16,
   "metadata": {
    "collapsed": true
   },
   "outputs": [],
   "source": [
    "print?"
   ]
  },
  {
   "cell_type": "markdown",
   "metadata": {},
   "source": [
    "So a window should pop up showing things that (i) values must be seperated by commas, when it is printed how to seperate them, what to do at the end, etc."
   ]
  },
  {
   "cell_type": "code",
   "execution_count": 17,
   "metadata": {},
   "outputs": [
    {
     "name": "stdout",
     "output_type": "stream",
     "text": [
      "6---2\n"
     ]
    }
   ],
   "source": [
    "print(x, y, sep='---')"
   ]
  },
  {
   "cell_type": "code",
   "execution_count": 18,
   "metadata": {},
   "outputs": [
    {
     "name": "stdout",
     "output_type": "stream",
     "text": [
      "6 2\n",
      " \n",
      " \n",
      " \n",
      " \n"
     ]
    }
   ],
   "source": [
    "print(x,y, end='\\n \\n \\n \\n \\n')"
   ]
  },
  {
   "cell_type": "markdown",
   "metadata": {},
   "source": [
    "Notice all the white space, this is what the character `\\n` does, it stands for a return or jump to the next line. "
   ]
  },
  {
   "cell_type": "markdown",
   "metadata": {},
   "source": [
    "### Strings"
   ]
  },
  {
   "cell_type": "markdown",
   "metadata": {},
   "source": [
    "Strings...this is where I think python is VERY POWERFULL...lots of enviorenments can do numerical calculations, plotting well, but handling and manipulating strings is less common...\n",
    "\n",
    "* Lesson 1: A string is a collection of characters between quotation marks\n",
    "\n",
    "* Lesson 2: A string may look like a number, but it is not. '12'/3 this is not going to work as \"12\" is a string, python does not see it as a number, and then it is being asked to perform a numerical computation on something that is not a number, thus an error message."
   ]
  },
  {
   "cell_type": "code",
   "execution_count": 19,
   "metadata": {},
   "outputs": [
    {
     "name": "stdout",
     "output_type": "stream",
     "text": [
      "something\n"
     ]
    }
   ],
   "source": [
    "a = \"some\"\n",
    "b = \"thing\"\n",
    "c = a + b # this is awesome....so natural and intuitive... suppose you tried\n",
    "            # this in excel?? what would happen.\n",
    "print(c)"
   ]
  },
  {
   "cell_type": "code",
   "execution_count": 20,
   "metadata": {},
   "outputs": [
    {
     "name": "stdout",
     "output_type": "stream",
     "text": [
      "the value of z is 0.6666666666666666\n",
      "the value of z is 0.6666666666666666\n"
     ]
    }
   ],
   "source": [
    "# Back to print, we can do some cool things with this...\n",
    "print(\"the value of z is\", z)\n",
    "\n",
    "# or even do something like this\n",
    "message = \"the value of z is\"\n",
    "print(message, z)\n"
   ]
  },
  {
   "cell_type": "markdown",
   "metadata": {},
   "source": [
    "**Exercise.** What happens if we run the statement: 'Chase'/2? Why?"
   ]
  },
  {
   "cell_type": "markdown",
   "metadata": {},
   "source": [
    "**Exercise.** This one's a little harder. Assign your first name as a string to the variable firstname and your last name to the variable lastname.  Use them to construct a new variable equal to your first name, a space, then your last name. Hint: Think about how you would express a space as a string."
   ]
  },
  {
   "cell_type": "code",
   "execution_count": 21,
   "metadata": {},
   "outputs": [
    {
     "name": "stdout",
     "output_type": "stream",
     "text": [
      "Michael Waugh\n"
     ]
    }
   ],
   "source": [
    "first_name = \"Michael\"\n",
    "last_name = \"Waugh\"\n",
    "space = \" \"\n",
    "\n",
    "full_name = first_name + space + last_name\n",
    "print(full_name)\n",
    "# Note how python interperts this space in \" \" it is implicitly a character, just\n",
    "# and empty space..."
   ]
  },
  {
   "cell_type": "markdown",
   "metadata": {},
   "source": [
    "**Exercise.** Set s = 'string'. What is s + s? 2*s? s*2? What is the logic here?"
   ]
  },
  {
   "cell_type": "code",
   "execution_count": 22,
   "metadata": {},
   "outputs": [
    {
     "name": "stdout",
     "output_type": "stream",
     "text": [
      "stringstring\n",
      "stringstring\n",
      "stringstring\n",
      "stringMichael WaughMichael Waugh\n"
     ]
    }
   ],
   "source": [
    "s = 'string'\n",
    "print(s+s)\n",
    "print(2*s)\n",
    "print(s*2)\n",
    "print(s + full_name*2)"
   ]
  },
  {
   "cell_type": "markdown",
   "metadata": {},
   "source": [
    "### Quotation Marks\n",
    "\n",
    "Here is the thing, you'll notice that sometimes I use single quotation, double quotation marks...\n",
    "* First, both are valid ways to define a string. The real issue is my inconsistent use partly this is a problem within the NYU databoot camp team...I actually prefer double.\n",
    "* Second, the fact that both are valid is not an accident, in fact, double quotation marks and even **triple** quotation marks play an important roles. "
   ]
  },
  {
   "cell_type": "code",
   "execution_count": 23,
   "metadata": {},
   "outputs": [
    {
     "name": "stdout",
     "output_type": "stream",
     "text": [
      "string string\n",
      "I don't know what I'm doing\n"
     ]
    }
   ],
   "source": [
    "a = 'string'\n",
    "b = \"string\"\n",
    "print(a,b) # We should see the same thing....\n",
    "\n",
    "# This is one instance where double helps...\n",
    "message = \"I don't know what I'm doing\"\n",
    "print(message)"
   ]
  },
  {
   "cell_type": "markdown",
   "metadata": {},
   "source": [
    "**Note** how in the last line of code I can use the apostrophe. This is the value added of double quotation marks in that it can handle more complicated punctuation within the quoation marks. \n",
    "Now what about this..."
   ]
  },
  {
   "cell_type": "code",
   "execution_count": 24,
   "metadata": {},
   "outputs": [
    {
     "name": "stdout",
     "output_type": "stream",
     "text": [
      "\n",
      "Four score and seven years ago\n",
      "Our fathers brought forth. \n"
     ]
    }
   ],
   "source": [
    "longstring = \"\"\"\n",
    "Four score and seven years ago\n",
    "Our fathers brought forth. \"\"\"\n",
    "\n",
    "print(longstring) "
   ]
  },
  {
   "cell_type": "markdown",
   "metadata": {},
   "source": [
    "Here triple quotation marks allow us to have multiple lines..."
   ]
  },
  {
   "cell_type": "markdown",
   "metadata": {},
   "source": [
    "**Exercise.** In the Four score etc code, replace the triple double quotes with \n",
    "triple single quotes. What happens?"
   ]
  },
  {
   "cell_type": "markdown",
   "metadata": {},
   "source": [
    "**Exercise.** Fix this code:"
   ]
  },
  {
   "cell_type": "code",
   "execution_count": 25,
   "metadata": {},
   "outputs": [
    {
     "ename": "SyntaxError",
     "evalue": "invalid syntax (<ipython-input-25-bb26c8268e37>, line 1)",
     "output_type": "error",
     "traceback": [
      "\u001b[0;36m  File \u001b[0;32m\"<ipython-input-25-bb26c8268e37>\"\u001b[0;36m, line \u001b[0;32m1\u001b[0m\n\u001b[0;31m    bad_string = 'Sarah's code'\u001b[0m\n\u001b[0m                        ^\u001b[0m\n\u001b[0;31mSyntaxError\u001b[0m\u001b[0;31m:\u001b[0m invalid syntax\n"
     ]
    }
   ],
   "source": [
    "bad_string = 'Sarah's code'\n",
    "\n",
    "print(bad_string)"
   ]
  },
  {
   "cell_type": "markdown",
   "metadata": {},
   "source": [
    "**Exercise.** Which of these are strings? Which are not?\n",
    "apple NOT\n",
    "* \"orange\" \n",
    "* 'lemon84'\n",
    "* \"1\" \n",
    "* string \n",
    "* 4 \n",
    "* 15.6 \n",
    "* '32.5'"
   ]
  },
  {
   "cell_type": "markdown",
   "metadata": {},
   "source": [
    "**Remember: A string is a collection of characters between quotation marks**"
   ]
  },
  {
   "cell_type": "markdown",
   "metadata": {},
   "source": [
    "### Lists"
   ]
  },
  {
   "cell_type": "markdown",
   "metadata": {
    "collapsed": true
   },
   "source": [
    "**Key concept:** A list is an ordered collection of items. This will obviously be important as data will naturally come in a list or list like form. Moreover, this will also give us our first taste of \"slicing\" or grabbing specific elements of a list. "
   ]
  },
  {
   "cell_type": "code",
   "execution_count": 26,
   "metadata": {},
   "outputs": [
    {
     "name": "stdout",
     "output_type": "stream",
     "text": [
      "[1, 5, -3]\n",
      "\n",
      "\n",
      "['some', 'thing', 'something']\n",
      " \n"
     ]
    }
   ],
   "source": [
    "# Some examples of listis...\n",
    "numberlist = [1, 5, -3] # Note also the use of square brackes...this is what\n",
    "                        # defines a list, () are tuples, {} are sets...\n",
    "\n",
    "print(numberlist)\n",
    "\n",
    "stringlist = ['hi', 'hello', 'hey']\n",
    "\n",
    "a = 'some'\n",
    "\n",
    "b = 'thing'\n",
    "\n",
    "c = a + b\n",
    "\n",
    "variablelist = [a, b, c]\n",
    "print(\"\\n\")\n",
    "print(variablelist, end = \"\\n \\n\")"
   ]
  },
  {
   "cell_type": "markdown",
   "metadata": {},
   "source": [
    "Now what is really cool is that you can have a list with different types..."
   ]
  },
  {
   "cell_type": "code",
   "execution_count": 27,
   "metadata": {},
   "outputs": [
    {
     "name": "stdout",
     "output_type": "stream",
     "text": [
      "[1, 'hello', 'some']\n"
     ]
    }
   ],
   "source": [
    "randomlist = [1, \"hello\", a]\n",
    "print(randomlist)"
   ]
  },
  {
   "cell_type": "markdown",
   "metadata": {},
   "source": [
    "So notice that the first part of the list is an integer, then a string, then the variable a (which currently is a string as well) Then there is the combining of list... so here is this awesome example"
   ]
  },
  {
   "cell_type": "code",
   "execution_count": 28,
   "metadata": {},
   "outputs": [
    {
     "name": "stdout",
     "output_type": "stream",
     "text": [
      "[1, 'hello', 'some', 'hi', 'hello', 'hey']\n",
      " \n"
     ]
    }
   ],
   "source": [
    "big_list_one = randomlist + stringlist\n",
    "print(big_list_one, end = \"\\n \\n\")"
   ]
  },
  {
   "cell_type": "markdown",
   "metadata": {},
   "source": [
    "So notice what this did here, it litterally took randomlist and then added it to the stringlist, so we have a new list that combines all of this\n",
    "\n",
    "What do you think this does..."
   ]
  },
  {
   "cell_type": "code",
   "execution_count": 29,
   "metadata": {},
   "outputs": [
    {
     "name": "stdout",
     "output_type": "stream",
     "text": [
      "[[1, 'hello', 'some'], ['hi', 'hello', 'hey']]\n",
      " \n"
     ]
    }
   ],
   "source": [
    "big_list_two = [randomlist, stringlist]\n",
    "\n",
    "print(big_list_two, end = \"\\n \\n\")"
   ]
  },
  {
   "cell_type": "markdown",
   "metadata": {},
   "source": [
    "VERY INTERESTING....This took the two lists and the created another list which is composed of two lists!!! A \"List of Lists\""
   ]
  },
  {
   "cell_type": "markdown",
   "metadata": {},
   "source": [
    "Final point, the book does not talk about this yet, [later it does](https://nyudatabootcamp.gitbooks.io/data-bootcamp/content/py-fun2.html), but its worth understanding the \"ordered\" part...this means for each item in the list we can call that item with its order in the list or number. Key: Python starts from the number 0, so the first item in a list is item number\n",
    "zero...Lets try some stuff\n"
   ]
  },
  {
   "cell_type": "code",
   "execution_count": 30,
   "metadata": {},
   "outputs": [
    {
     "name": "stdout",
     "output_type": "stream",
     "text": [
      "1 Should print the first value, a one\n",
      " \n",
      "some  Should print the last value, 'some'\n",
      " \n",
      "['hi', 'hello', 'hey']  Should be the list 'hi', 'hello', 'hey'\n"
     ]
    }
   ],
   "source": [
    "\n",
    "print(randomlist[0], \"Should print the first value, a one\", end = \"\\n \\n\")\n",
    "print(randomlist[2], \" Should print the last value, 'some'\", end = \"\\n \\n\")\n",
    "\n",
    "# Now lets do this with big_list_two, the \"list of list\"\n",
    "print(big_list_two[1], \" Should be the list 'hi', 'hello', 'hey'\")"
   ]
  },
  {
   "cell_type": "markdown",
   "metadata": {},
   "source": [
    "**Exercise.** How would you explain a list to a classmate?"
   ]
  },
  {
   "cell_type": "markdown",
   "metadata": {},
   "source": [
    "**Exercise.** Add `print(numberlist)` and `print(variablelist)` to your code and note \n",
    "the format of the output. What do the square brackets tell us? The single \n",
    "quotes around some entries?"
   ]
  },
  {
   "cell_type": "markdown",
   "metadata": {},
   "source": [
    "**Exercise.** What is the output? How would you explain it to a classmates?"
   ]
  },
  {
   "cell_type": "code",
   "execution_count": 31,
   "metadata": {},
   "outputs": [
    {
     "name": "stdout",
     "output_type": "stream",
     "text": [
      "['some', 'thing', 'something', [1, 5, -3]]\n"
     ]
    }
   ],
   "source": [
    "mixedlist = [a, b, c, numberlist]\n",
    "print(mixedlist)"
   ]
  },
  {
   "cell_type": "markdown",
   "metadata": {},
   "source": [
    "**Exercise.** Suppose `x = [1, 2, 3]` is a list. What is `x + x`? `2*x`? Try them and see."
   ]
  },
  {
   "cell_type": "code",
   "execution_count": 32,
   "metadata": {},
   "outputs": [
    {
     "name": "stdout",
     "output_type": "stream",
     "text": [
      "[1, 2, 3, 1, 2, 3]\n",
      "[1, 2, 3, 1, 2, 3]\n"
     ]
    }
   ],
   "source": [
    "x = [1,2,3]\n",
    "print(x+x) # This is going to make another list that is just 1,2,3,1,2,3\n",
    "print(2*x) # Same thing...amazing!!!"
   ]
  },
  {
   "cell_type": "markdown",
   "metadata": {},
   "source": [
    "**mtwn** One thing that is interesting here is that (for those of you with prior experince in math or computing), you may be thinking that a numerical operation on a list will be like a vector operiation (a list looks similar to a vector). But it does not. In this sense the list operations are more general, usable for doing things like expanding the list, combining lists, etc. If we want to perform vector-like operations, then we need to change the type and import the `numpy` package. We will see this later."
   ]
  },
  {
   "cell_type": "markdown",
   "metadata": {},
   "source": [
    "### Tuples\n",
    "\n",
    "Tuples are very similar to lists, but the key issue is once a tuple is set, then the entries in it cannot be changed. This is what they call \"immutability\" of a tuple. In contrast, in a list you can change individual elements. Let's see this. \n",
    "\n",
    "\n",
    "test_tuple = (1,2,3) # Similar to a list, but round brackets...\n"
   ]
  },
  {
   "cell_type": "code",
   "execution_count": 33,
   "metadata": {},
   "outputs": [
    {
     "name": "stdout",
     "output_type": "stream",
     "text": [
      "[1, 5, -3]\n",
      "[328, 5, -3]\n"
     ]
    }
   ],
   "source": [
    "print(numberlist)\n",
    "numberlist[0] = 328\n",
    "print(numberlist) # Note how I changed the fist entry int he list!!!"
   ]
  },
  {
   "cell_type": "markdown",
   "metadata": {},
   "source": [
    "Now here is a tuple...like with a list, individual elements are seperated by a comma. Unlike a list, we see round brackets, not square. "
   ]
  },
  {
   "cell_type": "code",
   "execution_count": 34,
   "metadata": {},
   "outputs": [
    {
     "name": "stdout",
     "output_type": "stream",
     "text": [
      "(1, 2, 3)\n"
     ]
    }
   ],
   "source": [
    "test_tuple = (1,2,3) # Similar to a list, but round brackets...\n",
    "print(test_tuple)"
   ]
  },
  {
   "cell_type": "markdown",
   "metadata": {},
   "source": [
    "And again, notice that when it is printed out we see the round brakcets indicating that it is a tuple."
   ]
  },
  {
   "cell_type": "code",
   "execution_count": 35,
   "metadata": {},
   "outputs": [
    {
     "ename": "TypeError",
     "evalue": "'tuple' object does not support item assignment",
     "output_type": "error",
     "traceback": [
      "\u001b[0;31m---------------------------------------------------------------------------\u001b[0m",
      "\u001b[0;31mTypeError\u001b[0m                                 Traceback (most recent call last)",
      "\u001b[0;32m<ipython-input-35-a3b4d78fa40f>\u001b[0m in \u001b[0;36m<module>\u001b[0;34m()\u001b[0m\n\u001b[0;32m----> 1\u001b[0;31m \u001b[0mtest_tuple\u001b[0m\u001b[1;33m[\u001b[0m\u001b[1;36m0\u001b[0m\u001b[1;33m]\u001b[0m \u001b[1;33m=\u001b[0m \u001b[1;36m328\u001b[0m \u001b[1;31m# UNCOMMENT THIS PART OF THE CODE TO UNDERSTAND\u001b[0m\u001b[1;33m\u001b[0m\u001b[0m\n\u001b[0m",
      "\u001b[0;31mTypeError\u001b[0m: 'tuple' object does not support item assignment"
     ]
    }
   ],
   "source": [
    "test_tuple[0] = 328 # UNCOMMENT THIS PART OF THE CODE TO UNDERSTAND "
   ]
  },
  {
   "cell_type": "markdown",
   "metadata": {},
   "source": [
    "This won't run \"TypeError: 'tuple' object does not support item assignment\" meaning, that once set you can not assignment new values... This is the immutability property of a tuple."
   ]
  },
  {
   "cell_type": "markdown",
   "metadata": {},
   "source": [
    "### Built in Functions\n",
    "\n",
    "We have already seen several one is `whos` which tells what variables are defined and some properties (type, value) as well. Then we have seen the `print` function which...well prints the results on the screen. Here are some other ones we will use all the time\n",
    "* `len` tells us the lenght of the list, string, etc.\n",
    "* `type` tells us the type of the variable, e.g. a list, sting, float, integer...\n",
    "HEre are some examples"
   ]
  },
  {
   "cell_type": "code",
   "execution_count": 36,
   "metadata": {},
   "outputs": [
    {
     "name": "stdout",
     "output_type": "stream",
     "text": [
      "11\n",
      "3\n",
      "3\n",
      "4\n"
     ]
    },
    {
     "data": {
      "text/plain": [
       "5"
      ]
     },
     "execution_count": 36,
     "metadata": {},
     "output_type": "execute_result"
    }
   ],
   "source": [
    "print(len('hello world')) # note how len is \"counting how many characters\" \n",
    "                          # And it is including the white space...\n",
    "print(len([1, 5, -3])) # How many times in the list\n",
    "print(len((1, 5, -3))) # how many itesm in the tuple\n",
    "print(len('1234')) # String, so how many characters\n",
    "#len(1234) # This is interesting, you should get an error message, a number\n",
    "            # does not have this \"attribute\" \n",
    "len('12.34') # Again, a string...."
   ]
  },
  {
   "cell_type": "code",
   "execution_count": 37,
   "metadata": {},
   "outputs": [
    {
     "ename": "TypeError",
     "evalue": "object of type 'float' has no len()",
     "output_type": "error",
     "traceback": [
      "\u001b[0;31m---------------------------------------------------------------------------\u001b[0m",
      "\u001b[0;31mTypeError\u001b[0m                                 Traceback (most recent call last)",
      "\u001b[0;32m<ipython-input-37-1664a0687b19>\u001b[0m in \u001b[0;36m<module>\u001b[0;34m()\u001b[0m\n\u001b[0;32m----> 1\u001b[0;31m \u001b[0mlen\u001b[0m\u001b[1;33m(\u001b[0m\u001b[1;36m12.34\u001b[0m\u001b[1;33m)\u001b[0m \u001b[1;31m# same issue wiht a floating point number...\u001b[0m\u001b[1;33m\u001b[0m\u001b[0m\n\u001b[0m",
      "\u001b[0;31mTypeError\u001b[0m: object of type 'float' has no len()"
     ]
    }
   ],
   "source": [
    "len(12.34) # same issue wiht a floating point number..."
   ]
  },
  {
   "cell_type": "markdown",
   "metadata": {},
   "source": [
    "Then this is the type command..."
   ]
  },
  {
   "cell_type": "code",
   "execution_count": 38,
   "metadata": {},
   "outputs": [
    {
     "name": "stdout",
     "output_type": "stream",
     "text": [
      "<class 'int'>\n",
      "<class 'float'>\n",
      "<class 'str'>\n",
      "<class 'str'>\n",
      "<class 'list'>\n",
      "<class 'tuple'>\n"
     ]
    }
   ],
   "source": [
    "print(type(2)) # Its saying an integer\n",
    "print(type(2.5)) # A floating point number, or float\n",
    "print(type('2.5')) # Looks like a number, but a string\n",
    "print(type('something')) # String\n",
    "print(type([1, 5, -3])) # Here it sees that this is a list...\n",
    "print(type((1, 5, -3))) # A tuple"
   ]
  },
  {
   "cell_type": "markdown",
   "metadata": {},
   "source": [
    "What is a floating point number...this is **mtwn** but the basic idea is that numbers can not be stored in the computers memory with infinite precision (why? a computers memory is not infinite), so they are approximated. With a 64-bit computer and double precision arithmatic this is about to 16 digits. "
   ]
  },
  {
   "cell_type": "markdown",
   "metadata": {},
   "source": [
    "### Changing types"
   ]
  },
  {
   "cell_type": "markdown",
   "metadata": {},
   "source": [
    "Types mater a lot in python, but sometimes we will want to change the type of a varible. This is something that will come up often in our data work...."
   ]
  },
  {
   "cell_type": "code",
   "execution_count": 39,
   "metadata": {},
   "outputs": [
    {
     "name": "stdout",
     "output_type": "stream",
     "text": [
      "<class 'float'>\n",
      "<class 'int'>\n"
     ]
    }
   ],
   "source": [
    "s = '12.34' # This is a string (check it to veryify...)\n",
    "\n",
    "f = float(s) # This builtin function will convert the string to a float\n",
    "\n",
    "print(type(f)) # It should now tells us that f is a float...\n",
    "\n",
    "s = \"12\"\n",
    "\n",
    "i = int(s) # This should convert the string to an integer...what if we did the \n",
    "            # string \"12.34\"??? \n",
    "\n",
    "print(type(i)) # This should be a type integer..."
   ]
  },
  {
   "cell_type": "code",
   "execution_count": 40,
   "metadata": {},
   "outputs": [
    {
     "data": {
      "text/plain": [
       "12.0"
      ]
     },
     "execution_count": 40,
     "metadata": {},
     "output_type": "execute_result"
    }
   ],
   "source": [
    "float(12)"
   ]
  },
  {
   "cell_type": "code",
   "execution_count": 41,
   "metadata": {
    "collapsed": true
   },
   "outputs": [],
   "source": [
    "i = int(12.99)"
   ]
  },
  {
   "cell_type": "code",
   "execution_count": 42,
   "metadata": {},
   "outputs": [
    {
     "data": {
      "text/plain": [
       "12"
      ]
     },
     "execution_count": 42,
     "metadata": {},
     "output_type": "execute_result"
    }
   ],
   "source": [
    "i"
   ]
  },
  {
   "cell_type": "markdown",
   "metadata": {},
   "source": [
    "Then we can always convert it back...."
   ]
  },
  {
   "cell_type": "code",
   "execution_count": 43,
   "metadata": {},
   "outputs": [
    {
     "name": "stdout",
     "output_type": "stream",
     "text": [
      "s has type <class 'str'>\n",
      "t has type <class 'float'>\n"
     ]
    }
   ],
   "source": [
    "s = str(12) # So start with an integer and go to a string...\n",
    "print('s has type', type(s))\n",
    "\n",
    "t = str(12.34) # Or start with a float and go to a string as well\n",
    "print('t has type', type(f))\n"
   ]
  },
  {
   "cell_type": "markdown",
   "metadata": {},
   "source": [
    "**Big picture**...this is again a super powerful aspect of python that makes it very applicable for working with data...the ability to go from numbers to strings and back...very useful..."
   ]
  },
  {
   "cell_type": "code",
   "execution_count": 44,
   "metadata": {},
   "outputs": [
    {
     "name": "stdout",
     "output_type": "stream",
     "text": [
      "['a', 'b', 'c']\n"
     ]
    }
   ],
   "source": [
    "# This is cool...start with a string and make it a list by the command list\n",
    "x = 'abc'\n",
    "\n",
    "y = list(x)\n",
    "\n",
    "print(y) # So now y should be a list of a, b, c"
   ]
  },
  {
   "cell_type": "markdown",
   "metadata": {},
   "source": [
    "**Exercise.** What happens if we apply the function float to the string 'some'?"
   ]
  },
  {
   "cell_type": "markdown",
   "metadata": {},
   "source": [
    "**Exercise.** What is the result of `list(str(int(float('12.34'))))`? \n",
    "Why? Hint: Start in the middle (the string '12.34') and work your way out, \n",
    "one step at a time. This is similar to question 13 and 14 on Code Practice #1. "
   ]
  },
  {
   "cell_type": "markdown",
   "metadata": {},
   "source": [
    "**Exercise.** How would you convert the integer i = 1234 to the \n",
    "list l = ['1', '2', '3', '4']? This is similar to question 18 on Code Practice #1. Lets do that one instead. "
   ]
  },
  {
   "cell_type": "markdown",
   "metadata": {},
   "source": [
    "**Exercise (challenging).** This one is tricky, but it came up in some work we  were doing. Suppose year is a string containing the year of a particular piece of data; for example, year = '2015'. \n",
    "How would we construct a **string** for the following year?"
   ]
  },
  {
   "cell_type": "markdown",
   "metadata": {},
   "source": [
    "### Objects and Methods\n",
    "\n",
    "This is a key feature of python...its an [object oriented programming language](https://en.wikipedia.org/wiki/Object-oriented_programming). What does that mean? For us this means that every thing is really an object with associated **methods** and **attributes**. A method is like a function that already togo with the given object. Methods in python are always completed with `()` . Attributes are go-to-go attributes about the object that can be accessed easily. What this means is that there are simple built in ways get information and perform operations on objects without having to write our on functions.  \n",
    "\n",
    "OK...but if I have say a list, how do I know the methods and attributes associated with it...here comes `TAB` completion"
   ]
  },
  {
   "cell_type": "code",
   "execution_count": 45,
   "metadata": {},
   "outputs": [
    {
     "name": "stdout",
     "output_type": "stream",
     "text": [
      "Variable        Type     Data/Info\n",
      "----------------------------------\n",
      "a               str      some\n",
      "b               str      thing\n",
      "big_list_one    list     n=6\n",
      "big_list_two    list     n=2\n",
      "c               str      something\n",
      "f               float    12.34\n",
      "first_name      str      Michael\n",
      "full_name       str      Michael Waugh\n",
      "gdp_2013        float    15.58\n",
      "gdp_2014        float    15.96\n",
      "gdp_growth      float    2.4390243902439046\n",
      "i               int      12\n",
      "interest        float    0.05\n",
      "last_name       str      Waugh\n",
      "loan            int      200\n",
      "longstring      str      \\nFour score and seven ye<...>r fathers brought forth. \n",
      "message         str      I don't know what I'm doing\n",
      "mixedlist       list     n=4\n",
      "numberlist      list     n=3\n",
      "randomlist      list     n=3\n",
      "s               str      12\n",
      "space           str       \n",
      "stringlist      list     n=3\n",
      "t               str      12.34\n",
      "temp            int      2\n",
      "test            int      16\n",
      "test_tuple      tuple    n=3\n",
      "total_payment   float    210.0\n",
      "variablelist    list     n=3\n",
      "w               int      11\n",
      "x               str      abc\n",
      "y               list     n=3\n",
      "z               float    0.6666666666666666\n"
     ]
    }
   ],
   "source": [
    "whos"
   ]
  },
  {
   "cell_type": "code",
   "execution_count": 51,
   "metadata": {},
   "outputs": [],
   "source": [
    "numberlist.append?\n",
    "\n"
   ]
  },
  {
   "cell_type": "code",
   "execution_count": 50,
   "metadata": {},
   "outputs": [
    {
     "name": "stdout",
     "output_type": "stream",
     "text": [
      "[328, 5, -3, 5, 5, 5, 7]\n"
     ]
    }
   ],
   "source": [
    "numberlist.append(7)\n",
    "\n",
    "print(numberlist)"
   ]
  },
  {
   "cell_type": "code",
   "execution_count": 52,
   "metadata": {
    "collapsed": true
   },
   "outputs": [],
   "source": [
    "first_name = \"Chase\""
   ]
  },
  {
   "cell_type": "code",
   "execution_count": 54,
   "metadata": {},
   "outputs": [
    {
     "data": {
      "text/plain": [
       "'chase'"
      ]
     },
     "execution_count": 54,
     "metadata": {},
     "output_type": "execute_result"
    }
   ],
   "source": [
    "first_name.lower()"
   ]
  },
  {
   "cell_type": "markdown",
   "metadata": {},
   "source": [
    "**Exercise.** This one also came up in our work. Suppose we have a variable z = '12,345.6'. What is its type? Convert it to a floating point number without the comma. Hint: Use tab completion to find a method to get rid of the comma."
   ]
  },
  {
   "cell_type": "markdown",
   "metadata": {},
   "source": [
    "**Excercise** Consider the following string `x = \"How many characters and words are in this string?\"`\n",
    "\n",
    "* How many characters does x contain?\n",
    "\n",
    "* Convert x to a list of individual characters.\n",
    "\n",
    "* Convert x to a list of individual words.\n",
    "\n",
    "* How many words does x contain?"
   ]
  },
  {
   "cell_type": "code",
   "execution_count": 99,
   "metadata": {
    "collapsed": true
   },
   "outputs": [],
   "source": [
    "x = \"How many characters and words are in this string?\""
   ]
  },
  {
   "cell_type": "code",
   "execution_count": 100,
   "metadata": {},
   "outputs": [
    {
     "name": "stdout",
     "output_type": "stream",
     "text": [
      "['H', 'o', 'w', ' ', 'm', 'a', 'n', 'y', ' ', 'c', 'h', 'a', 'r', 'a', 'c', 't', 'e', 'r', 's', ' ', 'a', 'n', 'd', ' ', 'w', 'o', 'r', 'd', 's', ' ', 'a', 'r', 'e', ' ', 'i', 'n', ' ', 't', 'h', 'i', 's', ' ', 's', 't', 'r', 'i', 'n', 'g', '?']\n"
     ]
    }
   ],
   "source": [
    "ind_char = list(x)\n",
    "print(ind_char)"
   ]
  },
  {
   "cell_type": "code",
   "execution_count": 101,
   "metadata": {
    "collapsed": true
   },
   "outputs": [],
   "source": [
    "ind_words = x.rsplit?"
   ]
  },
  {
   "cell_type": "code",
   "execution_count": null,
   "metadata": {
    "collapsed": true
   },
   "outputs": [],
   "source": [
    "ind_words = x.rsplit"
   ]
  },
  {
   "cell_type": "code",
   "execution_count": 102,
   "metadata": {},
   "outputs": [
    {
     "name": "stdout",
     "output_type": "stream",
     "text": [
      "['How', 'many', 'characters', 'and', 'words', 'are', 'in', 'this', 'string?'] 9\n"
     ]
    }
   ],
   "source": [
    "ind_words = x.rsplit()\n",
    "\n",
    "print(ind_words, len(ind_words))\n"
   ]
  },
  {
   "cell_type": "markdown",
   "metadata": {},
   "source": [
    "Now here is a question what is the difference between what I did above and what I'm doing below:"
   ]
  },
  {
   "cell_type": "code",
   "execution_count": 104,
   "metadata": {
    "collapsed": true
   },
   "outputs": [],
   "source": [
    "x = \"How many characters and words are in this string?\""
   ]
  },
  {
   "cell_type": "code",
   "execution_count": 105,
   "metadata": {},
   "outputs": [
    {
     "data": {
      "text/plain": [
       "['How', 'many', 'characters', 'and', 'words', 'are', 'in', 'this', 'string?']"
      ]
     },
     "execution_count": 105,
     "metadata": {},
     "output_type": "execute_result"
    }
   ],
   "source": [
    "x.rsplit()"
   ]
  },
  {
   "cell_type": "markdown",
   "metadata": {},
   "source": [
    "**Exercise (challenging)**. Use tab completion and the Object inspector to find and apply a method to the string name that counts the number of appearances of the letter s. Use name = 'Ulysses' as a test case."
   ]
  },
  {
   "cell_type": "code",
   "execution_count": 111,
   "metadata": {},
   "outputs": [
    {
     "data": {
      "text/plain": [
       "3"
      ]
     },
     "execution_count": 111,
     "metadata": {},
     "output_type": "execute_result"
    }
   ],
   "source": [
    "name = 'Ulysses'\n",
    "\n",
    "name.count(\"s\")"
   ]
  },
  {
   "cell_type": "markdown",
   "metadata": {},
   "source": [
    "Are their other ways of doing this????"
   ]
  },
  {
   "cell_type": "markdown",
   "metadata": {},
   "source": [
    "**Exercise (challenging)**. Describe the result of list(zip('1234','abcd'))"
   ]
  },
  {
   "cell_type": "code",
   "execution_count": 117,
   "metadata": {},
   "outputs": [],
   "source": [
    "zip_list = list(zip('1234','abcd'))"
   ]
  },
  {
   "cell_type": "code",
   "execution_count": 118,
   "metadata": {},
   "outputs": [
    {
     "data": {
      "text/plain": [
       "('2', 'b')"
      ]
     },
     "execution_count": 118,
     "metadata": {},
     "output_type": "execute_result"
    }
   ],
   "source": [
    "zip_list[1]"
   ]
  },
  {
   "cell_type": "code",
   "execution_count": null,
   "metadata": {
    "collapsed": true
   },
   "outputs": [],
   "source": []
  }
 ],
 "metadata": {
  "anaconda-cloud": {},
  "hide_input": false,
  "kernelspec": {
   "display_name": "Python [default]",
   "language": "python",
   "name": "python3"
  },
  "language_info": {
   "codemirror_mode": {
    "name": "ipython",
    "version": 3
   },
   "file_extension": ".py",
   "mimetype": "text/x-python",
   "name": "python",
   "nbconvert_exporter": "python",
   "pygments_lexer": "ipython3",
   "version": "3.5.2"
  }
 },
 "nbformat": 4,
 "nbformat_minor": 2
}
