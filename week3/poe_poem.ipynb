{
 "cells": [
  {
   "cell_type": "code",
   "execution_count": 1,
   "metadata": {
    "collapsed": true
   },
   "outputs": [],
   "source": [
    "poe_poem = \"\"\"For her this rhyme is penned, whose luminous eyes,\n",
    "Brightly expressive as the twins of Loeda.\n",
    "Shall find her own sweet name, that, nestling lies\n",
    "Upon, the page, enwrapped from every reader.\n",
    "Search narrowly the lines! — they hold a treasure\n",
    "Divine—a talisman—an amulet\n",
    "That must be worn at heart. Search well the measure\n",
    "The words—the syllables! Do not forget\n",
    "The trivialest point, or you may lose your labor!\n",
    "And yet there is in this no Gordian knot\n",
    "Which one might not undo without a saber,\n",
    "If one could merely comprehend the plot.\n",
    "Enwritten upon the leaf where now are peering\n",
    "Eyes scintillating soul, there lies perdus\n",
    "Three eloquent words oft uttered in the hearing\n",
    "Of poets, by poets as the name is a poet's, too.\n",
    "Its letters, although naturally lying\n",
    "Like the knight Pinto—Mendez Ferdinando\n",
    "Still form a synonym for Truth. Cease trying!\n",
    "You will not read the riddle, though you do the best you can do.\"\"\""
   ]
  },
  {
   "cell_type": "code",
   "execution_count": null,
   "metadata": {
    "collapsed": true
   },
   "outputs": [],
   "source": []
  }
 ],
 "metadata": {
  "anaconda-cloud": {},
  "hide_input": false,
  "kernelspec": {
   "display_name": "Python [default]",
   "language": "python",
   "name": "python3"
  },
  "language_info": {
   "codemirror_mode": {
    "name": "ipython",
    "version": 3
   },
   "file_extension": ".py",
   "mimetype": "text/x-python",
   "name": "python",
   "nbconvert_exporter": "python",
   "pygments_lexer": "ipython3",
   "version": "3.5.2"
  }
 },
 "nbformat": 4,
 "nbformat_minor": 2
}
