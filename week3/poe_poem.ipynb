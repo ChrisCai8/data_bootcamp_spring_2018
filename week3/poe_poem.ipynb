{
 "cells": [
  {
   "cell_type": "markdown",
   "metadata": {},
   "source": [
    "## Do you know what you are doing?...Happy Valentines Day!\n",
    "\n",
    "Challenge yourself with this exercise...below is the following Edgar Allen Poe poem. It is a Valentine poem secretly written to a specific woman who's name is hidden in the poem. Specifically, it is a [acrostic poem](https://en.wikipedia.org/wiki/Acrostic) where if you take from line number `x`, letter number `x`, and piece it together it will spell the name. So take the first letter from the first line, second letter from the second line...use Python to discover the secret.\n",
    "\n",
    "- Hint: Use a sting method to break the string into individual lines. Try `.splitlines`\n",
    "- Next hint...given a line how to you pull out the correct letter? Avoiding puctuation and spacing is an issue here."
   ]
  },
  {
   "cell_type": "code",
   "execution_count": 1,
   "metadata": {
    "collapsed": true
   },
   "outputs": [],
   "source": [
    "poe_poem = \"\"\"For her this rhyme is penned, whose luminous eyes,\n",
    "Brightly expressive as the twins of Loeda.\n",
    "Shall find her own sweet name, that, nestling lies\n",
    "Upon, the page, enwrapped from every reader.\n",
    "Search narrowly the lines! — they hold a treasure\n",
    "Divine—a talisman—an amulet\n",
    "That must be worn at heart. Search well the measure\n",
    "The words—the syllables! Do not forget\n",
    "The trivialest point, or you may lose your labor!\n",
    "And yet there is in this no Gordian knot\n",
    "Which one might not undo without a saber,\n",
    "If one could merely comprehend the plot.\n",
    "Enwritten upon the leaf where now are peering\n",
    "Eyes scintillating soul, there lies perdus\n",
    "Three eloquent words oft uttered in the hearing\n",
    "Of poets, by poets as the name is a poet's, too.\n",
    "Its letters, although naturally lying\n",
    "Like the knight Pinto—Mendez Ferdinando\n",
    "Still form a synonym for Truth. Cease trying!\n",
    "You will not read the riddle, though you do the best you can do.\"\"\""
   ]
  },
  {
   "cell_type": "code",
   "execution_count": 2,
   "metadata": {},
   "outputs": [
    {
     "data": {
      "text/plain": [
       "str"
      ]
     },
     "execution_count": 2,
     "metadata": {},
     "output_type": "execute_result"
    }
   ],
   "source": [
    "type(poe_poem)"
   ]
  },
  {
   "cell_type": "code",
   "execution_count": 3,
   "metadata": {},
   "outputs": [
    {
     "data": {
      "text/plain": [
       "\"For her this rhyme is penned, whose luminous eyes,\\nBrightly expressive as the twins of Loeda.\\nShall find her own sweet name, that, nestling lies\\nUpon, the page, enwrapped from every reader.\\nSearch narrowly the lines! — they hold a treasure\\nDivine—a talisman—an amulet\\nThat must be worn at heart. Search well the measure\\nThe words—the syllables! Do not forget\\nThe trivialest point, or you may lose your labor!\\nAnd yet there is in this no Gordian knot\\nWhich one might not undo without a saber,\\nIf one could merely comprehend the plot.\\nEnwritten upon the leaf where now are peering\\nEyes scintillating soul, there lies perdus\\nThree eloquent words oft uttered in the hearing\\nOf poets, by poets as the name is a poet's, too.\\nIts letters, although naturally lying\\nLike the knight Pinto—Mendez Ferdinando\\nStill form a synonym for Truth. Cease trying!\\nYou will not read the riddle, though you do the best you can do.\""
      ]
     },
     "execution_count": 3,
     "metadata": {},
     "output_type": "execute_result"
    }
   ],
   "source": [
    "poe_poem"
   ]
  },
  {
   "cell_type": "code",
   "execution_count": 4,
   "metadata": {
    "collapsed": true
   },
   "outputs": [],
   "source": [
    "poe_poem.splitlines?"
   ]
  },
  {
   "cell_type": "code",
   "execution_count": 5,
   "metadata": {
    "collapsed": true
   },
   "outputs": [],
   "source": [
    "poe = poe_poem.splitlines()"
   ]
  },
  {
   "cell_type": "code",
   "execution_count": 7,
   "metadata": {},
   "outputs": [
    {
     "data": {
      "text/plain": [
       "['For her this rhyme is penned, whose luminous eyes,',\n",
       " 'Brightly expressive as the twins of Loeda.',\n",
       " 'Shall find her own sweet name, that, nestling lies',\n",
       " 'Upon, the page, enwrapped from every reader.',\n",
       " 'Search narrowly the lines! — they hold a treasure',\n",
       " 'Divine—a talisman—an amulet',\n",
       " 'That must be worn at heart. Search well the measure',\n",
       " 'The words—the syllables! Do not forget',\n",
       " 'The trivialest point, or you may lose your labor!',\n",
       " 'And yet there is in this no Gordian knot',\n",
       " 'Which one might not undo without a saber,',\n",
       " 'If one could merely comprehend the plot.',\n",
       " 'Enwritten upon the leaf where now are peering',\n",
       " 'Eyes scintillating soul, there lies perdus',\n",
       " 'Three eloquent words oft uttered in the hearing',\n",
       " \"Of poets, by poets as the name is a poet's, too.\",\n",
       " 'Its letters, although naturally lying',\n",
       " 'Like the knight Pinto—Mendez Ferdinando',\n",
       " 'Still form a synonym for Truth. Cease trying!',\n",
       " 'You will not read the riddle, though you do the best you can do.']"
      ]
     },
     "execution_count": 7,
     "metadata": {},
     "output_type": "execute_result"
    }
   ],
   "source": [
    "poe"
   ]
  },
  {
   "cell_type": "code",
   "execution_count": 10,
   "metadata": {},
   "outputs": [
    {
     "data": {
      "text/plain": [
       "'You will not read the riddle, though you do the best you can do.'"
      ]
     },
     "execution_count": 10,
     "metadata": {},
     "output_type": "execute_result"
    }
   ],
   "source": [
    "poe[-1]"
   ]
  },
  {
   "cell_type": "code",
   "execution_count": 11,
   "metadata": {},
   "outputs": [
    {
     "name": "stdout",
     "output_type": "stream",
     "text": [
      "F\n",
      "r\n",
      "a\n",
      "n\n",
      "c\n",
      "e\n",
      "u\n",
      "d\n",
      "i\n",
      "h\n",
      "m\n",
      "d\n",
      "o\n",
      "a\n",
      " \n",
      "e\n",
      "h\n",
      "i\n",
      "y\n",
      "h\n"
     ]
    }
   ],
   "source": [
    "count = 0\n",
    "\n",
    "for item in poe:\n",
    "    \n",
    "    print(item[count])\n",
    "    \n",
    "    count = count + 1"
   ]
  },
  {
   "cell_type": "code",
   "execution_count": null,
   "metadata": {
    "collapsed": true
   },
   "outputs": [],
   "source": []
  }
 ],
 "metadata": {
  "anaconda-cloud": {},
  "hide_input": false,
  "kernelspec": {
   "display_name": "Python 3",
   "language": "python",
   "name": "python3"
  },
  "language_info": {
   "codemirror_mode": {
    "name": "ipython",
    "version": 3
   },
   "file_extension": ".py",
   "mimetype": "text/x-python",
   "name": "python",
   "nbconvert_exporter": "python",
   "pygments_lexer": "ipython3",
   "version": "3.6.3"
  }
 },
 "nbformat": 4,
 "nbformat_minor": 2
}
