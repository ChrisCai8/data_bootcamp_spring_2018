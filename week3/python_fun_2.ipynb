{
 "cells": [
  {
   "cell_type": "markdown",
   "metadata": {},
   "source": [
    "## Python Fundamentals 2\n",
    "\n",
    "**Great Work!** We have made it this far...we know some basic calculations, types, data structures (lists, tuples, strings), methods and attributes associated with objects, we also know how to get help `?` and `tab` completion. Finally, we should be getting comfortable with the notebook and markdown.\n",
    "\n",
    "Where are we going know...we will look at one more data structure (this will help us practice too), then get into some key operations: Comparisons, IF then conditional operations, For loops. "
   ]
  },
  {
   "cell_type": "markdown",
   "metadata": {},
   "source": [
    "### Dictionaries\n",
    "\n",
    "Dictionaries are (unordered) pairs of things defined by curly brackets {}, separated by commas, with the items in each pair separated by colon. I actually use them a fair amount of time for several reasons: One they are great for creating (small) table like datasets that can be converted to a DataFrame. Second, they are great for converting some value in your data. In one example, I had a dataset that had education catagorized by a string like `[\"primary\", \"secondary\"]` and I wanted to covert it into years of schooling. So I used a dictionary that mapped the words into years. \n",
    "\n",
    "For example, here is a list of first and last names:"
   ]
  },
  {
   "cell_type": "code",
   "execution_count": 11,
   "metadata": {
    "collapsed": true
   },
   "outputs": [],
   "source": [
    "names = {'Dave': 'Backus', 'Chase': 'Coleman', 'Spencer': 'Lyon', 'Glenn': 'Okun'}"
   ]
  },
  {
   "cell_type": "code",
   "execution_count": 12,
   "metadata": {},
   "outputs": [
    {
     "name": "stdout",
     "output_type": "stream",
     "text": [
      "{'Chase': 'Coleman', 'Glenn': 'Okun', 'Spencer': 'Lyon', 'Dave': 'Backus'}\n"
     ]
    }
   ],
   "source": [
    "print(names)"
   ]
  },
  {
   "cell_type": "code",
   "execution_count": 13,
   "metadata": {},
   "outputs": [
    {
     "data": {
      "text/plain": [
       "'Backus'"
      ]
     },
     "execution_count": 13,
     "metadata": {},
     "output_type": "execute_result"
    }
   ],
   "source": [
    "names[\"Dave\"]"
   ]
  },
  {
   "cell_type": "markdown",
   "metadata": {},
   "source": [
    "What about this..."
   ]
  },
  {
   "cell_type": "code",
   "execution_count": 14,
   "metadata": {},
   "outputs": [
    {
     "ename": "KeyError",
     "evalue": "'Backus'",
     "output_type": "error",
     "traceback": [
      "\u001b[0;31m---------------------------------------------------------------------------\u001b[0m",
      "\u001b[0;31mKeyError\u001b[0m                                  Traceback (most recent call last)",
      "\u001b[0;32m<ipython-input-14-a7c26dcd5386>\u001b[0m in \u001b[0;36m<module>\u001b[0;34m()\u001b[0m\n\u001b[0;32m----> 1\u001b[0;31m \u001b[0mnames\u001b[0m\u001b[1;33m[\u001b[0m\u001b[1;34m\"Backus\"\u001b[0m\u001b[1;33m]\u001b[0m\u001b[1;33m\u001b[0m\u001b[0m\n\u001b[0m",
      "\u001b[0;31mKeyError\u001b[0m: 'Backus'"
     ]
    }
   ],
   "source": [
    "names[\"Backus\"]"
   ]
  },
  {
   "cell_type": "markdown",
   "metadata": {},
   "source": [
    "What happend here... we can't go from values to keys with a dictionary. The main idea is a dictionary is a one-to-many data structure. That means we must have unique keys (this is the one part)...but different keys can have the same value (this is the many part). This implies that going backwards from values to keys is not possible. "
   ]
  },
  {
   "cell_type": "markdown",
   "metadata": {},
   "source": [
    "**Exercise.** Print names. Does it come out in the same order we typed it?\n"
   ]
  },
  {
   "cell_type": "markdown",
   "metadata": {},
   "source": [
    "**Exercise.** Construct a dictionary whose keys are the integers 1, 2, and 3 and whose values are the same numbers as words: one, two, three. How would you get the word associated with the key 2?"
   ]
  },
  {
   "cell_type": "markdown",
   "metadata": {},
   "source": [
    "**Exercise.** Enter the code\n",
    "\n",
    "```\n",
    "d = {'Donald': 'Duck', 'Mickey': 'Mouse', 'Donald': 'Trump'}\n",
    "\n",
    "print(d)\n",
    "```\n",
    "\n",
    "What happened?"
   ]
  },
  {
   "cell_type": "markdown",
   "metadata": {},
   "source": [
    "Exercise. Describe -- and explain if possible -- the output of these statements:\n",
    "\n",
    "* list(names)?\n",
    "\n",
    "* names.keys()?\n",
    "\n",
    "* list(names.keys())?\n",
    "\n",
    "* names.values()?"
   ]
  },
  {
   "cell_type": "markdown",
   "metadata": {},
   "source": [
    "Exercise. Consider the dictionary\n",
    "\n",
    "```\n",
    "data = {'Year': [1990, 2000, 2010], 'GDP':  [8.95, 12.56, 14.78]}\n",
    "\n",
    "```\n",
    "\n",
    "What are the keys here? The values? What do you think this dictionary represents?"
   ]
  },
  {
   "cell_type": "markdown",
   "metadata": {
    "collapsed": true
   },
   "source": [
    "### Boolean Operations\n",
    "\n",
    "Basic idea, make a comparison and the result is a `true` or `false` value. We call these bools..."
   ]
  },
  {
   "cell_type": "code",
   "execution_count": null,
   "metadata": {
    "collapsed": true
   },
   "outputs": [],
   "source": [
    "test = 1 < 0 # This is a comparsition, value 1 versus zero....\n",
    "print(test) # What does it return a True or False value...\n",
    "print(type(test)) "
   ]
  },
  {
   "cell_type": "markdown",
   "metadata": {},
   "source": [
    "**KEY** Note the the type, its a bool or short for Boolean.\n",
    "\n",
    "Here are some more operations...bool's can be combined with integers and floats..."
   ]
  },
  {
   "cell_type": "code",
   "execution_count": 19,
   "metadata": {},
   "outputs": [
    {
     "name": "stdout",
     "output_type": "stream",
     "text": [
      "0\n",
      "True\n"
     ]
    }
   ],
   "source": [
    "print(2*test)\n",
    "\n",
    "# Now what if we had 1 < 0 above, what would the command return... note that it will\n",
    "# give a zero... so what is going on here is implicitly with a True is the value 1\n",
    "# and associated with the value False is a zero (note how in the background there is\n",
    "# probably a dictionary doing this....)\n",
    "\n",
    "\n",
    "\n",
    "test1 = 0.666666666666666666 # This is interesing, when are they equall...\n",
    "test2 = 2/3\n",
    "print(test1 == test2)"
   ]
  },
  {
   "cell_type": "markdown",
   "metadata": {},
   "source": [
    "Some more operations... == is equal, >= greater than or equals, <= less than\n",
    "or equals, != not equals. Keep these in mind. There are also other ways to take the oppisite value by using the `not` built-in"
   ]
  },
  {
   "cell_type": "code",
   "execution_count": 21,
   "metadata": {},
   "outputs": [
    {
     "name": "stdout",
     "output_type": "stream",
     "text": [
      "False\n",
      "x greater than y is False\n"
     ]
    }
   ],
   "source": [
    "test = not 1 > 0 # this is not whatever 1 > 0 is, so not True which is FALSE\n",
    "print(test)\n"
   ]
  },
  {
   "cell_type": "markdown",
   "metadata": {},
   "source": [
    "Then notice what happens when we print a statement..."
   ]
  },
  {
   "cell_type": "code",
   "execution_count": 22,
   "metadata": {},
   "outputs": [
    {
     "name": "stdout",
     "output_type": "stream",
     "text": [
      "x greater than y is False\n"
     ]
    }
   ],
   "source": [
    "x = 2*3\n",
    "y = 2**3\n",
    "print('x greater than y is', x > y)"
   ]
  },
  {
   "cell_type": "markdown",
   "metadata": {},
   "source": [
    "**Exercise.** What is 2 >= 1? 2 >= 2? not 2 >= 1? If you're not sure, \n",
    "try them in the IPython console and see what you get."
   ]
  },
  {
   "cell_type": "markdown",
   "metadata": {},
   "source": [
    "**Exercise.** What is\n",
    "```\n",
    "print(2 + 2 == 4) \n",
    "\n",
    "print(1 + 3 != 4) \n",
    "```\n",
    "\n",
    "Explain what is going on here...."
   ]
  },
  {
   "cell_type": "code",
   "execution_count": 24,
   "metadata": {},
   "outputs": [
    {
     "name": "stdout",
     "output_type": "stream",
     "text": [
      "True\n",
      "False\n"
     ]
    }
   ],
   "source": [
    "print(2 + 2 == 4) \n",
    "\n",
    "print(1 + 3 != 4) "
   ]
  },
  {
   "cell_type": "markdown",
   "metadata": {},
   "source": [
    "**Exercise** What is \n",
    "```\n",
    "print(\"sarah\" == 'Sarah')\n",
    "```"
   ]
  },
  {
   "cell_type": "code",
   "execution_count": 23,
   "metadata": {},
   "outputs": [
    {
     "name": "stdout",
     "output_type": "stream",
     "text": [
      "False\n"
     ]
    }
   ],
   "source": [
    "print(\"sarah\" == 'Sarah')"
   ]
  },
  {
   "cell_type": "markdown",
   "metadata": {},
   "source": [
    "Exercise. What do these comparisons do? Are they true or false? Why?"
   ]
  },
  {
   "cell_type": "code",
   "execution_count": 26,
   "metadata": {},
   "outputs": [
    {
     "name": "stdout",
     "output_type": "stream",
     "text": [
      "True\n",
      "False\n",
      "True\n"
     ]
    }
   ],
   "source": [
    "print(type('Sarah') == str) # IS it a string? YES!!! \n",
    "print(type('Sarah') == int) # IS it an integer??? NO!\n",
    "print(len('Sarah') >= 3) # Is the length longer than three? YES!"
   ]
  },
  {
   "cell_type": "code",
   "execution_count": 30,
   "metadata": {},
   "outputs": [
    {
     "name": "stdout",
     "output_type": "stream",
     "text": [
      "Is Chase > Spencer  False\n"
     ]
    }
   ],
   "source": [
    "name1 = 'Chase'\n",
    "name2 = 'Spencer'\n",
    "check =  name1 > name2\n",
    "print(\"Is Chase > Spencer \",check) #hmmmm...."
   ]
  },
  {
   "cell_type": "markdown",
   "metadata": {},
   "source": [
    "https://stackoverflow.com/questions/4806911/string-comparison-technique-used-by-python\n",
    "\n",
    "Here is the quick run down, this does this thing in lexicographic ordering... this means: First the first two items are compared, and if they differ this determines the outcome of the comparison; if they are equal, the next two items are compared,\n",
    "and so on, until either sequence is exhausted. What determines the order...in this case note that \"S\" comes **later** in the alphabet than \"C\" thus is has a larger \"value\", thus \"Chase > Spencer\" is false.\n",
    "\n",
    "When comparing uppercase vs. lower case, uppercase come before lower case...The stuff like ```*&``` come before. How do I know exactly what is going on... here is a link to the unicode point ordering\n",
    "\n",
    "https://en.wikipedia.org/wiki/List_of_Unicode_characters\n",
    "\n",
    "And scroll down to the Latin Script /Basic Latin table there. There there is a number for each possible character. To see the number just type `ord(\"z\")` and note how this should give back the value 122 and then look in the table it should have the value 122. In the comparison above, what it is doing is taking the number in this table for the given character and then comparing it to the number for the other character. "
   ]
  },
  {
   "cell_type": "code",
   "execution_count": 31,
   "metadata": {},
   "outputs": [
    {
     "data": {
      "text/plain": [
       "True"
      ]
     },
     "execution_count": 31,
     "metadata": {},
     "output_type": "execute_result"
    }
   ],
   "source": [
    "\"z\" > \"a\""
   ]
  },
  {
   "cell_type": "code",
   "execution_count": 35,
   "metadata": {},
   "outputs": [
    {
     "data": {
      "text/plain": [
       "33"
      ]
     },
     "execution_count": 35,
     "metadata": {},
     "output_type": "execute_result"
    }
   ],
   "source": [
    "ord(\"!\")"
   ]
  },
  {
   "cell_type": "markdown",
   "metadata": {},
   "source": [
    "## Conditional (If/then)\n",
    "\n",
    "Now that we know how to tell whether a comparison is true or false, we can build that into our code. \"Conditional\" statements allow us to do different things depending on the result of a comparison or Boolean variable, which we refer to as a condition. The logic looks like this:\n",
    "\n",
    "* if a condition is true, then do something.\n",
    "\n",
    "* if a conditions is false, do something else (or do nothing)."
   ]
  },
  {
   "cell_type": "code",
   "execution_count": 36,
   "metadata": {},
   "outputs": [
    {
     "name": "stdout",
     "output_type": "stream",
     "text": [
      "1 is greater than 0\n",
      "test\n"
     ]
    }
   ],
   "source": [
    "if 1 > 0: # this statment checks the value, then IF TRUE it advances to the next line\n",
    "    print(\"1 is greater than 0\") # here where it prints the value\n",
    "    print(\"test\")"
   ]
  },
  {
   "cell_type": "markdown",
   "metadata": {},
   "source": [
    "Key issue, an if must always be followed by : and then the next line or lines associated with the if statement must be indicated by 4 spaces. ONLY 4 spaces, Jupyter will do this automatically....there is also some kind of debate about spaces or tabs...here is some interesting info if you need to choose:\n",
    "\n",
    "https://stackoverflow.blog/2017/06/15/developers-use-spaces-make-money-use-tabs/"
   ]
  },
  {
   "cell_type": "code",
   "execution_count": 38,
   "metadata": {},
   "outputs": [
    {
     "name": "stdout",
     "output_type": "stream",
     "text": [
      "Done!\n"
     ]
    }
   ],
   "source": [
    " x = 5               # we can change this later and see what happens\n",
    "\n",
    "if x > 6:\n",
    "    print('x =', x)\n",
    "\n",
    "print('Done!')"
   ]
  },
  {
   "cell_type": "code",
   "execution_count": 39,
   "metadata": {},
   "outputs": [
    {
     "name": "stdout",
     "output_type": "stream",
     "text": [
      "if branch\n",
      "True\n"
     ]
    }
   ],
   "source": [
    "x = 7\n",
    "\n",
    "condition = x > 6\n",
    "\n",
    "if condition:\n",
    "    print('if branch')             # do if true\n",
    "    print(condition)\n",
    "else:\n",
    "    print('else branch')           # do if false\n",
    "    print(condition)"
   ]
  },
  {
   "cell_type": "markdown",
   "metadata": {},
   "source": [
    "**Exercise.** Take the names name1 and name2, both of them strings. Write a program using if and else that prints the name that comes first in alphabetical order.  Test your program with name1 = 'Dave' and name2 = 'Glenn'."
   ]
  },
  {
   "cell_type": "code",
   "execution_count": 47,
   "metadata": {},
   "outputs": [
    {
     "name": "stdout",
     "output_type": "stream",
     "text": [
      "Glenn\n"
     ]
    }
   ],
   "source": [
    "name1 = \"dave\" # make Dave dave, how to we fix the puctuation...\n",
    "name2 = \"Glenn\"\n",
    "\n",
    "if name1 < name2:\n",
    "    print(name1)\n",
    "else:\n",
    "    print(name2)\n"
   ]
  },
  {
   "cell_type": "markdown",
   "metadata": {},
   "source": [
    "**Exercise** Make it insensitive to capitalization..."
   ]
  },
  {
   "cell_type": "markdown",
   "metadata": {
    "collapsed": true
   },
   "source": [
    "### Slicing\n",
    "\n",
    "This is an important to be confortable with. When we start to work with Pandas (the data package), slicing will be a key skill to \"slice\" the data in the way that we want. For now we will work with strings and lists\n"
   ]
  },
  {
   "cell_type": "code",
   "execution_count": 1,
   "metadata": {},
   "outputs": [
    {
     "name": "stdout",
     "output_type": "stream",
     "text": [
      "['s', 'o', 'm']\n"
     ]
    }
   ],
   "source": [
    "a = \"some\"\n",
    "print([a[0], a[1], a[2]])\n",
    "\n",
    "# Note how it is treating the string just like a list (remember python starts from 0)\n",
    "# so we are calling each individual character...\n"
   ]
  },
  {
   "cell_type": "code",
   "execution_count": 2,
   "metadata": {},
   "outputs": [
    {
     "ename": "TypeError",
     "evalue": "'str' object does not support item assignment",
     "output_type": "error",
     "traceback": [
      "\u001b[0;31m---------------------------------------------------------------------------\u001b[0m",
      "\u001b[0;31mTypeError\u001b[0m                                 Traceback (most recent call last)",
      "\u001b[0;32m<ipython-input-2-a0a8c9cfa4ff>\u001b[0m in \u001b[0;36m<module>\u001b[0;34m()\u001b[0m\n\u001b[0;32m----> 1\u001b[0;31m \u001b[0ma\u001b[0m\u001b[1;33m[\u001b[0m\u001b[1;36m1\u001b[0m\u001b[1;33m]\u001b[0m \u001b[1;33m=\u001b[0m \u001b[1;34m\"*\"\u001b[0m  \u001b[1;31m# can we re-assgin? # no...its like a tuple where the object is immutable.\u001b[0m\u001b[1;33m\u001b[0m\u001b[0m\n\u001b[0m\u001b[1;32m      2\u001b[0m \u001b[0mprint\u001b[0m\u001b[1;33m(\u001b[0m\u001b[0ma\u001b[0m\u001b[1;33m)\u001b[0m\u001b[1;33m\u001b[0m\u001b[0m\n",
      "\u001b[0;31mTypeError\u001b[0m: 'str' object does not support item assignment"
     ]
    }
   ],
   "source": [
    "a[1] = \"*\"  # can we re-assgin? # no...its like a tuple where the object is immutable.\n",
    "print(a)"
   ]
  },
  {
   "cell_type": "markdown",
   "metadata": {},
   "source": [
    "One of the interesting things about this is that there are both a **forward** counter and a **backward** counter. Here is an example:"
   ]
  },
  {
   "cell_type": "code",
   "execution_count": 4,
   "metadata": {
    "scrolled": true
   },
   "outputs": [
    {
     "name": "stdout",
     "output_type": "stream",
     "text": [
      "o\n"
     ]
    }
   ],
   "source": [
    "print(a[-3]) # this should give an o, so 0 is s, -1 is e, -2, is m...\n",
    "#print(a[-400]) # But it will not do this infinitly, it will do this untill it returns\n",
    "# back to s or -4,  "
   ]
  },
  {
   "cell_type": "markdown",
   "metadata": {},
   "source": [
    "**Exercise** Take the string firstname = 'Monty' and write below it the forward and backward \n",
    "counting conventions. What integer would you put in square brackets to extract \n",
    "the third letter (n) under each system?"
   ]
  },
  {
   "cell_type": "markdown",
   "metadata": {},
   "source": [
    "**Exercise.** Find the last letter of the string lastname = 'Python'. Find the second \n",
    "to last letter using both the forward and backward counting conventions."
   ]
  },
  {
   "cell_type": "markdown",
   "metadata": {},
   "source": [
    "**Exercise.** Take the list numberlist = [1, 5, -3]. Use slicing to set a variable \n",
    "first equal to the first item. Set another variable last equal to the last item. Set a third variable named middle equal to the middle item."
   ]
  },
  {
   "cell_type": "markdown",
   "metadata": {},
   "source": [
    "Now how do we pull groups of objects out of a data structure. We use the `:` operator. What this does is when we have say `[0:2]` this will pull out the first element AND everything after it NOT including the object in the second position. That is the value after the colon is not included. LEts see this..."
   ]
  },
  {
   "cell_type": "code",
   "execution_count": 6,
   "metadata": {},
   "outputs": [
    {
     "name": "stdout",
     "output_type": "stream",
     "text": [
      "c[1] is o\n",
      "c[1:2] is o\n",
      "c[1:3] is om\n",
      "c[1:] is omething\n",
      "c[1:-1] is omethin\n"
     ]
    }
   ],
   "source": [
    "c = 'something'\n",
    "\n",
    "print('c[1] is', c[1]) # We know this...\n",
    "print('c[1:2] is', c[1:2]) # This says take between 1 and 2 NOT including 2 (so same as above)\n",
    "print('c[1:3] is', c[1:3]) # This says take between 1 and 3 NOT including 3\n",
    "print('c[1:] is', c[1:]) # This says give from postion 1 onward so omething...if -1?\n",
    "print('c[1:-1] is', c[1:-1]) # This works, again, from postion 1 and -1 NOT including -1, so oemthin"
   ]
  },
  {
   "cell_type": "markdown",
   "metadata": {},
   "source": [
    "**Exercise.** Set lastname = 'Python'. Extract the string 'thon'."
   ]
  },
  {
   "cell_type": "markdown",
   "metadata": {},
   "source": [
    "**Exercise.** Set numlist = [1, 7, 4, 3]. Extract the middle two items and assign \n",
    "them to the variable middle. "
   ]
  },
  {
   "cell_type": "markdown",
   "metadata": {},
   "source": [
    "**Exercise.**\n",
    "\n",
    "- Extract all but the first item and assign them to the variable allbutfirst. \n",
    "\n",
    "- Extract all but the last item and assign them to the variable allbutlast."
   ]
  },
  {
   "cell_type": "markdown",
   "metadata": {},
   "source": [
    "**For LOOP** As with the conditional operation, this is a key skill. In particular, it allows for us to scale up the number of operations without having to constantly write code to perform each one. \n",
    "\n",
    "The book has some examples, but let me suggest one that I see all the time...suppose you have bunch of datasets. How to you read them in. Use a for loop. So you create a list of the names of the data sets, then you work through the list and read each one it. What the for loop allowed you to do is for a small change in your code you have scaled your operation by however much."
   ]
  },
  {
   "cell_type": "code",
   "execution_count": null,
   "metadata": {
    "collapsed": true
   },
   "outputs": [],
   "source": [
    "namelist = ['Chase', 'Dave', 'Sarah', 'Spencer']    # creates the list \"namelist\"\n",
    "# below, the word \"item\" is arbitrary. End the line with a colon.\n",
    "\n",
    "for item in namelist:    # goes through the items in the list one at a time\n",
    "   print(item)    # indent this line exactly 4 spaces\n",
    "# if there is code after this, we'd typically leave a blank line in-between"
   ]
  },
  {
   "cell_type": "markdown",
   "metadata": {},
   "source": [
    "One thing to notice were what is `item` its a place holder. The specific name `item` has no attachment to anything, all it says is that as it works through each object in the list, its temporary name will be `item`. Here, try this change `item` to `bloob` and see what happens.\n",
    "\n",
    "Here is a numerical calculation...this is common in scientific computing..."
   ]
  },
  {
   "cell_type": "code",
   "execution_count": 8,
   "metadata": {},
   "outputs": [
    {
     "name": "stdout",
     "output_type": "stream",
     "text": [
      "7\n"
     ]
    }
   ],
   "source": [
    "numlist = [4, -2, 5]\n",
    "total = 0\n",
    "\n",
    "for num in numlist:\n",
    "    total = total + num\n",
    "\n",
    "print(total)"
   ]
  },
  {
   "cell_type": "markdown",
   "metadata": {},
   "source": [
    "Now here is a string. "
   ]
  },
  {
   "cell_type": "code",
   "execution_count": null,
   "metadata": {
    "collapsed": true
   },
   "outputs": [],
   "source": [
    "word   = 'anything'\n",
    "for letter in word:\n",
    "    \n",
    "    print(letter)"
   ]
  },
  {
   "cell_type": "markdown",
   "metadata": {},
   "source": [
    "Note how general this is. The key issue is that as long as the for loop is over an \"itteratable\" object, then this this will work. Ask your self, what itterable objects do we know.\n",
    "\n",
    "Now this example below combines the for loop and a conditional"
   ]
  },
  {
   "cell_type": "code",
   "execution_count": 9,
   "metadata": {},
   "outputs": [
    {
     "name": "stdout",
     "output_type": "stream",
     "text": [
      "a\n",
      "y\n",
      "i\n"
     ]
    }
   ],
   "source": [
    "vowels = 'aeiouy'\n",
    "word   = 'anything'\n",
    "\n",
    "for letter in word:\n",
    "    \n",
    "    if letter in vowels:\n",
    "        \n",
    "        print(letter)"
   ]
  },
  {
   "cell_type": "markdown",
   "metadata": {},
   "source": [
    "**Exercise.** Take the list `stuff = ['cat', 3.7, 5, 'dog']`.\n",
    "\n",
    "- Write a program that prints the elements of stuff.\n",
    "- Write a program that tells us the type of each element of stuff.\n",
    "- Challenging. Write a program that goes through the elements of stuff and prints only the elements that are strings; that is, the print the elements where function type returns the value str."
   ]
  },
  {
   "cell_type": "markdown",
   "metadata": {},
   "source": [
    "**Exercise** Consider the dictionary `names = {'Dave': 'Backus', 'Chase': 'Coleman', 'Spencer': 'Lyon', 'Glenn': 'Okun'}` how can we itterate over the keys and print out the values?"
   ]
  },
  {
   "cell_type": "code",
   "execution_count": 20,
   "metadata": {},
   "outputs": [
    {
     "name": "stdout",
     "output_type": "stream",
     "text": [
      "Dave Backus\n",
      "Chase Coleman\n",
      "Glenn Okun\n",
      "Spencer Lyon\n"
     ]
    }
   ],
   "source": [
    "names = {'Dave': 'Backus', 'Chase': 'Coleman', 'Spencer': 'Lyon', 'Glenn': 'Okun'}\n",
    "\n",
    "name_keys = list(names.keys())\n",
    "\n",
    "for item in names:\n",
    "    \n",
    "    print(item, names[item])\n"
   ]
  },
  {
   "cell_type": "markdown",
   "metadata": {},
   "source": [
    "**Exercise.** Consider the list `namelist = ['Chase', 'Dave', 'Sarah', 'Spencer']`. \n",
    "\n",
    "Write a loop that goes through the list until it reaches a name than begins with the letter S. At that point it prints the names and exits the loop."
   ]
  },
  {
   "cell_type": "markdown",
   "metadata": {},
   "source": [
    "### Loops over Ranges\n",
    "\n",
    "I think this is less important in data work. We neeed to know it though, so lets work through it. The firs thing to lean is the type `range`"
   ]
  },
  {
   "cell_type": "code",
   "execution_count": 21,
   "metadata": {
    "collapsed": true
   },
   "outputs": [],
   "source": [
    "range?"
   ]
  },
  {
   "cell_type": "code",
   "execution_count": 27,
   "metadata": {
    "collapsed": true
   },
   "outputs": [],
   "source": [
    "my_first_range = range(0,10,2)"
   ]
  },
  {
   "cell_type": "code",
   "execution_count": 28,
   "metadata": {},
   "outputs": [
    {
     "data": {
      "text/plain": [
       "range"
      ]
     },
     "execution_count": 28,
     "metadata": {},
     "output_type": "execute_result"
    }
   ],
   "source": [
    "type(my_first_range)"
   ]
  },
  {
   "cell_type": "code",
   "execution_count": 29,
   "metadata": {},
   "outputs": [
    {
     "name": "stdout",
     "output_type": "stream",
     "text": [
      "[0, 2, 4, 6, 8]\n"
     ]
    }
   ],
   "source": [
    "print(list(my_first_range))"
   ]
  },
  {
   "cell_type": "code",
   "execution_count": 31,
   "metadata": {},
   "outputs": [
    {
     "name": "stdout",
     "output_type": "stream",
     "text": [
      "1\n",
      "3\n"
     ]
    }
   ],
   "source": [
    "for number in range(1,5,2):     # the variable \"number\" can be anything\n",
    "    \n",
    "    print(number)"
   ]
  },
  {
   "cell_type": "code",
   "execution_count": 32,
   "metadata": {},
   "outputs": [
    {
     "name": "stdout",
     "output_type": "stream",
     "text": [
      "Number and its square: 1 1\n",
      "Number and its square: 2 4\n",
      "Number and its square: 3 9\n",
      "Number and its square: 4 16\n",
      "Number and its square: 5 25\n",
      "Number and its square: 6 36\n",
      "Number and its square: 7 49\n",
      "Number and its square: 8 64\n",
      "Number and its square: 9 81\n",
      "Number and its square: 10 100\n"
     ]
    }
   ],
   "source": [
    "for number in range(1, 11):\n",
    "    square = number**2\n",
    "    \n",
    "    print('Number and its square:', number, square)"
   ]
  },
  {
   "cell_type": "markdown",
   "metadata": {},
   "source": [
    "### List Comprehension\n",
    "\n",
    "Basic idea we can create **lists** using implicit loops that we refer to as list comprehensions. This is incredibly useful and shows up a lot in Python code. \n",
    "\n",
    "Lets first remind our selves what a loop is doing"
   ]
  },
  {
   "cell_type": "code",
   "execution_count": 34,
   "metadata": {},
   "outputs": [
    {
     "name": "stdout",
     "output_type": "stream",
     "text": [
      "Chase\n",
      "Dave\n",
      "Sarah\n",
      "Spencer\n"
     ]
    }
   ],
   "source": [
    "namelist = ['Chase', 'Dave', 'Sarah', 'Spencer']\n",
    "for item in namelist:\n",
    "    \n",
    "    print(item)"
   ]
  },
  {
   "cell_type": "code",
   "execution_count": 35,
   "metadata": {},
   "outputs": [
    {
     "name": "stdout",
     "output_type": "stream",
     "text": [
      "Chase\n",
      "Dave\n",
      "Sarah\n",
      "Spencer\n"
     ]
    },
    {
     "data": {
      "text/plain": [
       "[None, None, None, None]"
      ]
     },
     "execution_count": 35,
     "metadata": {},
     "output_type": "execute_result"
    }
   ],
   "source": [
    "[print(item) for item in namelist]"
   ]
  },
  {
   "cell_type": "markdown",
   "metadata": {},
   "source": [
    "Notices what this is doing:\n",
    "- First there are the square brackets, this means we are creating a NEW LIST\n",
    "- then after the operation on the \"item\" we describe the for operation, so do \"x\" on \"x\" in the list\n",
    "\n",
    "Lets see some examples:"
   ]
  },
  {
   "cell_type": "code",
   "execution_count": 38,
   "metadata": {},
   "outputs": [
    {
     "name": "stdout",
     "output_type": "stream",
     "text": [
      "['APPLE', 'BANANA', 'CLEMENTINE']\n"
     ]
    }
   ],
   "source": [
    "fruit = ['apple', 'banana', 'clementine'] # A list...\n",
    "\n",
    "FRUIT = [item.upper() for item in fruit] \n",
    "\n",
    "print(FRUIT)"
   ]
  },
  {
   "cell_type": "markdown",
   "metadata": {},
   "source": [
    "We can also apply conditions within list comprehensions"
   ]
  },
  {
   "cell_type": "code",
   "execution_count": 39,
   "metadata": {
    "collapsed": true
   },
   "outputs": [],
   "source": [
    "fruit6 = [item for item in fruit if len(item)<=6]"
   ]
  },
  {
   "cell_type": "code",
   "execution_count": 40,
   "metadata": {},
   "outputs": [
    {
     "data": {
      "text/plain": [
       "['apple', 'banana']"
      ]
     },
     "execution_count": 40,
     "metadata": {},
     "output_type": "execute_result"
    }
   ],
   "source": [
    "fruit6"
   ]
  },
  {
   "cell_type": "markdown",
   "metadata": {},
   "source": [
    "**Exercise.** Take the list fruit and create a new list with the first letter capitalized. Hint: What method would you use to capitalize a string?\n",
    "\n",
    "**Exercise.** Take the list of growth rates g = [0.02, 0.07, 0.07]. Write a list comprehension that multiplies each element by 100 to turn it into a percentage.\n",
    "\n",
    "**Exercise.** Take the mixed type list `[True, \"2\", 3.0, 4]` and create a new list of the associated types. "
   ]
  },
  {
   "cell_type": "markdown",
   "metadata": {
    "collapsed": true
   },
   "source": [
    "### Functions\n",
    "\n",
    "The key idea here is that rather than repeating the same lines of code over and over again. We can create a function that performs some distinct operation. This is a good strategy for a lot of reasons, (i) efficient in terms of writing code (ii) it facilitates easy to read code (iii) avoids any debuging issue that may arise when you have to modify multiple lines of code in the same exact way (just change the code in the function). Finally, it will give us insight to what is behind various packages that we will be using in the future...what are they just a collection of functions!"
   ]
  },
  {
   "cell_type": "code",
   "execution_count": 6,
   "metadata": {
    "collapsed": true,
    "scrolled": true
   },
   "outputs": [],
   "source": [
    "def hello(firstname):               # define the function\n",
    "    print('Hello,', firstname)\n",
    "      "
   ]
  },
  {
   "cell_type": "markdown",
   "metadata": {},
   "source": [
    "A couple of things:\n",
    " \n",
    " - Similar syntax to for loops, if statements. Here we start with def (short for definition), then we create the name of the function and then any inputs...\n",
    " \n",
    " - Four spaces for all operations preformed by the function. If it does not have four spaces, it is not recognized as part of the function.\n",
    " \n",
    "One more thing. We have only have to run this code cell once. Once we do so the function is in the namespace and is good to go.\n",
    " "
   ]
  },
  {
   "cell_type": "code",
   "execution_count": 2,
   "metadata": {},
   "outputs": [
    {
     "name": "stdout",
     "output_type": "stream",
     "text": [
      "Hello, Chase\n"
     ]
    }
   ],
   "source": [
    "hello('Chase')   "
   ]
  },
  {
   "cell_type": "code",
   "execution_count": 5,
   "metadata": {},
   "outputs": [
    {
     "name": "stdout",
     "output_type": "stream",
     "text": [
      "Hello, [1, 2, 3]\n"
     ]
    }
   ],
   "source": [
    "hello([1,2,3])"
   ]
  },
  {
   "cell_type": "code",
   "execution_count": 7,
   "metadata": {
    "scrolled": true
   },
   "outputs": [
    {
     "name": "stdout",
     "output_type": "stream",
     "text": [
      "Variable   Type        Data/Info\n",
      "--------------------------------\n",
      "hello      function    <function hello at 0x0000008DE1CFC378>\n"
     ]
    }
   ],
   "source": [
    "whos"
   ]
  },
  {
   "cell_type": "markdown",
   "metadata": {},
   "source": [
    "This shows us that the function is there and available.\n",
    "\n",
    "Returning to the function above, how would I modify it to return a different message if firstname is not a string?\n",
    "\n",
    "Now sometimes we want the function to return a value...this is how we do it."
   ]
  },
  {
   "cell_type": "code",
   "execution_count": 17,
   "metadata": {
    "collapsed": true
   },
   "outputs": [],
   "source": [
    "def squareme(number):\n",
    "    \"\"\"\n",
    "    Takes numerical input and returns its square\n",
    "    \"\"\"\n",
    "    return number**2, number        # this is what the function sends back"
   ]
  },
  {
   "cell_type": "code",
   "execution_count": 23,
   "metadata": {
    "collapsed": true
   },
   "outputs": [],
   "source": [
    "x, y = squareme(2)"
   ]
  },
  {
   "cell_type": "code",
   "execution_count": 25,
   "metadata": {},
   "outputs": [
    {
     "data": {
      "text/plain": [
       "2"
      ]
     },
     "execution_count": 25,
     "metadata": {},
     "output_type": "execute_result"
    }
   ],
   "source": [
    "y"
   ]
  },
  {
   "cell_type": "code",
   "execution_count": 26,
   "metadata": {
    "collapsed": true
   },
   "outputs": [],
   "source": [
    "def value_one():               # define the function\n",
    "    return 1.0"
   ]
  },
  {
   "cell_type": "code",
   "execution_count": 27,
   "metadata": {},
   "outputs": [
    {
     "data": {
      "text/plain": [
       "1.0"
      ]
     },
     "execution_count": 27,
     "metadata": {},
     "output_type": "execute_result"
    }
   ],
   "source": [
    "value_one()"
   ]
  },
  {
   "cell_type": "code",
   "execution_count": 28,
   "metadata": {
    "collapsed": true
   },
   "outputs": [],
   "source": [
    "max?"
   ]
  },
  {
   "cell_type": "code",
   "execution_count": null,
   "metadata": {
    "collapsed": true
   },
   "outputs": [],
   "source": [
    "def combine(first, last):\n",
    "    \"\"\"\n",
    "    Takes strings 'first' and 'last' and returns new string 'last, first'\n",
    "    \"\"\"\n",
    "    lastfirst = last + ', ' + first\n",
    "    return lastfirst                    # this is what the function sends back\n",
    "\n",
    "both = combine('Chase', 'Coleman')      # assign the \"return\" to both\n",
    "print(both)"
   ]
  },
  {
   "cell_type": "markdown",
   "metadata": {},
   "source": [
    "- **Exercise.** Create and test a function nextyear that takes an integer year (say 2015) and returns the following year (2016).\n",
    "\n",
    "- **Exercise.** Create and test a function that takes a string year (say, '2015') and returns a string of the next year (say, '2016')."
   ]
  },
  {
   "cell_type": "markdown",
   "metadata": {},
   "source": [
    "- **Exercise.** Write a function that extracts the last letter from a string\n",
    "\n",
    "- **Exercise.** Use the function above and write a program so that last letter of each item in the list names = ['Chase', Dave', 'Sarah', 'Spencer'] is printed\n",
    "\n",
    "- Bonus (optional): Print the last letter only if it's a vowel.\n"
   ]
  },
  {
   "cell_type": "markdown",
   "metadata": {},
   "source": [
    "**Note lets practice this stuff on the [POE Poem](https://github.com/mwaugh0328/data_bootcamp_spring_2018/blob/master/week3/poe_poem.ipynb)**"
   ]
  },
  {
   "cell_type": "code",
   "execution_count": null,
   "metadata": {
    "collapsed": true
   },
   "outputs": [],
   "source": []
  }
 ],
 "metadata": {
  "anaconda-cloud": {},
  "hide_input": false,
  "kernelspec": {
   "display_name": "Python 3",
   "language": "python",
   "name": "python3"
  },
  "language_info": {
   "codemirror_mode": {
    "name": "ipython",
    "version": 3
   },
   "file_extension": ".py",
   "mimetype": "text/x-python",
   "name": "python",
   "nbconvert_exporter": "python",
   "pygments_lexer": "ipython3",
   "version": "3.6.3"
  }
 },
 "nbformat": 4,
 "nbformat_minor": 2
}
