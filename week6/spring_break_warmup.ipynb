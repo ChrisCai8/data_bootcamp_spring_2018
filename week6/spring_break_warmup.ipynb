{
 "cells": [
  {
   "cell_type": "code",
   "execution_count": 28,
   "metadata": {
    "collapsed": true
   },
   "outputs": [],
   "source": [
    "import pandas as pd                 # Our pandas package\n",
    "from pandas_datareader import data  # This is will give us access to FRED\n",
    "import datetime as dt               # This will get us the datatime package\n",
    "import matplotlib.pyplot as plt     # The new package we are learning about Matplotlib\n",
    "                                    # pyplot is just one module of many in this library\n",
    "    \n",
    "%matplotlib inline "
   ]
  },
  {
   "cell_type": "markdown",
   "metadata": {},
   "source": [
    "### Step 1: Do you know how to read in data\n",
    "\n",
    "Create a dataframe by downlaoding data from the following url\n",
    "\n",
    "http://pages.stern.nyu.edu/~dbackus/Data/debt.csv"
   ]
  },
  {
   "cell_type": "markdown",
   "metadata": {},
   "source": [
    "### Step 2: Do you know how to get information about the data set...\n",
    "\n",
    "* What type of object is debt?\n",
    "* What are its dimensions?\n",
    "* What are its column labels? Row labels?\n",
    "* What dtypes are the columns?"
   ]
  },
  {
   "cell_type": "markdown",
   "metadata": {},
   "source": [
    "### Step 3: Do you know how to manipulate a DataFrame...\n",
    "\n",
    "* Set Year as the index.\n",
    "* Change the column labels from country codes to country names. Do this using both a dictionary and a list.\n",
    "* Print the result to verify your changes."
   ]
  },
  {
   "cell_type": "markdown",
   "metadata": {},
   "source": [
    "### Step 4: Do you know how to perform calculations on a DataFrame...\n",
    "\n",
    "* Compute the mean (average) debt for each country.\n",
    "* Compute the mean debt for each year.\n",
    "* Compute the mean debt over both countries and years."
   ]
  },
  {
   "cell_type": "markdown",
   "metadata": {},
   "source": [
    "### Step 5: Do you know how to make simple plots on the DataFrame\n",
    "\n",
    "* Plot each country's debt against Year using a plot method.\n",
    "* Change the linewidth to 2."
   ]
  },
  {
   "cell_type": "markdown",
   "metadata": {},
   "source": [
    "### Step 6: Do you know basics about Matplotlib with the fig, ax approach\n",
    "\n",
    "* Create figure and axis objects with plt.subplots().\n",
    "* Graph public indebtedness over time using our debt data and the axis object we just created.\n",
    "* Change the line width to 2.\n",
    "* Change the colors to ['red', 'green', 'blue'].\n",
    "* By calling a method on the axis object, change the lower limit on the y axis to zero.\n",
    "* By calling a method on the axis object, add a title to the graph.\n",
    "* By calling a method on the axis object, add a label to the y axis -- something like \"Public Debt (% of GDP)\".\n",
    "* Make the line for Argentina thicker than the others. Hint: Do this by plotting a separate line applied to the same axis object."
   ]
  },
  {
   "cell_type": "code",
   "execution_count": null,
   "metadata": {
    "collapsed": true
   },
   "outputs": [],
   "source": []
  }
 ],
 "metadata": {
  "anaconda-cloud": {},
  "hide_input": false,
  "kernelspec": {
   "display_name": "Python [default]",
   "language": "python",
   "name": "python3"
  },
  "language_info": {
   "codemirror_mode": {
    "name": "ipython",
    "version": 3
   },
   "file_extension": ".py",
   "mimetype": "text/x-python",
   "name": "python",
   "nbconvert_exporter": "python",
   "pygments_lexer": "ipython3",
   "version": "3.5.2"
  }
 },
 "nbformat": 4,
 "nbformat_minor": 2
}
